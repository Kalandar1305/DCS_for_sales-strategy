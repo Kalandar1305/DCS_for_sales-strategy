{
 "cells": [
  {
   "cell_type": "code",
   "execution_count": 1,
   "metadata": {},
   "outputs": [
    {
     "name": "stdout",
     "output_type": "stream",
     "text": [
      "MongoDB connection successful!\n"
     ]
    }
   ],
   "source": [
    "from database.mongodb import db\n"
   ]
  },
  {
   "cell_type": "code",
   "execution_count": 2,
   "metadata": {},
   "outputs": [],
   "source": [
    "from sentiment_analysis.tokenizer import customTokenizer\n",
    "from sentiment_analysis.sentiment_analysis import get_sentiment"
   ]
  },
  {
   "cell_type": "code",
   "execution_count": 3,
   "metadata": {},
   "outputs": [],
   "source": [
    "s = db['reviews'].find_one({'product_id': '646795070603aeec8d82f3dd'})['reviews']\n",
    "\n",
    "aspects = ['battery', 'camera', 'performance', 'display', 'graphics', 'processor']\n",
    "aspect_dict = {\n",
    "    'battery': [],\n",
    "    'camera': [],\n",
    "    'performance': [],\n",
    "    'display': [],\n",
    "    'graphics':[],\n",
    "    'processor': []\n",
    "}"
   ]
  },
  {
   "cell_type": "code",
   "execution_count": 4,
   "metadata": {},
   "outputs": [],
   "source": [
    "for review in s: \n",
    "    for sentance in review['content'].split('.'):\n",
    "        for aspect in aspects:\n",
    "            if aspect in sentance.lower():\n",
    "                aspect_dict[aspect].append(sentance)\n"
   ]
  },
  {
   "cell_type": "code",
   "execution_count": 5,
   "metadata": {},
   "outputs": [
    {
     "data": {
      "text/plain": [
       "{'battery': ['and battery is almost working 3 h and display is very awesome',\n",
       "  '75 kg mishandeling could may break the botton lead -after all plastic build in premium series laptop -sound loudness is average -battery backup is not good Same 65 watt adapter in low as well as high end series laptop',\n",
       "  'Performance is good but battery is Average',\n",
       "  'HP laptop okay battery came 3 hours only camara normal',\n",
       "  'very good product by hp but the battery backup is very baddd',\n",
       "  'Every thing is excellent except battery',\n",
       "  'Battery backup arround 3 to 4 hour other wise everything is perfect',\n",
       "  ' Battery back up is also very good and quite contrary to what other customers reported in their reviews',\n",
       "  \" The key shortfall is the battery life that's just over 2+ hours, at this price range one expects at least 3+ hours of backup\",\n",
       "  'Everything is great be it screen display, thin & light ,performance, sound is also amazing but Battery life is very low it only lasts 3',\n",
       "  'Happy with this laptop and everything else is good but battery back-up is not that great',\n",
       "  ' the only issue is with the battery life',\n",
       "  'Within a one month of purchase, it is started showing battery issue',\n",
       "  ' Battery gets drain like a very old laptop battery',\n",
       "  ' Maximum battery backup is 15 minutes',\n",
       "  'Very poor battery life',\n",
       "  'Battery backup is not good it gives only 3hr run time',\n",
       "  'It cost 72k with offers you may get at 68k or 65k but its not value for money at that price range at first it is not a performance laptop so it heat a bit when you use for heavy task and battery life is only 2 hours for heavy task which is very low at that price range',\n",
       "  'Low battery Not bend over 90degrees Not comes with military grade certificate But good thing 1240p proccer Prefer home workers Not suitable studends and Journey lovers',\n",
       "  'I totally disagree with battery life',\n",
       "  ' Two things this one absolutely falls back are the screen (it is really eye-straining) and the battery performance (max 3',\n",
       "  ' Totally useless in terms of battery',\n",
       "  'Battery support is very bad maximum battery backup u get without power saver is 3-3',\n",
       "  'You will only get max 2 hours of battery backup',\n",
       "  'But the worst part about intel laptops nowadays are its battery life , this one gives about 3 hours of life ',\n",
       "  \" Its much better to look at some of ryzen's laptop , battery life is really good on those\"],\n",
       " 'camera': [],\n",
       " 'performance': ['Laptop is in premium segment and pavilion series is best low budget affordable performance and stylish laptop',\n",
       "  ' Pros: -smooth performance -stylish thin design -display is good enough and bright -sound is also good -colour option is marvellous -fast charging available Cons: -build quality is average -bottom lead made up of poor plastic -as it is approx 1',\n",
       "  'Performance is good but battery is Average',\n",
       "  'The laptop is good and great performance',\n",
       "  'The product is very good in performance and full value for money',\n",
       "  'Everything is great be it screen display, thin & light ,performance, sound is also amazing but Battery life is very low it only lasts 3',\n",
       "  'It cost 72k with offers you may get at 68k or 65k but its not value for money at that price range at first it is not a performance laptop so it heat a bit when you use for heavy task and battery life is only 2 hours for heavy task which is very low at that price range',\n",
       "  ' Amazing performance',\n",
       "  ' Two things this one absolutely falls back are the screen (it is really eye-straining) and the battery performance (max 3',\n",
       "  ' The display and performance of the device is very good'],\n",
       " 'display': ['and battery is almost working 3 h and display is very awesome',\n",
       "  ' Pros: -smooth performance -stylish thin design -display is good enough and bright -sound is also good -colour option is marvellous -fast charging available Cons: -build quality is average -bottom lead made up of poor plastic -as it is approx 1',\n",
       "  'Everything is great be it screen display, thin & light ,performance, sound is also amazing but Battery life is very low it only lasts 3',\n",
       "  \"It's a great laptop for coding purpose with good display and ram of 16 GB with 512GB ssd\",\n",
       "  ' The display and performance of the device is very good'],\n",
       " 'graphics': [],\n",
       " 'processor': [\"5 GB on RAM, and the processor along with GPU wasn't even touching 25%\"]}"
      ]
     },
     "execution_count": 5,
     "metadata": {},
     "output_type": "execute_result"
    }
   ],
   "source": [
    "aspect_dict"
   ]
  },
  {
   "cell_type": "code",
   "execution_count": 6,
   "metadata": {},
   "outputs": [
    {
     "ename": "NameError",
     "evalue": "name 'pd' is not defined",
     "output_type": "error",
     "traceback": [
      "\u001b[0;31m---------------------------------------------------------------------------\u001b[0m",
      "\u001b[0;31mNameError\u001b[0m                                 Traceback (most recent call last)",
      "\u001b[0;32m/tmp/ipykernel_10025/1393177298.py\u001b[0m in \u001b[0;36m<module>\u001b[0;34m\u001b[0m\n\u001b[1;32m      5\u001b[0m \u001b[0;31m# graphics_df = pd.DataFrame(aspect_dict['graphics'], columns = ['content'])\u001b[0m\u001b[0;34m\u001b[0m\u001b[0;34m\u001b[0m\u001b[0;34m\u001b[0m\u001b[0m\n\u001b[1;32m      6\u001b[0m \u001b[0;32mfor\u001b[0m \u001b[0maspect\u001b[0m \u001b[0;32min\u001b[0m \u001b[0maspects\u001b[0m\u001b[0;34m:\u001b[0m\u001b[0;34m\u001b[0m\u001b[0;34m\u001b[0m\u001b[0m\n\u001b[0;32m----> 7\u001b[0;31m     \u001b[0maspect_dict\u001b[0m\u001b[0;34m[\u001b[0m\u001b[0maspect\u001b[0m\u001b[0;34m]\u001b[0m \u001b[0;34m=\u001b[0m \u001b[0mpd\u001b[0m\u001b[0;34m.\u001b[0m\u001b[0mDataFrame\u001b[0m\u001b[0;34m(\u001b[0m\u001b[0maspect_dict\u001b[0m\u001b[0;34m[\u001b[0m\u001b[0maspect\u001b[0m\u001b[0;34m]\u001b[0m\u001b[0;34m,\u001b[0m \u001b[0mcolumns\u001b[0m \u001b[0;34m=\u001b[0m \u001b[0;34m[\u001b[0m\u001b[0;34m'content'\u001b[0m\u001b[0;34m]\u001b[0m\u001b[0;34m)\u001b[0m\u001b[0;34m\u001b[0m\u001b[0;34m\u001b[0m\u001b[0m\n\u001b[0m",
      "\u001b[0;31mNameError\u001b[0m: name 'pd' is not defined"
     ]
    }
   ],
   "source": [
    "\n",
    "# batterydf = pd.DataFrame(aspect_dict['battery'], columns=['content'])\n",
    "# camera_df = pd.DataFrame(aspect_dict['camera'], columns = ['content'])\n",
    "# performancedf = pd.DataFrame(aspect_dict['performance'], columns = ['content'])\n",
    "# display_df = pd.DataFrame(aspect_dict['display'], columns = ['content'])\n",
    "# graphics_df = pd.DataFrame(aspect_dict['graphics'], columns = ['content'])\n",
    "for aspect in aspects:\n",
    "    aspect_dict[aspect] = pd.DataFrame(aspect_dict[aspect], columns = ['content'])"
   ]
  },
  {
   "cell_type": "code",
   "execution_count": null,
   "metadata": {},
   "outputs": [],
   "source": [
    "aspect_sentiment = {\n",
    "    'battery': [],\n",
    "    'camera': [],\n",
    "    'performance': [],\n",
    "    'display': []\n",
    "}"
   ]
  },
  {
   "cell_type": "code",
   "execution_count": null,
   "metadata": {},
   "outputs": [
    {
     "name": "stderr",
     "output_type": "stream",
     "text": [
      "[Parallel(n_jobs=1)]: Using backend SequentialBackend with 1 concurrent workers.\n",
      "[Parallel(n_jobs=1)]: Done 100 out of 100 | elapsed:    0.0s finished\n",
      "[Parallel(n_jobs=1)]: Using backend SequentialBackend with 1 concurrent workers.\n",
      "[Parallel(n_jobs=1)]: Done 100 out of 100 | elapsed:    0.0s finished\n",
      "[Parallel(n_jobs=1)]: Using backend SequentialBackend with 1 concurrent workers.\n",
      "[Parallel(n_jobs=1)]: Done 100 out of 100 | elapsed:    0.0s finished\n",
      "[Parallel(n_jobs=1)]: Using backend SequentialBackend with 1 concurrent workers.\n",
      "[Parallel(n_jobs=1)]: Done 100 out of 100 | elapsed:    0.0s finished\n"
     ]
    }
   ],
   "source": [
    "for aspect in aspects:\n",
    "    positive = negative = neutral = 0\n",
    "    if len(aspect_dict[aspect]) > 0:\n",
    "        res = get_sentiment(aspect_dict[aspect])\n",
    "        positive = len(res[res['sentiment'] == 2])\n",
    "        neutral = len(res[res['sentiment'] == 1])\n",
    "        negative = len(res[res['sentiment'] == 0])\n",
    "    aspect_sentiment[aspect] = [positive, neutral, negative]\n",
    "p1 = aspect_sentiment['processor']\n",
    "p2 = aspect_sentiment['performance']\n",
    "aspect_sentiment['performance'] = [ p1[0] + p2[0], p1[1] + p2[1], p1[2]+p2[2] ]\n",
    "del aspect_sentiment['processor']"
   ]
  },
  {
   "cell_type": "code",
   "execution_count": 7,
   "metadata": {},
   "outputs": [],
   "source": [
    "from sentiment_analysis.tokenizer import customTokenizer\n",
    "from sentiment_analysis.sentiment_analysis import get_sentiment\n",
    "from pandas import DataFrame\n",
    "\n",
    "def get_aspect_sentiment(reviews):\n",
    "    aspects = ['battery', 'camera', 'performance', 'display', 'graphics', 'processor']\n",
    "    aspect_dict = {\n",
    "        'battery': [],\n",
    "        'camera': [],\n",
    "        'performance': [],\n",
    "        'display': [],\n",
    "        'graphics':[],\n",
    "        'processor': []\n",
    "    }\n",
    "    aspect_sentiment = {\n",
    "    'battery': [],\n",
    "    'camera': [],\n",
    "    'performance': [],\n",
    "    'display': []\n",
    "    }\n",
    "    for review in reviews: \n",
    "        for sentance in review['content'].split('.'):\n",
    "            for aspect in aspects:\n",
    "                if aspect in sentance.lower():\n",
    "                    aspect_dict[aspect].append(sentance)\n",
    "    for aspect in aspects:\n",
    "        aspect_dict[aspect] = DataFrame(aspect_dict[aspect], columns = ['content'])\n",
    "        for aspect in aspects:\n",
    "            positive = negative = neutral = 0\n",
    "            if len(aspect_dict[aspect]) > 0:\n",
    "                res = get_sentiment(aspect_dict[aspect])\n",
    "                positive = len(res[res['sentiment'] == 2])\n",
    "                neutral = len(res[res['sentiment'] == 1])\n",
    "                negative = len(res[res['sentiment'] == 0])\n",
    "            aspect_sentiment[aspect] = [positive, neutral, negative]\n",
    "        p1 = aspect_sentiment['processor']\n",
    "        p2 = aspect_sentiment['performance']\n",
    "        aspect_sentiment['performance'] = [ p1[0] + p2[0], p1[1] + p2[1], p1[2]+p2[2] ]\n",
    "        del aspect_sentiment['processor']\n",
    "    return aspect_sentiment"
   ]
  },
  {
   "cell_type": "code",
   "execution_count": null,
   "metadata": {},
   "outputs": [],
   "source": []
  }
 ],
 "metadata": {
  "kernelspec": {
   "display_name": "Python 3 (ipykernel)",
   "language": "python",
   "name": "python3"
  },
  "language_info": {
   "codemirror_mode": {
    "name": "ipython",
    "version": 3
   },
   "file_extension": ".py",
   "mimetype": "text/x-python",
   "name": "python",
   "nbconvert_exporter": "python",
   "pygments_lexer": "ipython3",
   "version": "3.8.10"
  },
  "orig_nbformat": 4
 },
 "nbformat": 4,
 "nbformat_minor": 2
}

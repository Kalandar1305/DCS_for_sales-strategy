{
 "cells": [
  {
   "cell_type": "code",
   "execution_count": 1,
   "metadata": {},
   "outputs": [],
   "source": [
    "import numpy as np\n",
    "import pandas as pd\n",
    "from tensorflow.keras.models import Sequential\n",
    "from sklearn.preprocessing import MinMaxScaler\n",
    "from tensorflow.keras import layers"
   ]
  },
  {
   "cell_type": "code",
   "execution_count": 3,
   "metadata": {},
   "outputs": [],
   "source": [
    "data = pd.read_csv(\"scraped_dataset/dynamic_pricing.csv\")"
   ]
  },
  {
   "cell_type": "code",
   "execution_count": 4,
   "metadata": {},
   "outputs": [
    {
     "data": {
      "text/plain": [
       "MinMaxScaler()"
      ]
     },
     "execution_count": 4,
     "metadata": {},
     "output_type": "execute_result"
    }
   ],
   "source": [
    "sales_scaler = MinMaxScaler(feature_range=(0,1))\n",
    "sales_scaler.fit(np.array([30,500]).reshape(-1,1))"
   ]
  },
  {
   "cell_type": "code",
   "execution_count": 5,
   "metadata": {},
   "outputs": [],
   "source": [
    "# Create time series data\n",
    "scaled_data = pd.DataFrame({\n",
    "    'id':[],\n",
    "    'week':[],\n",
    "    'score': [],\n",
    "    'price': [],\n",
    "    'sales':[]\n",
    "})\n",
    "for product_id, group in data.groupby('id'):\n",
    "    init_price = group['price'].iloc[0]\n",
    "    price_range = [(init_price - (0.15 * init_price)) ,(init_price + (0.15 * init_price ))]\n",
    "    scaler = MinMaxScaler(feature_range=(0,1), )\n",
    "    scaler.fit(np.array(price_range).reshape(-1,1))\n",
    "    group['price'] = scaler.transform(group['price'].values.reshape(-1,1))\n",
    "    group['sales'] = sales_scaler.transform(group['sales'].values.reshape(-1,1))\n",
    "    scaled_data = pd.concat([scaled_data, group])"
   ]
  },
  {
   "cell_type": "code",
   "execution_count": 6,
   "metadata": {},
   "outputs": [],
   "source": [
    "# Group the data by product_id and create a dictionary of input/output sequences for each group\n",
    "grouped_data = {}\n",
    "for product_id, group in scaled_data.groupby('id'):\n",
    "    input_seqs = []\n",
    "    output_seqs = []\n",
    "    for i in range(len(group) - 1):\n",
    "        input_seq = group.iloc[i:i+2][['score', 'sales', 'price']].values.tolist()\n",
    "        output_seq = [group.iloc[i+1]['price']]\n",
    "        input_seqs.append(input_seq)\n",
    "        output_seqs.append(output_seq)\n",
    "    if len(input_seq) < 2:\n",
    "        continue\n",
    "    grouped_data[product_id] = (input_seqs, output_seqs)\n"
   ]
  },
  {
   "cell_type": "code",
   "execution_count": 7,
   "metadata": {},
   "outputs": [],
   "source": [
    "delete_ids = []\n",
    "for id in grouped_data:\n",
    "    s= grouped_data[id]\n",
    "    if len(s[0]) == 0:\n",
    "        delete_ids.append(int(id))\n",
    "for id in delete_ids:\n",
    "    del grouped_data[id]"
   ]
  },
  {
   "cell_type": "code",
   "execution_count": 8,
   "metadata": {},
   "outputs": [
    {
     "name": "stdout",
     "output_type": "stream",
     "text": [
      "WARNING:tensorflow:Layer lstm will not use cuDNN kernels since it doesn't meet the criteria. It will use a generic GPU kernel as fallback when running on GPU.\n"
     ]
    }
   ],
   "source": [
    "model = Sequential()\n",
    "model.add(layers.LSTM(50, activation='relu', input_shape=(2, 3)))\n",
    "model.add(layers.Dense(1))\n",
    "model.compile(optimizer='adam', loss='mse')"
   ]
  },
  {
   "cell_type": "code",
   "execution_count": 9,
   "metadata": {},
   "outputs": [],
   "source": [
    "for product_id, data in grouped_data.items():\n",
    "    X = data[0]\n",
    "    y = data[1]\n",
    "    model.fit(X, y, epochs=100, verbose=0)"
   ]
  },
  {
   "cell_type": "code",
   "execution_count": 12,
   "metadata": {},
   "outputs": [
    {
     "name": "stdout",
     "output_type": "stream",
     "text": [
      "INFO:tensorflow:Assets written to: ./dynamic_pricing/assets\n"
     ]
    }
   ],
   "source": [
    "model.save('./dynamic_pricing')"
   ]
  },
  {
   "cell_type": "code",
   "execution_count": 10,
   "metadata": {},
   "outputs": [
    {
     "name": "stdout",
     "output_type": "stream",
     "text": [
      "Product ID 0.0: predicted price for next week is 0.4799378514289856\n",
      "Product ID 1.0: predicted price for next week is 0.5315628051757812\n",
      "Product ID 3.0: predicted price for next week is 0.39526665210723877\n",
      "Product ID 5.0: predicted price for next week is 0.5183670520782471\n",
      "Product ID 6.0: predicted price for next week is 0.41913673281669617\n",
      "Product ID 8.0: predicted price for next week is 0.41792717576026917\n",
      "Product ID 9.0: predicted price for next week is 0.5007126927375793\n",
      "Product ID 10.0: predicted price for next week is 0.5628650188446045\n",
      "Product ID 11.0: predicted price for next week is 0.3838080167770386\n",
      "Product ID 12.0: predicted price for next week is 0.38161367177963257\n",
      "Product ID 14.0: predicted price for next week is 0.5315628051757812\n",
      "Product ID 15.0: predicted price for next week is 0.34842097759246826\n",
      "Product ID 16.0: predicted price for next week is 0.49709922075271606\n",
      "Product ID 17.0: predicted price for next week is 0.5076217651367188\n",
      "Product ID 19.0: predicted price for next week is 0.5306810140609741\n",
      "Product ID 20.0: predicted price for next week is 0.5007126927375793\n",
      "Product ID 21.0: predicted price for next week is 0.5979394912719727\n",
      "Product ID 22.0: predicted price for next week is 0.4962948262691498\n",
      "Product ID 23.0: predicted price for next week is 0.5347467064857483\n",
      "Product ID 25.0: predicted price for next week is 0.024471711367368698\n",
      "Product ID 26.0: predicted price for next week is 0.4304311275482178\n",
      "Product ID 27.0: predicted price for next week is 0.47735530138015747\n",
      "Product ID 28.0: predicted price for next week is 0.49816209077835083\n",
      "Product ID 29.0: predicted price for next week is 0.4343118667602539\n",
      "Product ID 30.0: predicted price for next week is 0.596857488155365\n",
      "Product ID 31.0: predicted price for next week is 0.4459408223628998\n",
      "Product ID 32.0: predicted price for next week is 0.2555895447731018\n",
      "Product ID 33.0: predicted price for next week is 0.37822070717811584\n",
      "Product ID 34.0: predicted price for next week is 0.509811520576477\n",
      "Product ID 35.0: predicted price for next week is 0.3074374794960022\n",
      "Product ID 36.0: predicted price for next week is 0.4504573941230774\n",
      "Product ID 37.0: predicted price for next week is 0.422332227230072\n",
      "Product ID 38.0: predicted price for next week is 0.4248647689819336\n",
      "Product ID 39.0: predicted price for next week is 0.5096724033355713\n",
      "Product ID 40.0: predicted price for next week is 0.5607418417930603\n",
      "Product ID 41.0: predicted price for next week is 0.39001527428627014\n",
      "Product ID 42.0: predicted price for next week is 0.3618135452270508\n",
      "Product ID 43.0: predicted price for next week is 0.538992702960968\n",
      "Product ID 44.0: predicted price for next week is 0.5017678141593933\n",
      "Product ID 45.0: predicted price for next week is 0.49482473731040955\n",
      "Product ID 46.0: predicted price for next week is 0.4967188537120819\n",
      "Product ID 48.0: predicted price for next week is 0.4536646008491516\n",
      "Product ID 49.0: predicted price for next week is 0.4516001343727112\n",
      "Product ID 50.0: predicted price for next week is 0.4418654143810272\n",
      "Product ID 52.0: predicted price for next week is 0.4536646008491516\n",
      "Product ID 53.0: predicted price for next week is 0.4516001343727112\n",
      "Product ID 54.0: predicted price for next week is 0.4418654143810272\n",
      "Product ID 56.0: predicted price for next week is 0.027271166443824768\n",
      "Product ID 57.0: predicted price for next week is 0.37217724323272705\n",
      "Product ID 58.0: predicted price for next week is 0.5059884786605835\n",
      "Product ID 59.0: predicted price for next week is 0.5002703070640564\n",
      "Product ID 60.0: predicted price for next week is 0.41319340467453003\n"
     ]
    }
   ],
   "source": [
    "# prediction\n",
    "for product_id, data in grouped_data.items():\n",
    "    X = data[0]\n",
    "    y = data[1]\n",
    "    new_week = np.array([[[1.0, -2.8239423392966145, 0.5], [1.0, -2.821594590787435, 0.5]], [[1.0, -2.821594590787435, 0.5],[1.0, -2.8208902662346813, 0.48408226510776187]]])\n",
    "    \n",
    "    prediction = model.predict(X)\n",
    "    print(f\"Product ID {product_id}: predicted price for next week is {prediction[-1][0]}\")"
   ]
  },
  {
   "cell_type": "code",
   "execution_count": null,
   "metadata": {},
   "outputs": [],
   "source": []
  }
 ],
 "metadata": {
  "kernelspec": {
   "display_name": "Python 3 (ipykernel)",
   "language": "python",
   "name": "python3"
  },
  "language_info": {
   "codemirror_mode": {
    "name": "ipython",
    "version": 3
   },
   "file_extension": ".py",
   "mimetype": "text/x-python",
   "name": "python",
   "nbconvert_exporter": "python",
   "pygments_lexer": "ipython3",
   "version": "3.11.3"
  }
 },
 "nbformat": 4,
 "nbformat_minor": 2
}

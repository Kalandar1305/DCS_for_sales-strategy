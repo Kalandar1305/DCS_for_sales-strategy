{
 "cells": [
  {
   "cell_type": "code",
   "execution_count": 1,
   "metadata": {},
   "outputs": [],
   "source": [
    "import numpy as np\n",
    "import pandas as pd\n",
    "from sklearn.preprocessing import MinMaxScaler\n",
    "from tensorflow.keras.models import load_model"
   ]
  },
  {
   "cell_type": "code",
   "execution_count": 2,
   "metadata": {},
   "outputs": [
    {
     "name": "stdout",
     "output_type": "stream",
     "text": [
      "WARNING:tensorflow:Layer lstm will not use cuDNN kernels since it doesn't meet the criteria. It will use a generic GPU kernel as fallback when running on GPU.\n"
     ]
    }
   ],
   "source": [
    "sales_scaler = MinMaxScaler(feature_range=(0,1))\n",
    "sales_scaler.fit(np.array([30,500]).reshape(-1,1))\n",
    "loaded_model = load_model('./dynamic_pricing/')\n",
    "\n",
    "# input in the form:  pd.series / list of dict \n",
    "def scale_sales(data): \n",
    "    return pd.Series(sales_scaler.transform(data.values.reshape(-1,1)).flatten(), index=data.index)\n",
    "\n",
    "def inverse_scale_sales(data):\n",
    "    return pd.Series(sales_scaler.inverse_transform(data.values.reshape(-1,1)).flatten(), index=data.index)\n",
    "\n",
    "def scale_price(data, range=[]):\n",
    "    if len(range) == 0:\n",
    "        min = data.min()\n",
    "        max = data.max()\n",
    "    else: \n",
    "        min = range[0]\n",
    "        max = range[1]\n",
    "    scaler = MinMaxScaler(feature_range=(0,1))\n",
    "    scaler.fit(np.array([min,max]).reshape(-1,1))\n",
    "    return pd.Series(scaler.transform(data.values.reshape(-1,1)).flatten(), index=data.index)\n",
    "\n",
    "def inverse_scale_price(data, range):\n",
    "    min = range[0]\n",
    "    max = range[1]\n",
    "    scaler = MinMaxScaler(feature_range=(0,1))\n",
    "    scaler.fit(np.array([min,max]).reshape(-1,1))\n",
    "    return pd.Series(scaler.inverse_transform(data.values.reshape(-1,1)).flatten(), index=data.index)"
   ]
  },
  {
   "cell_type": "code",
   "execution_count": 9,
   "metadata": {},
   "outputs": [],
   "source": [
    "data = pd.read_csv(\"scraped_dataset/dynamic_pricing.csv\")"
   ]
  },
  {
   "cell_type": "code",
   "execution_count": 22,
   "metadata": {},
   "outputs": [],
   "source": [
    "#input should be pandas Dataframe in the order: score, sales, price, Min Two rows\n",
    "def predict_price(X, price_range):\n",
    "    X['sales'] = scale_sales(X['sales'])\n",
    "    X['price'] = scale_price(X['price'], price_range)\n",
    "    actual_X = [[ X.iloc[-2].tolist(), X.iloc[-1].tolist() ]]\n",
    "    result = loaded_model.predict(actual_X)\n",
    "    actual_result = inverse_scale_price(pd.Series(result.flatten()), price_range)[0]\n",
    "    return actual_result"
   ]
  },
  {
   "cell_type": "code",
   "execution_count": 23,
   "metadata": {},
   "outputs": [
    {
     "data": {
      "text/plain": [
       "70657.15"
      ]
     },
     "execution_count": 23,
     "metadata": {},
     "output_type": "execute_result"
    }
   ],
   "source": [
    "X = data[data['id']==0][['score', 'sales', 'price']]\n",
    "range = [X['price'].min(), X['price'].max()]\n",
    "predict_price(X, range)"
   ]
  }
 ],
 "metadata": {
  "kernelspec": {
   "display_name": "Python 3 (ipykernel)",
   "language": "python",
   "name": "python3"
  },
  "language_info": {
   "codemirror_mode": {
    "name": "ipython",
    "version": 3
   },
   "file_extension": ".py",
   "mimetype": "text/x-python",
   "name": "python",
   "nbconvert_exporter": "python",
   "pygments_lexer": "ipython3",
   "version": "3.11.3"
  }
 },
 "nbformat": 4,
 "nbformat_minor": 2
}

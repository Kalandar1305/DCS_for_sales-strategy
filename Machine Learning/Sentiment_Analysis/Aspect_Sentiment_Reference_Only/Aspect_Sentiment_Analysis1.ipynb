{
 "cells": [
  {
   "cell_type": "code",
   "execution_count": null,
   "metadata": {},
   "outputs": [],
   "source": [
    "from os import environ\n",
    "environ['TF_CPP_MIN_LOG_LEVEL'] = '2'"
   ]
  },
  {
   "cell_type": "code",
   "execution_count": 1,
   "metadata": {
    "execution": {
     "iopub.execute_input": "2022-11-07T12:12:20.017578Z",
     "iopub.status.busy": "2022-11-07T12:12:20.017350Z",
     "iopub.status.idle": "2022-11-07T12:12:29.354880Z",
     "shell.execute_reply": "2022-11-07T12:12:29.354091Z",
     "shell.execute_reply.started": "2022-11-07T12:12:20.017551Z"
    }
   },
   "outputs": [
    {
     "name": "stderr",
     "output_type": "stream",
     "text": [
      "2023-05-16 10:02:25.470112: I tensorflow/stream_executor/platform/default/dso_loader.cc:53] Successfully opened dynamic library libcudart.so.11.0\n"
     ]
    }
   ],
   "source": [
    "\n",
    "import numpy as np\n",
    "from sklearn.model_selection import train_test_split\n",
    "\n",
    "import tensorflow.keras as keras\n",
    "from tensorflow.keras.models import Model\n",
    "from tensorflow.keras.layers import Input, Embedding, SpatialDropout1D, Dropout, Conv1D, MaxPool1D, Flatten, concatenate, Dense, \\\n",
    "    LSTM, Bidirectional, Activation, MaxPooling1D, Add, GRU, GlobalAveragePooling1D, GlobalMaxPooling1D, RepeatVector, \\\n",
    "    TimeDistributed, Permute, multiply, Lambda, add, Masking, BatchNormalization, Softmax, Reshape, ReLU, \\\n",
    "    ZeroPadding1D, subtract\n",
    "from tensorflow.keras.preprocessing.sequence import pad_sequences\n",
    "from tensorflow.keras.utils import to_categorical\n",
    "from tensorflow.keras.callbacks import Callback, ModelCheckpoint, EarlyStopping\n",
    "import tensorflow.keras.backend as K\n",
    "import tensorflow as tf\n",
    "from tensorflow.keras import backend as K, initializers, regularizers, constraints\n",
    "\n",
    "\n",
    "# Import our dependencies\n",
    "import tensorflow as tf\n",
    "import pandas as pd\n",
    "# import tensorflow_hub as hub\n",
    "import os\n",
    "import re\n",
    "from tensorflow.keras import backend as K\n",
    "import tensorflow.keras.layers as layers\n",
    "from tensorflow.keras.models import Model, load_model\n",
    "from tensorflow.keras.layers import Layer, InputSpec\n",
    "import numpy as np\n",
    "\n",
    "from statistics import mode\n",
    "\n",
    "import numpy as np # linear algebra\n",
    "import pandas as pd # data processing, CSV file I/O (e.g. pd.read_csv)\n",
    "import matplotlib\n",
    "import matplotlib.pyplot as plt\n",
    "import nltk \n",
    "import seaborn as sns\n",
    "from nltk.tokenize import word_tokenize\n",
    "from nltk.corpus import stopwords\n",
    "%matplotlib inline\n",
    "import tensorflow as tf\n",
    "\n",
    "# Load Huggingface transformers\n",
    "from transformers import TFBertModel,  BertConfig, BertTokenizerFast, TFAutoModel\n",
    "\n",
    "# Then what you need from tensorflow.keras\n",
    "from tensorflow.keras.layers import Input, Dropout, Dense, GlobalAveragePooling1D\n",
    "from tensorflow.keras.callbacks import ReduceLROnPlateau\n",
    "from tensorflow.keras.models import Model\n",
    "from tensorflow.keras.optimizers import Adam\n",
    "from tensorflow.keras.callbacks import EarlyStopping\n",
    "from tensorflow.keras.initializers import TruncatedNormal\n",
    "from tensorflow.keras.losses import CategoricalCrossentropy\n",
    "from tensorflow.keras.metrics import CategoricalAccuracy\n",
    "from tensorflow.keras.utils import to_categorical\n",
    "from sklearn.model_selection import train_test_split\n",
    "\n",
    "from tensorflow.python.keras import backend as K\n",
    "from tensorflow.python.keras.metrics import Metric\n",
    "from tensorflow.python.keras.utils import metrics_utils\n",
    "from tensorflow.python.ops import init_ops\n",
    "from tensorflow.python.ops import math_ops\n",
    "from tensorflow.python.keras.utils.generic_utils import to_list\n",
    "# import tensorflow_hub as hub\n",
    "\n",
    "\n",
    "\n",
    "import re\n",
    "import nltk\n",
    "from nltk.corpus import stopwords\n",
    "\n",
    "# neural\n",
    "from tensorflow.keras.preprocessing.text import Tokenizer\n",
    "from tensorflow.keras.preprocessing.sequence import pad_sequences\n",
    "from tensorflow.keras.layers import Dense, LSTM, Embedding, Dropout\n",
    "from tensorflow.keras.layers import Bidirectional, GlobalMaxPool1D\n",
    "from tensorflow.keras.models import Model, Sequential\n",
    "\n",
    "#Metrics \n",
    "from sklearn.metrics import balanced_accuracy_score\n",
    "\n",
    "from sklearn.feature_extraction.text import TfidfVectorizer\n",
    "# from mlxtend.plotting import plot_confusion_matrix\n",
    "from sklearn.tree import DecisionTreeClassifier\n",
    "from sklearn.metrics import classification_report,confusion_matrix,accuracy_score\n",
    "from sklearn.linear_model import LogisticRegression,SGDClassifier\n",
    "from sklearn.naive_bayes import MultinomialNB\n",
    "from sklearn.ensemble import RandomForestClassifier,GradientBoostingClassifier,AdaBoostClassifier,ExtraTreesClassifier\n"
   ]
  },
  {
   "cell_type": "code",
   "execution_count": 2,
   "metadata": {
    "execution": {
     "iopub.execute_input": "2022-11-07T12:12:29.389344Z",
     "iopub.status.busy": "2022-11-07T12:12:29.389060Z",
     "iopub.status.idle": "2022-11-07T12:12:29.407412Z",
     "shell.execute_reply": "2022-11-07T12:12:29.406658Z",
     "shell.execute_reply.started": "2022-11-07T12:12:29.389308Z"
    }
   },
   "outputs": [],
   "source": [
    "df = pd.read_csv(\"Laptop_Train_v2.csv\", encoding='utf8').dropna()\n",
    "df.columns = ['id', \"Sentence\", \"Aspect Term\", 'polarity', 'from', 'to']\n",
    "df = df[[ \"Sentence\", \"Aspect Term\", 'polarity']]"
   ]
  },
  {
   "cell_type": "code",
   "execution_count": 3,
   "metadata": {
    "execution": {
     "iopub.execute_input": "2022-11-07T12:12:29.435442Z",
     "iopub.status.busy": "2022-11-07T12:12:29.435155Z",
     "iopub.status.idle": "2022-11-07T12:12:29.445622Z",
     "shell.execute_reply": "2022-11-07T12:12:29.444967Z",
     "shell.execute_reply.started": "2022-11-07T12:12:29.435409Z"
    }
   },
   "outputs": [
    {
     "data": {
      "text/html": [
       "<div>\n",
       "<style scoped>\n",
       "    .dataframe tbody tr th:only-of-type {\n",
       "        vertical-align: middle;\n",
       "    }\n",
       "\n",
       "    .dataframe tbody tr th {\n",
       "        vertical-align: top;\n",
       "    }\n",
       "\n",
       "    .dataframe thead th {\n",
       "        text-align: right;\n",
       "    }\n",
       "</style>\n",
       "<table border=\"1\" class=\"dataframe\">\n",
       "  <thead>\n",
       "    <tr style=\"text-align: right;\">\n",
       "      <th></th>\n",
       "      <th>Sentence</th>\n",
       "      <th>Aspect Term</th>\n",
       "      <th>polarity</th>\n",
       "    </tr>\n",
       "  </thead>\n",
       "  <tbody>\n",
       "    <tr>\n",
       "      <th>0</th>\n",
       "      <td>I charge it at night and skip taking the cord ...</td>\n",
       "      <td>cord</td>\n",
       "      <td>neutral</td>\n",
       "    </tr>\n",
       "    <tr>\n",
       "      <th>1</th>\n",
       "      <td>I charge it at night and skip taking the cord ...</td>\n",
       "      <td>battery life</td>\n",
       "      <td>positive</td>\n",
       "    </tr>\n",
       "    <tr>\n",
       "      <th>3</th>\n",
       "      <td>The tech guy then said the service center does...</td>\n",
       "      <td>service center</td>\n",
       "      <td>negative</td>\n",
       "    </tr>\n",
       "    <tr>\n",
       "      <th>4</th>\n",
       "      <td>The tech guy then said the service center does...</td>\n",
       "      <td>\"sales\" team</td>\n",
       "      <td>negative</td>\n",
       "    </tr>\n",
       "    <tr>\n",
       "      <th>5</th>\n",
       "      <td>The tech guy then said the service center does...</td>\n",
       "      <td>tech guy</td>\n",
       "      <td>neutral</td>\n",
       "    </tr>\n",
       "  </tbody>\n",
       "</table>\n",
       "</div>"
      ],
      "text/plain": [
       "                                            Sentence     Aspect Term  polarity\n",
       "0  I charge it at night and skip taking the cord ...            cord   neutral\n",
       "1  I charge it at night and skip taking the cord ...    battery life  positive\n",
       "3  The tech guy then said the service center does...  service center  negative\n",
       "4  The tech guy then said the service center does...    \"sales\" team  negative\n",
       "5  The tech guy then said the service center does...        tech guy   neutral"
      ]
     },
     "execution_count": 3,
     "metadata": {},
     "output_type": "execute_result"
    }
   ],
   "source": [
    "df.head()"
   ]
  },
  {
   "cell_type": "code",
   "execution_count": 4,
   "metadata": {
    "execution": {
     "iopub.execute_input": "2022-11-07T12:23:59.334875Z",
     "iopub.status.busy": "2022-11-07T12:23:59.334112Z",
     "iopub.status.idle": "2022-11-07T12:23:59.347785Z",
     "shell.execute_reply": "2022-11-07T12:23:59.347016Z",
     "shell.execute_reply.started": "2022-11-07T12:23:59.334838Z"
    }
   },
   "outputs": [],
   "source": [
    "df['polarity'].replace(\"positive\", 2, inplace=True)\n",
    "df['polarity'].replace(\"neutral\", 1, inplace=True)\n",
    "df['polarity'].replace(\"negative\", 0, inplace=True)"
   ]
  },
  {
   "cell_type": "code",
   "execution_count": 5,
   "metadata": {
    "execution": {
     "iopub.execute_input": "2022-11-07T12:23:59.368067Z",
     "iopub.status.busy": "2022-11-07T12:23:59.367301Z",
     "iopub.status.idle": "2022-11-07T12:23:59.380181Z",
     "shell.execute_reply": "2022-11-07T12:23:59.379327Z",
     "shell.execute_reply.started": "2022-11-07T12:23:59.368030Z"
    }
   },
   "outputs": [
    {
     "data": {
      "text/html": [
       "<div>\n",
       "<style scoped>\n",
       "    .dataframe tbody tr th:only-of-type {\n",
       "        vertical-align: middle;\n",
       "    }\n",
       "\n",
       "    .dataframe tbody tr th {\n",
       "        vertical-align: top;\n",
       "    }\n",
       "\n",
       "    .dataframe thead th {\n",
       "        text-align: right;\n",
       "    }\n",
       "</style>\n",
       "<table border=\"1\" class=\"dataframe\">\n",
       "  <thead>\n",
       "    <tr style=\"text-align: right;\">\n",
       "      <th></th>\n",
       "      <th>Sentence</th>\n",
       "      <th>Aspect Term</th>\n",
       "      <th>polarity</th>\n",
       "    </tr>\n",
       "  </thead>\n",
       "  <tbody>\n",
       "    <tr>\n",
       "      <th>0</th>\n",
       "      <td>I charge it at night and skip taking the cord ...</td>\n",
       "      <td>cord</td>\n",
       "      <td>1</td>\n",
       "    </tr>\n",
       "    <tr>\n",
       "      <th>1</th>\n",
       "      <td>I charge it at night and skip taking the cord ...</td>\n",
       "      <td>battery life</td>\n",
       "      <td>2</td>\n",
       "    </tr>\n",
       "    <tr>\n",
       "      <th>3</th>\n",
       "      <td>The tech guy then said the service center does...</td>\n",
       "      <td>service center</td>\n",
       "      <td>0</td>\n",
       "    </tr>\n",
       "    <tr>\n",
       "      <th>4</th>\n",
       "      <td>The tech guy then said the service center does...</td>\n",
       "      <td>\"sales\" team</td>\n",
       "      <td>0</td>\n",
       "    </tr>\n",
       "    <tr>\n",
       "      <th>5</th>\n",
       "      <td>The tech guy then said the service center does...</td>\n",
       "      <td>tech guy</td>\n",
       "      <td>1</td>\n",
       "    </tr>\n",
       "  </tbody>\n",
       "</table>\n",
       "</div>"
      ],
      "text/plain": [
       "                                            Sentence     Aspect Term polarity\n",
       "0  I charge it at night and skip taking the cord ...            cord        1\n",
       "1  I charge it at night and skip taking the cord ...    battery life        2\n",
       "3  The tech guy then said the service center does...  service center        0\n",
       "4  The tech guy then said the service center does...    \"sales\" team        0\n",
       "5  The tech guy then said the service center does...        tech guy        1"
      ]
     },
     "execution_count": 5,
     "metadata": {},
     "output_type": "execute_result"
    }
   ],
   "source": [
    "df.head()"
   ]
  },
  {
   "cell_type": "code",
   "execution_count": 6,
   "metadata": {},
   "outputs": [],
   "source": [
    "df.drop(df[df.polarity == 'conflict'].index, inplace = True)"
   ]
  },
  {
   "cell_type": "code",
   "execution_count": 7,
   "metadata": {
    "execution": {
     "iopub.execute_input": "2022-11-07T12:23:59.407821Z",
     "iopub.status.busy": "2022-11-07T12:23:59.407361Z",
     "iopub.status.idle": "2022-11-07T12:23:59.419977Z",
     "shell.execute_reply": "2022-11-07T12:23:59.419323Z",
     "shell.execute_reply.started": "2022-11-07T12:23:59.407786Z"
    }
   },
   "outputs": [
    {
     "data": {
      "text/html": [
       "<div>\n",
       "<style scoped>\n",
       "    .dataframe tbody tr th:only-of-type {\n",
       "        vertical-align: middle;\n",
       "    }\n",
       "\n",
       "    .dataframe tbody tr th {\n",
       "        vertical-align: top;\n",
       "    }\n",
       "\n",
       "    .dataframe thead th {\n",
       "        text-align: right;\n",
       "    }\n",
       "</style>\n",
       "<table border=\"1\" class=\"dataframe\">\n",
       "  <thead>\n",
       "    <tr style=\"text-align: right;\">\n",
       "      <th></th>\n",
       "      <th>Sentence</th>\n",
       "      <th>Aspect Term</th>\n",
       "      <th>polarity</th>\n",
       "    </tr>\n",
       "  </thead>\n",
       "  <tbody>\n",
       "    <tr>\n",
       "      <th>0</th>\n",
       "      <td>I charge it at night and skip taking the cord ...</td>\n",
       "      <td>cord</td>\n",
       "      <td>1</td>\n",
       "    </tr>\n",
       "    <tr>\n",
       "      <th>1</th>\n",
       "      <td>I charge it at night and skip taking the cord ...</td>\n",
       "      <td>battery life</td>\n",
       "      <td>2</td>\n",
       "    </tr>\n",
       "    <tr>\n",
       "      <th>3</th>\n",
       "      <td>The tech guy then said the service center does...</td>\n",
       "      <td>service center</td>\n",
       "      <td>0</td>\n",
       "    </tr>\n",
       "    <tr>\n",
       "      <th>4</th>\n",
       "      <td>The tech guy then said the service center does...</td>\n",
       "      <td>\"sales\" team</td>\n",
       "      <td>0</td>\n",
       "    </tr>\n",
       "    <tr>\n",
       "      <th>5</th>\n",
       "      <td>The tech guy then said the service center does...</td>\n",
       "      <td>tech guy</td>\n",
       "      <td>1</td>\n",
       "    </tr>\n",
       "  </tbody>\n",
       "</table>\n",
       "</div>"
      ],
      "text/plain": [
       "                                            Sentence     Aspect Term polarity\n",
       "0  I charge it at night and skip taking the cord ...            cord        1\n",
       "1  I charge it at night and skip taking the cord ...    battery life        2\n",
       "3  The tech guy then said the service center does...  service center        0\n",
       "4  The tech guy then said the service center does...    \"sales\" team        0\n",
       "5  The tech guy then said the service center does...        tech guy        1"
      ]
     },
     "execution_count": 7,
     "metadata": {},
     "output_type": "execute_result"
    }
   ],
   "source": [
    "df.head()"
   ]
  },
  {
   "cell_type": "code",
   "execution_count": 8,
   "metadata": {
    "execution": {
     "iopub.execute_input": "2022-11-07T12:23:59.465106Z",
     "iopub.status.busy": "2022-11-07T12:23:59.464314Z",
     "iopub.status.idle": "2022-11-07T12:23:59.470104Z",
     "shell.execute_reply": "2022-11-07T12:23:59.469315Z",
     "shell.execute_reply.started": "2022-11-07T12:23:59.465071Z"
    }
   },
   "outputs": [
    {
     "data": {
      "text/plain": [
       "(2313, 3)"
      ]
     },
     "execution_count": 8,
     "metadata": {},
     "output_type": "execute_result"
    }
   ],
   "source": [
    "## Training data shape \n",
    "df.shape"
   ]
  },
  {
   "cell_type": "code",
   "execution_count": 10,
   "metadata": {
    "execution": {
     "iopub.execute_input": "2022-11-07T12:23:59.472604Z",
     "iopub.status.busy": "2022-11-07T12:23:59.472175Z",
     "iopub.status.idle": "2022-11-07T12:23:59.653789Z",
     "shell.execute_reply": "2022-11-07T12:23:59.653113Z",
     "shell.execute_reply.started": "2022-11-07T12:23:59.472569Z"
    }
   },
   "outputs": [
    {
     "data": {
      "text/plain": [
       "<AxesSubplot: >"
      ]
     },
     "execution_count": 10,
     "metadata": {},
     "output_type": "execute_result"
    },
    {
     "data": {
      "image/png": "[encoded data removed]",
      "text/plain": [
       "<Figure size 432x288 with 1 Axes>"
      ]
     },
     "metadata": {
      "needs_background": "light"
     },
     "output_type": "display_data"
    }
   ],
   "source": [
    "# Polarities distribution in our dataset\n",
    "df.polarity.value_counts().sort_values().plot(kind = 'bar')\n"
   ]
  },
  {
   "cell_type": "code",
   "execution_count": 12,
   "metadata": {
    "execution": {
     "iopub.execute_input": "2022-11-07T12:23:59.655629Z",
     "iopub.status.busy": "2022-11-07T12:23:59.655380Z",
     "iopub.status.idle": "2022-11-07T12:23:59.661052Z",
     "shell.execute_reply": "2022-11-07T12:23:59.660155Z",
     "shell.execute_reply.started": "2022-11-07T12:23:59.655596Z"
    }
   },
   "outputs": [],
   "source": [
    "## Convert polarity Values to Integers \n",
    "df[\"polarity\"] = pd.to_numeric(df[\"polarity\"],errors='coerce')\n"
   ]
  },
  {
   "cell_type": "code",
   "execution_count": 13,
   "metadata": {
    "execution": {
     "iopub.execute_input": "2022-11-07T12:23:59.755428Z",
     "iopub.status.busy": "2022-11-07T12:23:59.755192Z",
     "iopub.status.idle": "2022-11-07T12:23:59.764931Z",
     "shell.execute_reply": "2022-11-07T12:23:59.764257Z",
     "shell.execute_reply.started": "2022-11-07T12:23:59.755401Z"
    }
   },
   "outputs": [
    {
     "data": {
      "text/html": [
       "<div>\n",
       "<style scoped>\n",
       "    .dataframe tbody tr th:only-of-type {\n",
       "        vertical-align: middle;\n",
       "    }\n",
       "\n",
       "    .dataframe tbody tr th {\n",
       "        vertical-align: top;\n",
       "    }\n",
       "\n",
       "    .dataframe thead th {\n",
       "        text-align: right;\n",
       "    }\n",
       "</style>\n",
       "<table border=\"1\" class=\"dataframe\">\n",
       "  <thead>\n",
       "    <tr style=\"text-align: right;\">\n",
       "      <th></th>\n",
       "      <th>Sentence</th>\n",
       "      <th>Aspect Term</th>\n",
       "      <th>polarity</th>\n",
       "    </tr>\n",
       "  </thead>\n",
       "  <tbody>\n",
       "    <tr>\n",
       "      <th>0</th>\n",
       "      <td>I charge it at night and skip taking the cord ...</td>\n",
       "      <td>cord</td>\n",
       "      <td>1</td>\n",
       "    </tr>\n",
       "    <tr>\n",
       "      <th>1</th>\n",
       "      <td>I charge it at night and skip taking the cord ...</td>\n",
       "      <td>battery life</td>\n",
       "      <td>2</td>\n",
       "    </tr>\n",
       "    <tr>\n",
       "      <th>3</th>\n",
       "      <td>The tech guy then said the service center does...</td>\n",
       "      <td>service center</td>\n",
       "      <td>0</td>\n",
       "    </tr>\n",
       "    <tr>\n",
       "      <th>4</th>\n",
       "      <td>The tech guy then said the service center does...</td>\n",
       "      <td>\"sales\" team</td>\n",
       "      <td>0</td>\n",
       "    </tr>\n",
       "    <tr>\n",
       "      <th>5</th>\n",
       "      <td>The tech guy then said the service center does...</td>\n",
       "      <td>tech guy</td>\n",
       "      <td>1</td>\n",
       "    </tr>\n",
       "  </tbody>\n",
       "</table>\n",
       "</div>"
      ],
      "text/plain": [
       "                                            Sentence     Aspect Term  polarity\n",
       "0  I charge it at night and skip taking the cord ...            cord         1\n",
       "1  I charge it at night and skip taking the cord ...    battery life         2\n",
       "3  The tech guy then said the service center does...  service center         0\n",
       "4  The tech guy then said the service center does...    \"sales\" team         0\n",
       "5  The tech guy then said the service center does...        tech guy         1"
      ]
     },
     "execution_count": 13,
     "metadata": {},
     "output_type": "execute_result"
    }
   ],
   "source": [
    "## Display our training Dataframe \n",
    "df.head()"
   ]
  },
  {
   "cell_type": "code",
   "execution_count": 14,
   "metadata": {
    "execution": {
     "iopub.execute_input": "2022-11-07T12:24:00.794663Z",
     "iopub.status.busy": "2022-11-07T12:24:00.794227Z",
     "iopub.status.idle": "2022-11-07T12:24:00.803295Z",
     "shell.execute_reply": "2022-11-07T12:24:00.802788Z",
     "shell.execute_reply.started": "2022-11-07T12:24:00.794618Z"
    }
   },
   "outputs": [],
   "source": [
    "## Split the Dataset into Training and Testing Datasets\n",
    "train_df = df\n",
    "X_train, X_test, y_train, y_test = train_test_split(train_df,train_df['polarity'],stratify=train_df['polarity'], test_size=0.2, random_state=1)"
   ]
  },
  {
   "cell_type": "code",
   "execution_count": 17,
   "metadata": {
    "execution": {
     "iopub.execute_input": "2022-11-07T12:24:00.804904Z",
     "iopub.status.busy": "2022-11-07T12:24:00.804512Z",
     "iopub.status.idle": "2022-11-07T12:24:00.811972Z",
     "shell.execute_reply": "2022-11-07T12:24:00.811184Z",
     "shell.execute_reply.started": "2022-11-07T12:24:00.804869Z"
    }
   },
   "outputs": [
    {
     "data": {
      "text/plain": [
       "(1850, (1850,))"
      ]
     },
     "execution_count": 17,
     "metadata": {},
     "output_type": "execute_result"
    }
   ],
   "source": [
    "# the size of the training dataset\n",
    "# Display the shape of the target values!\n",
    "\n",
    "X_train.Sentence.size, y_train.shape\n"
   ]
  },
  {
   "cell_type": "code",
   "execution_count": 18,
   "metadata": {
    "execution": {
     "iopub.execute_input": "2022-11-07T12:24:01.096540Z",
     "iopub.status.busy": "2022-11-07T12:24:01.096267Z",
     "iopub.status.idle": "2022-11-07T12:24:01.102040Z",
     "shell.execute_reply": "2022-11-07T12:24:01.099609Z",
     "shell.execute_reply.started": "2022-11-07T12:24:01.096504Z"
    }
   },
   "outputs": [],
   "source": [
    "NUM_WORDS = 100000 ## MAx of words to keep, based on word frequency.\n",
    "EMBEDDING_SIZE = 128 ## the length of the Vector the will "
   ]
  },
  {
   "cell_type": "code",
   "execution_count": 19,
   "metadata": {
    "execution": {
     "iopub.execute_input": "2022-11-07T12:24:01.276336Z",
     "iopub.status.busy": "2022-11-07T12:24:01.276112Z",
     "iopub.status.idle": "2022-11-07T12:24:01.522960Z",
     "shell.execute_reply": "2022-11-07T12:24:01.522221Z",
     "shell.execute_reply.started": "2022-11-07T12:24:01.276310Z"
    }
   },
   "outputs": [],
   "source": [
    "tokenizer = Tokenizer(num_words=NUM_WORDS,\n",
    "                      filters='!\"#$%&()*+,-./:;<=>?@[\\\\]^_`{|}~\\t\\n',\n",
    "                      lower=True, )\n",
    "## Fit_on_texts : Updates internal vocabulary based on a list of texts.\n",
    "tokenizer.fit_on_texts(list(X_train.Sentence))\n",
    "text_X_train_tokenized = tokenizer.texts_to_sequences(X_train.Sentence) # list of tokenized sentences\n",
    "Aspect_X_train_tokenized = tokenizer.texts_to_sequences(X_train['Aspect Term']) # list of tokenized sentences\n",
    "text_X_test_tokenized = tokenizer.texts_to_sequences(X_test.Sentence) # list of tokenized sentences\n",
    "Aspect_X_test_tokenized = tokenizer.texts_to_sequences(X_test['Aspect Term']) # list of tokenized sentences"
   ]
  },
  {
   "cell_type": "code",
   "execution_count": 20,
   "metadata": {
    "execution": {
     "iopub.execute_input": "2022-11-07T12:24:01.524907Z",
     "iopub.status.busy": "2022-11-07T12:24:01.524579Z",
     "iopub.status.idle": "2022-11-07T12:24:01.531315Z",
     "shell.execute_reply": "2022-11-07T12:24:01.530442Z",
     "shell.execute_reply.started": "2022-11-07T12:24:01.524870Z"
    }
   },
   "outputs": [
    {
     "data": {
      "text/plain": [
       "77"
      ]
     },
     "execution_count": 20,
     "metadata": {},
     "output_type": "execute_result"
    }
   ],
   "source": [
    "##Maximum length of sentences\n",
    "Max_Len =  max([len(one_title) for one_title in text_X_train_tokenized])\n",
    "Max_Len"
   ]
  },
  {
   "cell_type": "code",
   "execution_count": 21,
   "metadata": {
    "execution": {
     "iopub.execute_input": "2022-11-07T12:24:01.547934Z",
     "iopub.status.busy": "2022-11-07T12:24:01.547646Z",
     "iopub.status.idle": "2022-11-07T12:24:01.592771Z",
     "shell.execute_reply": "2022-11-07T12:24:01.592126Z",
     "shell.execute_reply.started": "2022-11-07T12:24:01.547907Z"
    }
   },
   "outputs": [],
   "source": [
    "## Pads sequences(or sentences) to the same length.\n",
    "\n",
    "\n",
    "text_X_train_padded = pad_sequences(text_X_train_tokenized, maxlen=Max_Len)\n",
    "aspect_X_train_padded = pad_sequences(Aspect_X_train_tokenized, maxlen=1)\n",
    "\n",
    "text_X_test_padded = pad_sequences(text_X_test_tokenized, maxlen=Max_Len)\n",
    "aspect_X_test_padded = pad_sequences(Aspect_X_test_tokenized, maxlen=1)\n"
   ]
  },
  {
   "cell_type": "code",
   "execution_count": 23,
   "metadata": {
    "execution": {
     "iopub.execute_input": "2022-11-07T12:24:02.025876Z",
     "iopub.status.busy": "2022-11-07T12:24:02.025661Z",
     "iopub.status.idle": "2022-11-07T12:24:02.031198Z",
     "shell.execute_reply": "2022-11-07T12:24:02.030242Z",
     "shell.execute_reply.started": "2022-11-07T12:24:02.025850Z"
    }
   },
   "outputs": [],
   "source": [
    "## Concatenate the Embedding presentation of the sentences and aspects to Create training and testing dataset \n",
    "train_data =  [text_X_train_padded,aspect_X_train_padded]\n",
    "test_data =   [text_X_test_padded,aspect_X_test_padded]"
   ]
  },
  {
   "cell_type": "markdown",
   "metadata": {},
   "source": [
    "## Attention Mechanism "
   ]
  },
  {
   "cell_type": "code",
   "execution_count": 25,
   "metadata": {
    "execution": {
     "iopub.execute_input": "2022-11-07T12:24:02.542026Z",
     "iopub.status.busy": "2022-11-07T12:24:02.541787Z",
     "iopub.status.idle": "2022-11-07T12:24:02.560840Z",
     "shell.execute_reply": "2022-11-07T12:24:02.560055Z",
     "shell.execute_reply.started": "2022-11-07T12:24:02.541997Z"
    }
   },
   "outputs": [],
   "source": [
    "\n",
    "# modified based on `https://gist.github.com/cbaziotis/7ef97ccf71cbc14366835198c09809d2`\n",
    "class Attention(Layer):\n",
    "    \"\"\"\n",
    "    Attention operation, with a context/query vector, for temporal data.\n",
    "    Supports Masking.\n",
    "    Follows the work of Yang et al. [https://www.cs.cmu.edu/~diyiy/docs/naacl16.pdf]\n",
    "    \"Hierarchical Attention Networks for Document Classification\"\n",
    "    by using a context vector to assist the attention\n",
    "    # Input shape\n",
    "        3D tensor with shape: `(samples, steps, features)`.\n",
    "    # Output shape\n",
    "        2D tensor with shape: `(samples, features)`.\n",
    "    How to use:\n",
    "    Just put it on top of an RNN Layer (GRU/LSTM/SimpleRNN) with return_sequences=True.\n",
    "    The dimensions are inferred based on the output shape of the RNN.\n",
    " e: The layer has been tested with Keras 2.0.6\n",
    "    Example:\n",
    "        model.add(LSTM(64, return_sequences=True))\n",
    "        model.add(AttentionWithContext())\n",
    "        # next add a Dense layer (for classification/regression) or whatever...\n",
    "    \"\"\"\n",
    "\n",
    "    def __init__(self, W_regularizer=None, u_regularizer=None, b_regularizer=None, W_constraint=None,\n",
    "                 u_constraint=None, b_constraint=None, use_W=True, use_bias=False, return_self_attend=False,\n",
    "                 return_attend_weight=True, **kwargs):\n",
    "        self.supports_masking = True\n",
    "\n",
    "        self.init = initializers.get('glorot_uniform')\n",
    "\n",
    "        self.W_regularizer = regularizers.get(W_regularizer)\n",
    "        self.u_regularizer = regularizers.get(u_regularizer)\n",
    "        self.b_regularizer = regularizers.get(b_regularizer)\n",
    "\n",
    "        self.W_constraint = constraints.get(W_constraint)\n",
    "        self.u_constraint = constraints.get(u_constraint)\n",
    "        self.b_constraint = constraints.get(b_constraint)\n",
    "\n",
    "        self.use_W = use_W\n",
    "        self.use_bias = use_bias\n",
    "        self.return_self_attend = return_self_attend    # whether perform self attention and return it\n",
    "        self.return_attend_weight = return_attend_weight    # whether return attention weight\n",
    "        super(Attention, self).__init__(**kwargs)\n",
    "\n",
    "    def build(self, input_shape):\n",
    "        assert len(input_shape) == 3\n",
    "\n",
    "        if self.use_W:\n",
    "            self.W = self.add_weight(shape=(input_shape[-1], input_shape[-1],),  initializer=self.init,\n",
    "                                     name='{}_W'.format(self.name), regularizer=self.W_regularizer,\n",
    "                                     constraint=self.W_constraint)\n",
    "        if self.use_bias:\n",
    "            self.b = self.add_weight(shape=(input_shape[1],), initializer='zero', name='{}_b'.format(self.name),\n",
    "                                     regularizer=self.b_regularizer, constraint=self.b_constraint)\n",
    "\n",
    "        self.u = self.add_weight(shape=(input_shape[-1],), initializer=self.init, name='{}_u'.format(self.name),\n",
    "                                 regularizer=self.u_regularizer, constraint=self.u_constraint)\n",
    "        \n",
    "        super(Attention, self).build(input_shape)\n",
    "\n",
    "    def compute_mask(self, input, input_mask=None):\n",
    "        # do not pass the mask to the next layers\n",
    "        return None\n",
    "\n",
    "    def call(self, x, mask=None):\n",
    "        if self.use_W:\n",
    "            x = K.tanh(K.dot(x, self.W))\n",
    "\n",
    "        ait = Attention.dot_product(x, self.u)\n",
    "        if self.use_bias:\n",
    "            ait += self.b\n",
    "\n",
    "        a = K.exp(ait)\n",
    "\n",
    "        # apply mask after the exp. will be re-normalized next\n",
    "        if mask is not None:\n",
    "            # Cast the mask to floatX to avoid float64 upcasting in theano\n",
    "            a *= K.cast(mask, K.floatx())\n",
    "\n",
    "        # in some cases especially in the early stages of training the sum may be almost zero\n",
    "        # and this results in NaN's. A workaround is to add a very small positive number ε to the sum.\n",
    "        # a /= K.cast(K.sum(a, axis=1, keepdims=True), K.floatx())\n",
    "        a /= K.cast(K.sum(a, axis=1, keepdims=True) + K.epsilon(), K.floatx())\n",
    "\n",
    "        if self.return_self_attend:\n",
    "            attend_output = K.sum(x * K.expand_dims(a), axis=1)\n",
    "            if self.return_attend_weight:\n",
    "                return [attend_output, a]\n",
    "            else:\n",
    "                return attend_output\n",
    "        else:\n",
    "            return a\n",
    "\n",
    "    def compute_output_shape(self, input_shape):\n",
    "        if self.return_self_attend:\n",
    "            if self.return_attend_weight:\n",
    "                return [(input_shape[0], input_shape[-1]), (input_shape[0], input_shape[1])]\n",
    "            else:\n",
    "                return input_shape[0], input_shape[-1]\n",
    "        else:\n",
    "            return input_shape[0], input_shape[1]\n",
    "\n",
    "    @staticmethod\n",
    "    def dot_product(x, kernel):\n",
    "        \"\"\"\n",
    "        Wrapper for dot product operation, in order to be compatible with both\n",
    "        Theano and Tensorflow\n",
    "        Args:\n",
    "            x (): input\n",
    "            kernel (): weights\n",
    "        Returns:\n",
    "        \"\"\"\n",
    "        if K.backend() == 'tensorflow':\n",
    "            return K.squeeze(K.dot(x, K.expand_dims(kernel)), axis=-1)\n",
    "        else:\n",
    "            return K.dot(x, kernel)"
   ]
  },
  {
   "cell_type": "markdown",
   "metadata": {},
   "source": [
    "## LSTM with Aspect Embedding"
   ]
  },
  {
   "cell_type": "code",
   "execution_count": 26,
   "metadata": {
    "execution": {
     "iopub.execute_input": "2022-11-07T12:24:03.198378Z",
     "iopub.status.busy": "2022-11-07T12:24:03.198102Z",
     "iopub.status.idle": "2022-11-07T12:24:03.205429Z",
     "shell.execute_reply": "2022-11-07T12:24:03.204424Z",
     "shell.execute_reply.started": "2022-11-07T12:24:03.198348Z"
    }
   },
   "outputs": [],
   "source": [
    "def ae_lstm(lstm_units = 512):\n",
    "    input_text = Input(shape=(Max_Len,))\n",
    "    input_aspect = Input(shape=(1,),)\n",
    "    \n",
    "    word_embedding = Embedding(NUM_WORDS, EMBEDDING_SIZE, input_length=Max_Len)\n",
    "    text_embed = SpatialDropout1D(0.2)(word_embedding(input_text))\n",
    "    \n",
    "    asp_embedding = Embedding(NUM_WORDS, EMBEDDING_SIZE, input_length=Max_Len)\n",
    "    aspect_embed = asp_embedding(input_aspect)\n",
    "    input_shape = aspect_embed.shape.as_list()\n",
    "\n",
    "# Reshape the tensor to have a known batch size\n",
    "    aspect_embed = tf.reshape(aspect_embed, shape=(-1, input_shape[1], input_shape[2]))\n",
    "    \n",
    "    \n",
    "    aspect_embed = Flatten()(aspect_embed)  # reshape to 2d\n",
    "    repeat_aspect = RepeatVector(Max_Len)(aspect_embed)  # repeat aspect for every word in sequence\n",
    "\n",
    "    input_concat = concatenate([text_embed, repeat_aspect], axis=-1)\n",
    "    hidden = LSTM(lstm_units)(input_concat)\n",
    "    Dense_layer  = Dense(128, activation='relu')(hidden)\n",
    "    output_layer = Dense(3, activation='softmax')(Dense_layer)\n",
    "    return Model([input_text, input_aspect], output_layer)"
   ]
  },
  {
   "cell_type": "code",
   "execution_count": 27,
   "metadata": {
    "execution": {
     "iopub.execute_input": "2022-11-07T12:24:03.343951Z",
     "iopub.status.busy": "2022-11-07T12:24:03.343627Z",
     "iopub.status.idle": "2022-11-07T12:24:03.754703Z",
     "shell.execute_reply": "2022-11-07T12:24:03.753929Z",
     "shell.execute_reply.started": "2022-11-07T12:24:03.343922Z"
    }
   },
   "outputs": [
    {
     "name": "stderr",
     "output_type": "stream",
     "text": [
      "2023-05-16 10:04:07.425080: I tensorflow/stream_executor/platform/default/dso_loader.cc:53] Successfully opened dynamic library libcuda.so.1\n",
      "2023-05-16 10:04:07.462085: I tensorflow/core/common_runtime/gpu/gpu_device.cc:1734] Found device 0 with properties: \n",
      "pciBusID: 0000:02:00.0 name: Tesla P100-PCIE-12GB computeCapability: 6.0\n",
      "coreClock: 1.3285GHz coreCount: 56 deviceMemorySize: 11.91GiB deviceMemoryBandwidth: 511.41GiB/s\n",
      "2023-05-16 10:04:07.462782: I tensorflow/core/common_runtime/gpu/gpu_device.cc:1734] Found device 1 with properties: \n",
      "pciBusID: 0000:81:00.0 name: Tesla P100-PCIE-12GB computeCapability: 6.0\n",
      "coreClock: 1.3285GHz coreCount: 56 deviceMemorySize: 11.91GiB deviceMemoryBandwidth: 511.41GiB/s\n",
      "2023-05-16 10:04:07.462825: I tensorflow/stream_executor/platform/default/dso_loader.cc:53] Successfully opened dynamic library libcudart.so.11.0\n",
      "2023-05-16 10:04:07.470214: I tensorflow/stream_executor/platform/default/dso_loader.cc:53] Successfully opened dynamic library libcublas.so.11\n",
      "2023-05-16 10:04:07.470290: I tensorflow/stream_executor/platform/default/dso_loader.cc:53] Successfully opened dynamic library libcublasLt.so.11\n",
      "2023-05-16 10:04:07.472006: I tensorflow/stream_executor/platform/default/dso_loader.cc:53] Successfully opened dynamic library libcufft.so.10\n",
      "2023-05-16 10:04:07.472453: I tensorflow/stream_executor/platform/default/dso_loader.cc:53] Successfully opened dynamic library libcurand.so.10\n",
      "2023-05-16 10:04:07.473449: I tensorflow/stream_executor/platform/default/dso_loader.cc:53] Successfully opened dynamic library libcusolver.so.11\n",
      "2023-05-16 10:04:07.474996: I tensorflow/stream_executor/platform/default/dso_loader.cc:53] Successfully opened dynamic library libcusparse.so.11\n",
      "2023-05-16 10:04:07.475250: I tensorflow/stream_executor/platform/default/dso_loader.cc:53] Successfully opened dynamic library libcudnn.so.8\n",
      "2023-05-16 10:04:07.479124: I tensorflow/core/common_runtime/gpu/gpu_device.cc:1872] Adding visible gpu devices: 0, 1\n",
      "2023-05-16 10:04:07.868606: I tensorflow/core/common_runtime/gpu/gpu_device.cc:1734] Found device 0 with properties: \n",
      "pciBusID: 0000:02:00.0 name: Tesla P100-PCIE-12GB computeCapability: 6.0\n",
      "coreClock: 1.3285GHz coreCount: 56 deviceMemorySize: 11.91GiB deviceMemoryBandwidth: 511.41GiB/s\n",
      "2023-05-16 10:04:07.869293: I tensorflow/core/common_runtime/gpu/gpu_device.cc:1734] Found device 1 with properties: \n",
      "pciBusID: 0000:81:00.0 name: Tesla P100-PCIE-12GB computeCapability: 6.0\n",
      "coreClock: 1.3285GHz coreCount: 56 deviceMemorySize: 11.91GiB deviceMemoryBandwidth: 511.41GiB/s\n",
      "2023-05-16 10:04:07.872950: I tensorflow/core/common_runtime/gpu/gpu_device.cc:1872] Adding visible gpu devices: 0, 1\n",
      "2023-05-16 10:04:07.873030: I tensorflow/stream_executor/platform/default/dso_loader.cc:53] Successfully opened dynamic library libcudart.so.11.0\n",
      "2023-05-16 10:04:09.903811: I tensorflow/core/common_runtime/gpu/gpu_device.cc:1258] Device interconnect StreamExecutor with strength 1 edge matrix:\n",
      "2023-05-16 10:04:09.903881: I tensorflow/core/common_runtime/gpu/gpu_device.cc:1264]      0 1 \n",
      "2023-05-16 10:04:09.903896: I tensorflow/core/common_runtime/gpu/gpu_device.cc:1277] 0:   N N \n",
      "2023-05-16 10:04:09.903906: I tensorflow/core/common_runtime/gpu/gpu_device.cc:1277] 1:   N N \n",
      "2023-05-16 10:04:09.909392: I tensorflow/core/common_runtime/gpu/gpu_device.cc:1418] Created TensorFlow device (/job:localhost/replica:0/task:0/device:GPU:0 with 11264 MB memory) -> physical GPU (device: 0, name: Tesla P100-PCIE-12GB, pci bus id: 0000:02:00.0, compute capability: 6.0)\n",
      "2023-05-16 10:04:09.910578: I tensorflow/core/common_runtime/gpu/gpu_device.cc:1418] Created TensorFlow device (/job:localhost/replica:0/task:0/device:GPU:1 with 4 MB memory) -> physical GPU (device: 1, name: Tesla P100-PCIE-12GB, pci bus id: 0000:81:00.0, compute capability: 6.0)\n"
     ]
    },
    {
     "name": "stdout",
     "output_type": "stream",
     "text": [
      "Model: \"model\"\n",
      "__________________________________________________________________________________________________\n",
      "Layer (type)                    Output Shape         Param #     Connected to                     \n",
      "==================================================================================================\n",
      "input_2 (InputLayer)            [(None, 1)]          0                                            \n",
      "__________________________________________________________________________________________________\n",
      "embedding_1 (Embedding)         (None, 1, 128)       12800000    input_2[0][0]                    \n",
      "__________________________________________________________________________________________________\n",
      "input_1 (InputLayer)            [(None, 77)]         0                                            \n",
      "__________________________________________________________________________________________________\n",
      "tf.reshape (TFOpLambda)         (None, 1, 128)       0           embedding_1[0][0]                \n",
      "__________________________________________________________________________________________________\n",
      "embedding (Embedding)           (None, 77, 128)      12800000    input_1[0][0]                    \n",
      "__________________________________________________________________________________________________\n",
      "flatten (Flatten)               (None, 128)          0           tf.reshape[0][0]                 \n",
      "__________________________________________________________________________________________________\n",
      "spatial_dropout1d (SpatialDropo (None, 77, 128)      0           embedding[0][0]                  \n",
      "__________________________________________________________________________________________________\n",
      "repeat_vector (RepeatVector)    (None, 77, 128)      0           flatten[0][0]                    \n",
      "__________________________________________________________________________________________________\n",
      "concatenate (Concatenate)       (None, 77, 256)      0           spatial_dropout1d[0][0]          \n",
      "                                                                 repeat_vector[0][0]              \n",
      "__________________________________________________________________________________________________\n",
      "lstm (LSTM)                     (None, 512)          1574912     concatenate[0][0]                \n",
      "__________________________________________________________________________________________________\n",
      "dense (Dense)                   (None, 128)          65664       lstm[0][0]                       \n",
      "__________________________________________________________________________________________________\n",
      "dense_1 (Dense)                 (None, 3)            387         dense[0][0]                      \n",
      "==================================================================================================\n",
      "Total params: 27,240,963\n",
      "Trainable params: 27,240,963\n",
      "Non-trainable params: 0\n",
      "__________________________________________________________________________________________________\n"
     ]
    }
   ],
   "source": [
    "ae_lstm_model = ae_lstm()\n",
    "ae_lstm_model.summary()"
   ]
  },
  {
   "cell_type": "code",
   "execution_count": 28,
   "metadata": {
    "execution": {
     "iopub.execute_input": "2022-11-07T12:24:04.631730Z",
     "iopub.status.busy": "2022-11-07T12:24:04.631118Z",
     "iopub.status.idle": "2022-11-07T12:24:04.870323Z",
     "shell.execute_reply": "2022-11-07T12:24:04.869424Z",
     "shell.execute_reply.started": "2022-11-07T12:24:04.631686Z"
    }
   },
   "outputs": [
    {
     "name": "stdout",
     "output_type": "stream",
     "text": [
      "('You must install pydot (`pip install pydot`) and install graphviz (see instructions at https://graphviz.gitlab.io/download/) ', 'for plot_model/model_to_dot to work.')\n"
     ]
    }
   ],
   "source": [
    "dot_img_file = 'model_1.png'\n",
    "tf.keras.utils.plot_model(ae_lstm_model, to_file=dot_img_file, show_shapes=True)\n"
   ]
  },
  {
   "cell_type": "code",
   "execution_count": 29,
   "metadata": {
    "execution": {
     "iopub.execute_input": "2022-11-07T12:24:05.880379Z",
     "iopub.status.busy": "2022-11-07T12:24:05.879742Z",
     "iopub.status.idle": "2022-11-07T12:24:05.887255Z",
     "shell.execute_reply": "2022-11-07T12:24:05.886549Z",
     "shell.execute_reply.started": "2022-11-07T12:24:05.880335Z"
    }
   },
   "outputs": [
    {
     "data": {
      "text/plain": [
       "1850"
      ]
     },
     "execution_count": 29,
     "metadata": {},
     "output_type": "execute_result"
    }
   ],
   "source": [
    "y_train.size"
   ]
  },
  {
   "cell_type": "code",
   "execution_count": 30,
   "metadata": {
    "execution": {
     "iopub.execute_input": "2022-11-07T12:24:06.852100Z",
     "iopub.status.busy": "2022-11-07T12:24:06.851783Z",
     "iopub.status.idle": "2022-11-07T12:26:11.946726Z",
     "shell.execute_reply": "2022-11-07T12:26:11.945970Z",
     "shell.execute_reply.started": "2022-11-07T12:24:06.852055Z"
    }
   },
   "outputs": [
    {
     "name": "stderr",
     "output_type": "stream",
     "text": [
      "2023-05-16 10:04:22.864591: I tensorflow/compiler/mlir/mlir_graph_optimization_pass.cc:176] None of the MLIR Optimization Passes are enabled (registered 2)\n",
      "2023-05-16 10:04:22.885354: I tensorflow/core/platform/profile_utils/cpu_utils.cc:114] CPU Frequency: 1699915000 Hz\n"
     ]
    },
    {
     "name": "stdout",
     "output_type": "stream",
     "text": [
      "Epoch 1/20\n"
     ]
    },
    {
     "name": "stderr",
     "output_type": "stream",
     "text": [
      "2023-05-16 10:04:25.411469: I tensorflow/stream_executor/platform/default/dso_loader.cc:53] Successfully opened dynamic library libcudnn.so.8\n",
      "2023-05-16 10:04:25.950503: I tensorflow/stream_executor/cuda/cuda_dnn.cc:380] Loaded cuDNN version 8201\n",
      "2023-05-16 10:04:26.081527: I tensorflow/stream_executor/platform/default/dso_loader.cc:53] Successfully opened dynamic library libcublas.so.11\n",
      "2023-05-16 10:04:26.639547: I tensorflow/stream_executor/platform/default/dso_loader.cc:53] Successfully opened dynamic library libcublasLt.so.11\n"
     ]
    },
    {
     "name": "stdout",
     "output_type": "stream",
     "text": [
      "116/116 [==============================] - 28s 208ms/step - loss: 1.2268 - accuracy: 0.4070 - val_loss: 1.0365 - val_accuracy: 0.5659\n",
      "Epoch 2/20\n",
      "116/116 [==============================] - 23s 197ms/step - loss: 0.9135 - accuracy: 0.6168 - val_loss: 0.9845 - val_accuracy: 0.5594\n",
      "\n",
      "Epoch 00002: ReduceLROnPlateau reducing learning rate to 0.0009999999776482583.\n",
      "Epoch 3/20\n",
      "116/116 [==============================] - 23s 199ms/step - loss: 0.8078 - accuracy: 0.7054 - val_loss: 0.9733 - val_accuracy: 0.5659\n",
      "\n",
      "Epoch 00003: ReduceLROnPlateau reducing learning rate to 9.999999310821295e-05.\n",
      "Epoch 4/20\n",
      "116/116 [==============================] - 23s 197ms/step - loss: 0.7727 - accuracy: 0.7189 - val_loss: 0.9811 - val_accuracy: 0.5594\n",
      "\n",
      "Epoch 00004: ReduceLROnPlateau reducing learning rate to 9.999999019782991e-06.\n",
      "Epoch 5/20\n",
      "116/116 [==============================] - 23s 199ms/step - loss: 0.7683 - accuracy: 0.7216 - val_loss: 0.9811 - val_accuracy: 0.5594\n",
      "\n",
      "Epoch 00005: ReduceLROnPlateau reducing learning rate to 1e-06.\n",
      "Epoch 6/20\n",
      "116/116 [==============================] - 23s 198ms/step - loss: 0.7679 - accuracy: 0.7216 - val_loss: 0.9812 - val_accuracy: 0.5594\n",
      "Epoch 7/20\n",
      "116/116 [==============================] - 23s 198ms/step - loss: 0.7681 - accuracy: 0.7189 - val_loss: 0.9812 - val_accuracy: 0.5594\n",
      "Epoch 8/20\n",
      "116/116 [==============================] - 23s 197ms/step - loss: 0.7682 - accuracy: 0.7216 - val_loss: 0.9813 - val_accuracy: 0.5594\n",
      "Epoch 9/20\n",
      "116/116 [==============================] - 23s 198ms/step - loss: 0.7669 - accuracy: 0.7200 - val_loss: 0.9813 - val_accuracy: 0.5594\n",
      "Epoch 10/20\n",
      "116/116 [==============================] - 23s 199ms/step - loss: 0.7675 - accuracy: 0.7195 - val_loss: 0.9814 - val_accuracy: 0.5594\n",
      "Epoch 11/20\n",
      "116/116 [==============================] - 23s 197ms/step - loss: 0.7672 - accuracy: 0.7205 - val_loss: 0.9814 - val_accuracy: 0.5594\n",
      "Epoch 12/20\n",
      "116/116 [==============================] - 23s 198ms/step - loss: 0.7668 - accuracy: 0.7195 - val_loss: 0.9814 - val_accuracy: 0.5594\n",
      "Epoch 13/20\n",
      "116/116 [==============================] - 23s 198ms/step - loss: 0.7671 - accuracy: 0.7216 - val_loss: 0.9815 - val_accuracy: 0.5594\n",
      "Epoch 14/20\n",
      "116/116 [==============================] - 23s 199ms/step - loss: 0.7672 - accuracy: 0.7211 - val_loss: 0.9815 - val_accuracy: 0.5594\n",
      "Epoch 15/20\n",
      "116/116 [==============================] - 23s 199ms/step - loss: 0.7668 - accuracy: 0.7205 - val_loss: 0.9816 - val_accuracy: 0.5594\n",
      "Epoch 16/20\n",
      "116/116 [==============================] - 23s 199ms/step - loss: 0.7676 - accuracy: 0.7195 - val_loss: 0.9816 - val_accuracy: 0.5594\n",
      "Epoch 17/20\n",
      "116/116 [==============================] - 23s 197ms/step - loss: 0.7665 - accuracy: 0.7216 - val_loss: 0.9817 - val_accuracy: 0.5594\n",
      "Epoch 18/20\n",
      "116/116 [==============================] - 23s 197ms/step - loss: 0.7662 - accuracy: 0.7211 - val_loss: 0.9817 - val_accuracy: 0.5594\n",
      "Epoch 19/20\n",
      "116/116 [==============================] - 23s 200ms/step - loss: 0.7667 - accuracy: 0.7216 - val_loss: 0.9818 - val_accuracy: 0.5594\n",
      "Epoch 20/20\n",
      "116/116 [==============================] - 23s 201ms/step - loss: 0.7671 - accuracy: 0.7200 - val_loss: 0.9819 - val_accuracy: 0.5594\n"
     ]
    }
   ],
   "source": [
    "learning_rate_reduction = ReduceLROnPlateau(monitor='val_accuracy',\n",
    "                                                    patience = 1,\n",
    "                                                    verbose=1,\n",
    "                                                    factor=0.1,\n",
    "                                                    min_lr=0.000001)\n",
    "from tensorflow import keras\n",
    "\n",
    "opt = keras.optimizers.Adam(learning_rate=0.01)\n",
    "\n",
    "ae_lstm_model.compile(loss='sparse_categorical_crossentropy', metrics=['accuracy'], optimizer=opt)\n",
    "history =  ae_lstm_model.fit(x = train_data, y = y_train,validation_data = (test_data, y_test), batch_size=16, epochs=20, callbacks = [learning_rate_reduction])"
   ]
  },
  {
   "cell_type": "code",
   "execution_count": 31,
   "metadata": {
    "execution": {
     "iopub.execute_input": "2022-11-07T12:18:32.426879Z",
     "iopub.status.busy": "2022-11-07T12:18:32.426601Z",
     "iopub.status.idle": "2022-11-07T12:18:32.790891Z",
     "shell.execute_reply": "2022-11-07T12:18:32.790136Z",
     "shell.execute_reply.started": "2022-11-07T12:18:32.426848Z"
    }
   },
   "outputs": [
    {
     "name": "stdout",
     "output_type": "stream",
     "text": [
      "(1, 77)\n"
     ]
    },
    {
     "data": {
      "text/plain": [
       "array([[0.3950421 , 0.30223602, 0.30272183]], dtype=float32)"
      ]
     },
     "execution_count": 31,
     "metadata": {},
     "output_type": "execute_result"
    }
   ],
   "source": [
    "val_data =   [text_X_test_padded[6].reshape(1,Max_Len),aspect_X_test_padded[6]]\n",
    "print(val_data[0].shape)\n",
    "ae_lstm_model.predict(val_data)"
   ]
  },
  {
   "cell_type": "code",
   "execution_count": 47,
   "metadata": {
    "execution": {
     "iopub.execute_input": "2022-11-07T12:18:37.307605Z",
     "iopub.status.busy": "2022-11-07T12:18:37.307331Z",
     "iopub.status.idle": "2022-11-07T12:18:37.311772Z",
     "shell.execute_reply": "2022-11-07T12:18:37.311068Z",
     "shell.execute_reply.started": "2022-11-07T12:18:37.307573Z"
    }
   },
   "outputs": [],
   "source": [
    "from sklearn.metrics import ConfusionMatrixDisplay\n",
    "from sklearn.metrics import confusion_matrix"
   ]
  },
  {
   "cell_type": "code",
   "execution_count": 32,
   "metadata": {
    "execution": {
     "iopub.execute_input": "2022-11-07T12:18:37.521256Z",
     "iopub.status.busy": "2022-11-07T12:18:37.520820Z",
     "iopub.status.idle": "2022-11-07T12:18:37.708016Z",
     "shell.execute_reply": "2022-11-07T12:18:37.707336Z",
     "shell.execute_reply.started": "2022-11-07T12:18:37.521221Z"
    }
   },
   "outputs": [
    {
     "name": "stdout",
     "output_type": "stream",
     "text": [
      "Evaluate on test data\n",
      "15/15 [==============================] - 0s 8ms/step - loss: 0.9819 - accuracy: 0.5594\n",
      "test loss, test acc: [0.9818634390830994, 0.5593952536582947]\n",
      "Accuracy of the model is -  55.93952536582947 %\n"
     ]
    }
   ],
   "source": [
    "print(\"Evaluate on test data\")\n",
    "results = ae_lstm_model.evaluate(x = test_data , y = y_test )\n",
    "print(\"test loss, test acc:\", results)\n",
    "print(\"Accuracy of the model is - \" , results[1]*100 , \"%\")"
   ]
  },
  {
   "cell_type": "code",
   "execution_count": 49,
   "metadata": {
    "execution": {
     "iopub.execute_input": "2022-11-07T12:20:13.027640Z",
     "iopub.status.busy": "2022-11-07T12:20:13.026915Z",
     "iopub.status.idle": "2022-11-07T12:20:13.331200Z",
     "shell.execute_reply": "2022-11-07T12:20:13.330487Z",
     "shell.execute_reply.started": "2022-11-07T12:20:13.027580Z"
    }
   },
   "outputs": [
    {
     "data": {
      "image/png": "[encoded data removed]",
      "text/plain": [
       "<Figure size 432x288 with 2 Axes>"
      ]
     },
     "metadata": {
      "needs_background": "light"
     },
     "output_type": "display_data"
    }
   ],
   "source": [
    "from matplotlib import pyplot\n",
    "\n",
    "# plot loss during training\n",
    "pyplot.subplot(211)\n",
    "pyplot.title('Loss')\n",
    "pyplot.plot(history.history['loss'], label='train')\n",
    "pyplot.plot(history.history['val_loss'], label='test')\n",
    "pyplot.legend()\n",
    "# plot accuracy during training\n",
    "pyplot.subplot(212)\n",
    "pyplot.title('Accuracy')\n",
    "pyplot.plot(history.history['accuracy'], label='train')\n",
    "pyplot.plot(history.history['val_accuracy'], label='test')\n",
    "pyplot.legend()\n",
    "pyplot.show()"
   ]
  },
  {
   "cell_type": "markdown",
   "metadata": {},
   "source": [
    "##  Attention-based LSTM (AT-LSTM)"
   ]
  },
  {
   "cell_type": "code",
   "execution_count": 53,
   "metadata": {
    "execution": {
     "iopub.execute_input": "2022-11-07T12:20:14.743473Z",
     "iopub.status.busy": "2022-11-07T12:20:14.743108Z",
     "iopub.status.idle": "2022-11-07T12:20:14.758977Z",
     "shell.execute_reply": "2022-11-07T12:20:14.758025Z",
     "shell.execute_reply.started": "2022-11-07T12:20:14.743434Z"
    }
   },
   "outputs": [],
   "source": [
    "def at_lstm(lstm_units = 512):\n",
    "        input_text = Input(shape=(Max_Len,))\n",
    "        input_aspect = Input(shape=(1,),)\n",
    "        \n",
    "        word_embedding = Embedding(NUM_WORDS, EMBEDDING_SIZE, input_length=Max_Len)\n",
    "        text_embed = SpatialDropout1D(0.2)(word_embedding(input_text))\n",
    "    \n",
    "        asp_embedding = Embedding(NUM_WORDS, EMBEDDING_SIZE, input_length=Max_Len)\n",
    "        aspect_embed = asp_embedding(input_aspect)\n",
    "        aspect_embed = Flatten()(aspect_embed)  # reshape to 2d\n",
    "        repeat_aspect = RepeatVector(Max_Len)(aspect_embed)  # repeat aspect for every word in sequence\n",
    "        hidden_vecs = LSTM(lstm_units, return_sequences=True)(text_embed)  # hidden vectors output by lstm\n",
    "        concat = concatenate([hidden_vecs, repeat_aspect], axis=-1)  # mask after concatenate will be same as hidden_out's mask\n",
    "        print(concat.shape)\n",
    "         # apply attention mechanism\n",
    "        attend_weight = Attention()(concat)\n",
    "        attend_weight_expand = Lambda(lambda x: K.expand_dims(x))(attend_weight)\n",
    "        attend_hidden = multiply([hidden_vecs, attend_weight_expand])\n",
    "        attend_hidden = Lambda(lambda x: K.sum(x, axis=1))(attend_hidden)\n",
    "        Dense_layer  = Dense(128, activation='relu')(attend_hidden)\n",
    "        output_layer = Dense(3, activation='softmax')(Dense_layer)\n",
    "        return Model([input_text, input_aspect], output_layer)"
   ]
  },
  {
   "cell_type": "code",
   "execution_count": 54,
   "metadata": {
    "execution": {
     "iopub.execute_input": "2022-11-07T12:20:14.946307Z",
     "iopub.status.busy": "2022-11-07T12:20:14.945898Z",
     "iopub.status.idle": "2022-11-07T12:20:15.851672Z",
     "shell.execute_reply": "2022-11-07T12:20:15.850912Z",
     "shell.execute_reply.started": "2022-11-07T12:20:14.946252Z"
    }
   },
   "outputs": [
    {
     "name": "stdout",
     "output_type": "stream",
     "text": [
      "(None, 69, 640)\n",
      "Model: \"model_1\"\n",
      "__________________________________________________________________________________________________\n",
      "Layer (type)                    Output Shape         Param #     Connected to                     \n",
      "==================================================================================================\n",
      "input_3 (InputLayer)            [(None, 69)]         0                                            \n",
      "__________________________________________________________________________________________________\n",
      "input_4 (InputLayer)            [(None, 1)]          0                                            \n",
      "__________________________________________________________________________________________________\n",
      "embedding_2 (Embedding)         (None, 69, 128)      12800000    input_3[0][0]                    \n",
      "__________________________________________________________________________________________________\n",
      "embedding_3 (Embedding)         (None, 1, 128)       12800000    input_4[0][0]                    \n",
      "__________________________________________________________________________________________________\n",
      "spatial_dropout1d_1 (SpatialDro (None, 69, 128)      0           embedding_2[0][0]                \n",
      "__________________________________________________________________________________________________\n",
      "flatten_1 (Flatten)             (None, 128)          0           embedding_3[0][0]                \n",
      "__________________________________________________________________________________________________\n",
      "lstm_1 (LSTM)                   (None, 69, 512)      1312768     spatial_dropout1d_1[0][0]        \n",
      "__________________________________________________________________________________________________\n",
      "repeat_vector_1 (RepeatVector)  (None, 69, 128)      0           flatten_1[0][0]                  \n",
      "__________________________________________________________________________________________________\n",
      "concatenate_1 (Concatenate)     (None, 69, 640)      0           lstm_1[0][0]                     \n",
      "                                                                 repeat_vector_1[0][0]            \n",
      "__________________________________________________________________________________________________\n",
      "attention (Attention)           (None, 69)           410240      concatenate_1[0][0]              \n",
      "__________________________________________________________________________________________________\n",
      "lambda (Lambda)                 (None, 69, 1)        0           attention[0][0]                  \n",
      "__________________________________________________________________________________________________\n",
      "multiply (Multiply)             (None, 69, 512)      0           lstm_1[0][0]                     \n",
      "                                                                 lambda[0][0]                     \n",
      "__________________________________________________________________________________________________\n",
      "lambda_1 (Lambda)               (None, 512)          0           multiply[0][0]                   \n",
      "__________________________________________________________________________________________________\n",
      "dense_2 (Dense)                 (None, 128)          65664       lambda_1[0][0]                   \n",
      "__________________________________________________________________________________________________\n",
      "dense_3 (Dense)                 (None, 3)            387         dense_2[0][0]                    \n",
      "==================================================================================================\n",
      "Total params: 27,389,059\n",
      "Trainable params: 27,389,059\n",
      "Non-trainable params: 0\n",
      "__________________________________________________________________________________________________\n"
     ]
    }
   ],
   "source": [
    "at_lstm_model =  at_lstm()\n",
    "at_lstm_model.summary()"
   ]
  },
  {
   "cell_type": "markdown",
   "metadata": {},
   "source": [
    "## model training\n"
   ]
  },
  {
   "cell_type": "code",
   "execution_count": 55,
   "metadata": {
    "execution": {
     "iopub.execute_input": "2022-11-07T12:20:16.266842Z",
     "iopub.status.busy": "2022-11-07T12:20:16.266586Z",
     "iopub.status.idle": "2022-11-07T12:20:58.879760Z",
     "shell.execute_reply": "2022-11-07T12:20:58.879008Z",
     "shell.execute_reply.started": "2022-11-07T12:20:16.266810Z"
    }
   },
   "outputs": [
    {
     "name": "stdout",
     "output_type": "stream",
     "text": [
      "Epoch 1/10\n",
      "91/91 [==============================] - 4s 29ms/step - loss: 1.0167 - accuracy: 0.5901 - val_loss: 0.9448 - val_accuracy: 0.6006\n",
      "Epoch 2/10\n",
      "91/91 [==============================] - 2s 22ms/step - loss: 0.9115 - accuracy: 0.6008 - val_loss: 0.9498 - val_accuracy: 0.6006\n",
      "\n",
      "Epoch 00002: ReduceLROnPlateau reducing learning rate to 0.0009999999776482583.\n",
      "Epoch 3/10\n",
      "91/91 [==============================] - 2s 22ms/step - loss: 0.8756 - accuracy: 0.6008 - val_loss: 0.9562 - val_accuracy: 0.6006\n",
      "\n",
      "Epoch 00003: ReduceLROnPlateau reducing learning rate to 9.999999310821295e-05.\n",
      "Epoch 4/10\n",
      "91/91 [==============================] - 2s 22ms/step - loss: 0.8714 - accuracy: 0.6008 - val_loss: 0.9579 - val_accuracy: 0.6006\n",
      "\n",
      "Epoch 00004: ReduceLROnPlateau reducing learning rate to 9.999999019782991e-06.\n",
      "Epoch 5/10\n",
      "91/91 [==============================] - 2s 21ms/step - loss: 0.8712 - accuracy: 0.6008 - val_loss: 0.9581 - val_accuracy: 0.6006\n",
      "\n",
      "Epoch 00005: ReduceLROnPlateau reducing learning rate to 1e-06.\n",
      "Epoch 6/10\n",
      "91/91 [==============================] - 2s 22ms/step - loss: 0.8712 - accuracy: 0.6008 - val_loss: 0.9582 - val_accuracy: 0.6006\n",
      "Epoch 7/10\n",
      "91/91 [==============================] - 2s 22ms/step - loss: 0.8712 - accuracy: 0.6008 - val_loss: 0.9582 - val_accuracy: 0.6006\n",
      "Epoch 8/10\n",
      "91/91 [==============================] - 2s 22ms/step - loss: 0.8711 - accuracy: 0.6008 - val_loss: 0.9582 - val_accuracy: 0.6006\n",
      "Epoch 9/10\n",
      "91/91 [==============================] - 2s 21ms/step - loss: 0.8713 - accuracy: 0.6008 - val_loss: 0.9582 - val_accuracy: 0.6006\n",
      "Epoch 10/10\n",
      "91/91 [==============================] - 2s 22ms/step - loss: 0.8711 - accuracy: 0.6008 - val_loss: 0.9583 - val_accuracy: 0.6006\n"
     ]
    },
    {
     "data": {
      "text/plain": [
       "<keras.callbacks.History at 0x7f828947b610>"
      ]
     },
     "execution_count": 55,
     "metadata": {},
     "output_type": "execute_result"
    }
   ],
   "source": [
    "learning_rate_reduction = ReduceLROnPlateau(monitor='val_accuracy',\n",
    "                                                    patience = 1,\n",
    "                                                    verbose=1,\n",
    "                                                    factor=0.1,\n",
    "                                                    min_lr=0.000001)\n",
    "opt = keras.optimizers.Adam(learning_rate=0.01)\n",
    "\n",
    "at_lstm_model.compile(loss='sparse_categorical_crossentropy', metrics=['accuracy'], optimizer=opt)\n",
    "at_lstm_model .fit(x = train_data, y = y_train,validation_data = (test_data, y_test), batch_size=32, epochs=10, callbacks = [learning_rate_reduction])"
   ]
  },
  {
   "cell_type": "markdown",
   "metadata": {},
   "source": [
    "## Model Evaluation"
   ]
  },
  {
   "cell_type": "code",
   "execution_count": 57,
   "metadata": {
    "execution": {
     "iopub.execute_input": "2022-11-07T12:23:43.395746Z",
     "iopub.status.busy": "2022-11-07T12:23:43.395133Z",
     "iopub.status.idle": "2022-11-07T12:23:43.946915Z",
     "shell.execute_reply": "2022-11-07T12:23:43.946218Z",
     "shell.execute_reply.started": "2022-11-07T12:23:43.395704Z"
    }
   },
   "outputs": [
    {
     "data": {
      "text/plain": [
       "array([[0.16717134, 0.73693866, 0.09589002]], dtype=float32)"
      ]
     },
     "execution_count": 57,
     "metadata": {},
     "output_type": "execute_result"
    }
   ],
   "source": [
    "val_data =   [text_X_test_padded[6].reshape(1,Max_Len),aspect_X_test_padded[6]]\n",
    "at_lstm_model.predict(val_data)"
   ]
  },
  {
   "cell_type": "code",
   "execution_count": 58,
   "metadata": {
    "execution": {
     "iopub.execute_input": "2022-11-07T12:23:45.014665Z",
     "iopub.status.busy": "2022-11-07T12:23:45.014380Z",
     "iopub.status.idle": "2022-11-07T12:23:45.207681Z",
     "shell.execute_reply": "2022-11-07T12:23:45.206948Z",
     "shell.execute_reply.started": "2022-11-07T12:23:45.014631Z"
    }
   },
   "outputs": [
    {
     "name": "stdout",
     "output_type": "stream",
     "text": [
      "Evaluate on test data\n",
      "23/23 [==============================] - 0s 6ms/step - loss: 0.9583 - accuracy: 0.6006\n",
      "test loss, test acc: [0.9582774043083191, 0.6005547642707825]\n",
      "Accuracy of the model is -  60.05547642707825 %\n"
     ]
    }
   ],
   "source": [
    "print(\"Evaluate on test data\")\n",
    "results = at_lstm_model.evaluate(x = test_data , y = y_test )\n",
    "print(\"test loss, test acc:\", results)\n",
    "print(\"Accuracy of the model is - \" , results[1]*100 , \"%\")"
   ]
  },
  {
   "cell_type": "code",
   "execution_count": 55,
   "metadata": {
    "execution": {
     "iopub.execute_input": "2022-10-13T01:50:15.374492Z",
     "iopub.status.busy": "2022-10-13T01:50:15.374102Z",
     "iopub.status.idle": "2022-10-13T01:50:15.701859Z",
     "shell.execute_reply": "2022-10-13T01:50:15.701157Z",
     "shell.execute_reply.started": "2022-10-13T01:50:15.374451Z"
    }
   },
   "outputs": [
    {
     "data": {
      "image/png": "[encoded data removed]",
      "text/plain": [
       "<Figure size 432x288 with 2 Axes>"
      ]
     },
     "metadata": {
      "needs_background": "light"
     },
     "output_type": "display_data"
    }
   ],
   "source": [
    "from matplotlib import pyplot\n",
    "\n",
    "# plot loss during training\n",
    "pyplot.subplot(211)\n",
    "pyplot.title('Loss')\n",
    "pyplot.plot(history.history['loss'], label='train')\n",
    "pyplot.plot(history.history['val_loss'], label='test')\n",
    "pyplot.legend()\n",
    "# plot accuracy during training\n",
    "pyplot.subplot(212)\n",
    "pyplot.title('Accuracy')\n",
    "pyplot.plot(history.history['accuracy'], label='train')\n",
    "pyplot.plot(history.history['val_accuracy'], label='test')\n",
    "pyplot.legend()\n",
    "pyplot.show()"
   ]
  },
  {
   "cell_type": "code",
   "execution_count": 50,
   "metadata": {
    "execution": {
     "iopub.execute_input": "2022-11-07T12:26:11.949238Z",
     "iopub.status.busy": "2022-11-07T12:26:11.948973Z",
     "iopub.status.idle": "2022-11-07T12:26:11.959942Z",
     "shell.execute_reply": "2022-11-07T12:26:11.959190Z",
     "shell.execute_reply.started": "2022-11-07T12:26:11.949203Z"
    }
   },
   "outputs": [],
   "source": [
    "# attention-based lstm with aspect embedding\n",
    "def atae_lstm(lstm_units = 128):\n",
    "    input_text = Input(shape=(Max_Len,))\n",
    "    input_aspect = Input(shape=(1,),)\n",
    "    \n",
    "    word_embedding = Embedding(NUM_WORDS, EMBEDDING_SIZE, input_length=Max_Len)\n",
    "    text_embed = SpatialDropout1D(0.2)(word_embedding(input_text))\n",
    "\n",
    "    asp_embedding = Embedding(NUM_WORDS, EMBEDDING_SIZE, input_length=Max_Len)\n",
    "\n",
    "    aspect_embed = asp_embedding(input_aspect)\n",
    "    aspect_embed = Flatten()(aspect_embed)  # reshape to 2d\n",
    "    repeat_aspect = RepeatVector(Max_Len)(aspect_embed)  # repeat aspect for every word in sequence\n",
    "\n",
    "    input_concat = concatenate([text_embed, repeat_aspect], axis=-1)\n",
    "    print(input_concat.shape)\n",
    "    hidden_vecs, state_h, _ = LSTM(lstm_units, return_sequences=True, return_state=True)(input_concat)\n",
    "    concat = concatenate([hidden_vecs, repeat_aspect], axis=-1)\n",
    "\n",
    "    # apply attention mechanism\n",
    "    attend_weight = Attention()(concat)\n",
    "    attend_weight_expand = Lambda(lambda x: K.expand_dims(x))(attend_weight)\n",
    "    attend_hidden = multiply([hidden_vecs, attend_weight_expand])\n",
    "    attend_hidden = Lambda(lambda x: K.sum(x, axis=1))(attend_hidden)\n",
    "\n",
    "    attend_hidden_dense = Dense(lstm_units)(attend_hidden)\n",
    "    last_hidden_dense = Dense(lstm_units)(state_h)\n",
    "    final_output = Activation('tanh')(add([attend_hidden_dense, last_hidden_dense]))\n",
    "\n",
    "    return Model([input_text, input_aspect], final_output)"
   ]
  },
  {
   "cell_type": "code",
   "execution_count": 51,
   "metadata": {
    "execution": {
     "iopub.execute_input": "2022-11-07T12:26:11.961861Z",
     "iopub.status.busy": "2022-11-07T12:26:11.961148Z",
     "iopub.status.idle": "2022-11-07T12:26:12.271776Z",
     "shell.execute_reply": "2022-11-07T12:26:12.271047Z",
     "shell.execute_reply.started": "2022-11-07T12:26:11.961826Z"
    }
   },
   "outputs": [
    {
     "name": "stdout",
     "output_type": "stream",
     "text": [
      "(None, 77, 256)\n",
      "Model: \"model_1\"\n",
      "__________________________________________________________________________________________________\n",
      "Layer (type)                    Output Shape         Param #     Connected to                     \n",
      "==================================================================================================\n",
      "input_4 (InputLayer)            [(None, 1)]          0                                            \n",
      "__________________________________________________________________________________________________\n",
      "input_3 (InputLayer)            [(None, 77)]         0                                            \n",
      "__________________________________________________________________________________________________\n",
      "embedding_3 (Embedding)         (None, 1, 128)       12800000    input_4[0][0]                    \n",
      "__________________________________________________________________________________________________\n",
      "embedding_2 (Embedding)         (None, 77, 128)      12800000    input_3[0][0]                    \n",
      "__________________________________________________________________________________________________\n",
      "flatten_1 (Flatten)             (None, 128)          0           embedding_3[0][0]                \n",
      "__________________________________________________________________________________________________\n",
      "spatial_dropout1d_1 (SpatialDro (None, 77, 128)      0           embedding_2[0][0]                \n",
      "__________________________________________________________________________________________________\n",
      "repeat_vector_1 (RepeatVector)  (None, 77, 128)      0           flatten_1[0][0]                  \n",
      "__________________________________________________________________________________________________\n",
      "concatenate_1 (Concatenate)     (None, 77, 256)      0           spatial_dropout1d_1[0][0]        \n",
      "                                                                 repeat_vector_1[0][0]            \n",
      "__________________________________________________________________________________________________\n",
      "lstm_1 (LSTM)                   [(None, 77, 128), (N 197120      concatenate_1[0][0]              \n",
      "__________________________________________________________________________________________________\n",
      "concatenate_2 (Concatenate)     (None, 77, 256)      0           lstm_1[0][0]                     \n",
      "                                                                 repeat_vector_1[0][0]            \n",
      "__________________________________________________________________________________________________\n",
      "attention (Attention)           (None, 77)           65792       concatenate_2[0][0]              \n",
      "__________________________________________________________________________________________________\n",
      "lambda (Lambda)                 (None, 77, 1)        0           attention[0][0]                  \n",
      "__________________________________________________________________________________________________\n",
      "multiply (Multiply)             (None, 77, 128)      0           lstm_1[0][0]                     \n",
      "                                                                 lambda[0][0]                     \n",
      "__________________________________________________________________________________________________\n",
      "lambda_1 (Lambda)               (None, 128)          0           multiply[0][0]                   \n",
      "__________________________________________________________________________________________________\n",
      "dense_2 (Dense)                 (None, 128)          16512       lambda_1[0][0]                   \n",
      "__________________________________________________________________________________________________\n",
      "dense_3 (Dense)                 (None, 128)          16512       lstm_1[0][1]                     \n",
      "__________________________________________________________________________________________________\n",
      "add (Add)                       (None, 128)          0           dense_2[0][0]                    \n",
      "                                                                 dense_3[0][0]                    \n",
      "__________________________________________________________________________________________________\n",
      "activation (Activation)         (None, 128)          0           add[0][0]                        \n",
      "==================================================================================================\n",
      "Total params: 25,895,936\n",
      "Trainable params: 25,895,936\n",
      "Non-trainable params: 0\n",
      "__________________________________________________________________________________________________\n"
     ]
    }
   ],
   "source": [
    "atae_lstm_model =  atae_lstm()\n",
    "atae_lstm_model.summary()"
   ]
  },
  {
   "cell_type": "markdown",
   "metadata": {},
   "source": [
    "## Model Training"
   ]
  },
  {
   "cell_type": "code",
   "execution_count": 52,
   "metadata": {
    "execution": {
     "iopub.execute_input": "2022-11-07T12:26:12.273615Z",
     "iopub.status.busy": "2022-11-07T12:26:12.273375Z",
     "iopub.status.idle": "2022-11-07T12:27:58.228893Z",
     "shell.execute_reply": "2022-11-07T12:27:58.228070Z",
     "shell.execute_reply.started": "2022-11-07T12:26:12.273580Z"
    }
   },
   "outputs": [
    {
     "name": "stdout",
     "output_type": "stream",
     "text": [
      "Epoch 1/50\n",
      "58/58 [==============================] - 17s 235ms/step - loss: 1.3993 - accuracy: 0.4508 - val_loss: 0.9841 - val_accuracy: 0.5551\n",
      "Epoch 2/50\n",
      "58/58 [==============================] - 13s 217ms/step - loss: 0.8787 - accuracy: 0.5984 - val_loss: 1.0744 - val_accuracy: 0.5767\n",
      "Epoch 3/50\n",
      "58/58 [==============================] - 13s 217ms/step - loss: 0.6595 - accuracy: 0.7314 - val_loss: 1.4418 - val_accuracy: 0.6458\n",
      "Epoch 4/50\n",
      "58/58 [==============================] - 12s 215ms/step - loss: 0.5135 - accuracy: 0.8465 - val_loss: 2.0819 - val_accuracy: 0.6112\n",
      "\n",
      "Epoch 00004: ReduceLROnPlateau reducing learning rate to 0.00010000000474974513.\n",
      "Epoch 5/50\n",
      "58/58 [==============================] - 12s 212ms/step - loss: 0.3412 - accuracy: 0.8984 - val_loss: 2.5416 - val_accuracy: 0.6436\n",
      "\n",
      "Epoch 00005: ReduceLROnPlateau reducing learning rate to 1.0000000474974514e-05.\n",
      "Epoch 6/50\n",
      "58/58 [==============================] - 12s 214ms/step - loss: 0.2985 - accuracy: 0.9124 - val_loss: 2.5868 - val_accuracy: 0.6436\n",
      "\n",
      "Epoch 00006: ReduceLROnPlateau reducing learning rate to 1.0000000656873453e-06.\n",
      "Epoch 7/50\n",
      "58/58 [==============================] - 12s 215ms/step - loss: 0.2922 - accuracy: 0.9097 - val_loss: 2.5877 - val_accuracy: 0.6436\n",
      "\n",
      "Epoch 00007: ReduceLROnPlateau reducing learning rate to 1e-06.\n",
      "Epoch 8/50\n",
      "58/58 [==============================] - 12s 212ms/step - loss: 0.2899 - accuracy: 0.9081 - val_loss: 2.5889 - val_accuracy: 0.6458\n",
      "Epoch 9/50\n",
      "58/58 [==============================] - 12s 214ms/step - loss: 0.2956 - accuracy: 0.9135 - val_loss: 2.5897 - val_accuracy: 0.6436\n",
      "Epoch 10/50\n",
      "58/58 [==============================] - 12s 210ms/step - loss: 0.2949 - accuracy: 0.9141 - val_loss: 2.5911 - val_accuracy: 0.6436\n",
      "Epoch 11/50\n",
      "58/58 [==============================] - 12s 211ms/step - loss: 0.2978 - accuracy: 0.9114 - val_loss: 2.5932 - val_accuracy: 0.6436\n",
      "Epoch 12/50\n",
      "58/58 [==============================] - 12s 211ms/step - loss: 0.2897 - accuracy: 0.9114 - val_loss: 2.6148 - val_accuracy: 0.6436\n",
      "Epoch 13/50\n",
      "58/58 [==============================] - 12s 210ms/step - loss: 0.2889 - accuracy: 0.9114 - val_loss: 2.6367 - val_accuracy: 0.6436\n",
      "Epoch 14/50\n",
      "58/58 [==============================] - 12s 208ms/step - loss: 0.2931 - accuracy: 0.9119 - val_loss: 2.6387 - val_accuracy: 0.6436\n",
      "Epoch 15/50\n",
      "58/58 [==============================] - 12s 210ms/step - loss: 0.2865 - accuracy: 0.9124 - val_loss: 2.6413 - val_accuracy: 0.6436\n",
      "Epoch 16/50\n",
      "58/58 [==============================] - 12s 211ms/step - loss: 0.2908 - accuracy: 0.9135 - val_loss: 2.6451 - val_accuracy: 0.6436\n",
      "Epoch 17/50\n",
      "58/58 [==============================] - 12s 212ms/step - loss: 0.2871 - accuracy: 0.9103 - val_loss: 2.6544 - val_accuracy: 0.6458\n",
      "Epoch 18/50\n",
      "58/58 [==============================] - 12s 212ms/step - loss: 0.2845 - accuracy: 0.9124 - val_loss: 2.6823 - val_accuracy: 0.6458\n",
      "Epoch 19/50\n",
      "58/58 [==============================] - 12s 213ms/step - loss: 0.2942 - accuracy: 0.9092 - val_loss: 2.6946 - val_accuracy: 0.6458\n",
      "Epoch 20/50\n",
      "58/58 [==============================] - 12s 215ms/step - loss: 0.2924 - accuracy: 0.9092 - val_loss: 2.6946 - val_accuracy: 0.6458\n",
      "Epoch 21/50\n",
      "58/58 [==============================] - 12s 215ms/step - loss: 0.2884 - accuracy: 0.9092 - val_loss: 2.6945 - val_accuracy: 0.6458\n",
      "Epoch 22/50\n",
      "58/58 [==============================] - 12s 214ms/step - loss: 0.2849 - accuracy: 0.9130 - val_loss: 2.6937 - val_accuracy: 0.6458\n",
      "Epoch 23/50\n",
      "58/58 [==============================] - 12s 214ms/step - loss: 0.2914 - accuracy: 0.9119 - val_loss: 2.6936 - val_accuracy: 0.6458\n",
      "Epoch 24/50\n",
      "58/58 [==============================] - 12s 213ms/step - loss: 0.2814 - accuracy: 0.9130 - val_loss: 2.6935 - val_accuracy: 0.6458\n",
      "Epoch 25/50\n",
      "58/58 [==============================] - 13s 216ms/step - loss: 0.2799 - accuracy: 0.9135 - val_loss: 2.6931 - val_accuracy: 0.6436\n",
      "Epoch 26/50\n",
      "58/58 [==============================] - 12s 214ms/step - loss: 0.2886 - accuracy: 0.9092 - val_loss: 2.6931 - val_accuracy: 0.6436\n",
      "Epoch 27/50\n",
      "58/58 [==============================] - 12s 213ms/step - loss: 0.2965 - accuracy: 0.9124 - val_loss: 2.6932 - val_accuracy: 0.6436\n",
      "Epoch 28/50\n",
      "58/58 [==============================] - 13s 216ms/step - loss: 0.2830 - accuracy: 0.9076 - val_loss: 2.6932 - val_accuracy: 0.6436\n",
      "Epoch 29/50\n",
      "58/58 [==============================] - 13s 217ms/step - loss: 0.2920 - accuracy: 0.9141 - val_loss: 2.6932 - val_accuracy: 0.6436\n",
      "Epoch 30/50\n",
      "58/58 [==============================] - 12s 215ms/step - loss: 0.2835 - accuracy: 0.9124 - val_loss: 2.6933 - val_accuracy: 0.6436\n",
      "Epoch 31/50\n",
      "58/58 [==============================] - 12s 214ms/step - loss: 0.2949 - accuracy: 0.9135 - val_loss: 2.6934 - val_accuracy: 0.6436\n",
      "Epoch 32/50\n",
      "58/58 [==============================] - 13s 216ms/step - loss: 0.2749 - accuracy: 0.9157 - val_loss: 2.6935 - val_accuracy: 0.6436\n",
      "Epoch 33/50\n",
      "58/58 [==============================] - 12s 213ms/step - loss: 0.2885 - accuracy: 0.9119 - val_loss: 2.6936 - val_accuracy: 0.6436\n",
      "Epoch 34/50\n",
      "58/58 [==============================] - 13s 217ms/step - loss: 0.2817 - accuracy: 0.9103 - val_loss: 2.6936 - val_accuracy: 0.6436\n",
      "Epoch 35/50\n",
      "58/58 [==============================] - 13s 216ms/step - loss: 0.2761 - accuracy: 0.9103 - val_loss: 2.6937 - val_accuracy: 0.6436\n",
      "Epoch 36/50\n",
      "58/58 [==============================] - 13s 217ms/step - loss: 0.2896 - accuracy: 0.9141 - val_loss: 2.6936 - val_accuracy: 0.6436\n",
      "Epoch 37/50\n",
      "58/58 [==============================] - 13s 217ms/step - loss: 0.2849 - accuracy: 0.9130 - val_loss: 2.6936 - val_accuracy: 0.6436\n",
      "Epoch 38/50\n",
      "58/58 [==============================] - 13s 217ms/step - loss: 0.2860 - accuracy: 0.9108 - val_loss: 2.6937 - val_accuracy: 0.6436\n",
      "Epoch 39/50\n",
      "58/58 [==============================] - 13s 217ms/step - loss: 0.2772 - accuracy: 0.9097 - val_loss: 2.6938 - val_accuracy: 0.6436\n",
      "Epoch 40/50\n",
      "58/58 [==============================] - 13s 225ms/step - loss: 0.2756 - accuracy: 0.9135 - val_loss: 2.6938 - val_accuracy: 0.6436\n",
      "Epoch 41/50\n",
      "58/58 [==============================] - 12s 200ms/step - loss: 0.2809 - accuracy: 0.9114 - val_loss: 2.6939 - val_accuracy: 0.6436\n",
      "Epoch 42/50\n",
      "58/58 [==============================] - 12s 201ms/step - loss: 0.2811 - accuracy: 0.9108 - val_loss: 2.6940 - val_accuracy: 0.6436\n",
      "Epoch 43/50\n",
      "58/58 [==============================] - 12s 199ms/step - loss: 0.2799 - accuracy: 0.9141 - val_loss: 2.6942 - val_accuracy: 0.6436\n",
      "Epoch 44/50\n",
      "58/58 [==============================] - 12s 200ms/step - loss: 0.2878 - accuracy: 0.9092 - val_loss: 2.6944 - val_accuracy: 0.6436\n",
      "Epoch 45/50\n",
      "58/58 [==============================] - 12s 202ms/step - loss: 0.2822 - accuracy: 0.9086 - val_loss: 2.6945 - val_accuracy: 0.6436\n",
      "Epoch 46/50\n",
      "58/58 [==============================] - 12s 199ms/step - loss: 0.2852 - accuracy: 0.9114 - val_loss: 2.6946 - val_accuracy: 0.6436\n",
      "Epoch 47/50\n",
      "58/58 [==============================] - 12s 201ms/step - loss: 0.2908 - accuracy: 0.9173 - val_loss: 2.6947 - val_accuracy: 0.6436\n",
      "Epoch 48/50\n",
      "58/58 [==============================] - 12s 202ms/step - loss: 0.2781 - accuracy: 0.9103 - val_loss: 2.6948 - val_accuracy: 0.6436\n",
      "Epoch 49/50\n",
      "58/58 [==============================] - 12s 201ms/step - loss: 0.2886 - accuracy: 0.9103 - val_loss: 2.6950 - val_accuracy: 0.6458\n",
      "Epoch 50/50\n",
      "58/58 [==============================] - 12s 202ms/step - loss: 0.2871 - accuracy: 0.9162 - val_loss: 2.6952 - val_accuracy: 0.6458\n"
     ]
    },
    {
     "data": {
      "text/plain": [
       "<tensorflow.python.keras.callbacks.History at 0x7f65d42575e0>"
      ]
     },
     "execution_count": 52,
     "metadata": {},
     "output_type": "execute_result"
    }
   ],
   "source": [
    "learning_rate_reduction = ReduceLROnPlateau(monitor='val_accuracy',\n",
    "                                                    patience = 1,\n",
    "                                                    verbose=1,\n",
    "                                                    factor=0.1,\n",
    "                                                    min_lr=0.000001)\n",
    "atae_lstm_model.compile(loss='sparse_categorical_crossentropy', metrics=['accuracy'], optimizer='adam')\n",
    "atae_lstm_model .fit(x = train_data, y = y_train,validation_data = (test_data, y_test), batch_size=32, epochs=50, callbacks = [learning_rate_reduction])"
   ]
  },
  {
   "cell_type": "code",
   "execution_count": null,
   "metadata": {},
   "outputs": [],
   "source": [
    "atae_lstm_model"
   ]
  },
  {
   "cell_type": "markdown",
   "metadata": {},
   "source": [
    "## Model Evaluation"
   ]
  },
  {
   "cell_type": "code",
   "execution_count": 53,
   "metadata": {
    "execution": {
     "iopub.execute_input": "2022-11-07T12:34:10.084057Z",
     "iopub.status.busy": "2022-11-07T12:34:10.083193Z",
     "iopub.status.idle": "2022-11-07T12:34:10.279065Z",
     "shell.execute_reply": "2022-11-07T12:34:10.277978Z",
     "shell.execute_reply.started": "2022-11-07T12:34:10.084018Z"
    }
   },
   "outputs": [
    {
     "name": "stdout",
     "output_type": "stream",
     "text": [
      "Evaluate on test data\n",
      "15/15 [==============================] - 0s 6ms/step - loss: 2.6952 - accuracy: 0.6458\n",
      "test loss, test acc: [2.6952474117279053, 0.645788311958313]\n",
      "Accuracy of the model is -  64.5788311958313 %\n"
     ]
    }
   ],
   "source": [
    "print(\"Evaluate on test data\")\n",
    "results = atae_lstm_model.evaluate(x = test_data , y = y_test )\n",
    "print(\"test loss, test acc:\", results)\n",
    "print(\"Accuracy of the model is - \" , results[1]*100 , \"%\")"
   ]
  },
  {
   "cell_type": "code",
   "execution_count": 91,
   "metadata": {},
   "outputs": [
    {
     "data": {
      "text/plain": [
       "2412    2\n",
       "1887    2\n",
       "2965    0\n",
       "3718    0\n",
       "2594    0\n",
       "       ..\n",
       "3618    1\n",
       "3791    2\n",
       "1469    2\n",
       "975     2\n",
       "3866    2\n",
       "Name: polarity, Length: 463, dtype: int64"
      ]
     },
     "execution_count": 91,
     "metadata": {},
     "output_type": "execute_result"
    }
   ],
   "source": [
    "y_test"
   ]
  },
  {
   "cell_type": "code",
   "execution_count": 90,
   "metadata": {},
   "outputs": [
    {
     "data": {
      "text/plain": [
       "[array([[   0,    0,    0, ...,  565,  191,  595],\n",
       "        [   0,    0,    0, ...,  141, 1757,  662],\n",
       "        [   0,    0,    0, ...,   70,  326,   62],\n",
       "        ...,\n",
       "        [   0,    0,    0, ...,  931,  191,  128],\n",
       "        [   0,    0,    0, ..., 1423,  596,   66],\n",
       "        [   0,    0,    0, ..., 1781,  226,   82]], dtype=int32),\n",
       " array([[ 595],\n",
       "        [ 662],\n",
       "        [  62],\n",
       "        [2889],\n",
       "        [   0],\n",
       "        [1230],\n",
       "        [  33],\n",
       "        [ 264],\n",
       "        [ 354],\n",
       "        [2144],\n",
       "        [  45],\n",
       "        [  92],\n",
       "        [ 356],\n",
       "        [ 173],\n",
       "        [ 373],\n",
       "        [ 279],\n",
       "        [  97],\n",
       "        [  35],\n",
       "        [ 626],\n",
       "        [ 106],\n",
       "        [  53],\n",
       "        [ 179],\n",
       "        [ 512],\n",
       "        [1421],\n",
       "        [ 176],\n",
       "        [  62],\n",
       "        [  91],\n",
       "        [ 156],\n",
       "        [   0],\n",
       "        [ 185],\n",
       "        [  56],\n",
       "        [ 144],\n",
       "        [ 356],\n",
       "        [ 761],\n",
       "        [  53],\n",
       "        [ 359],\n",
       "        [ 142],\n",
       "        [ 595],\n",
       "        [  99],\n",
       "        [ 449],\n",
       "        [ 118],\n",
       "        [  97],\n",
       "        [ 179],\n",
       "        [  32],\n",
       "        [  33],\n",
       "        [1658],\n",
       "        [1637],\n",
       "        [1479],\n",
       "        [  53],\n",
       "        [ 976],\n",
       "        [2143],\n",
       "        [   0],\n",
       "        [  91],\n",
       "        [  76],\n",
       "        [ 139],\n",
       "        [1230],\n",
       "        [ 113],\n",
       "        [  33],\n",
       "        [ 118],\n",
       "        [  99],\n",
       "        [  59],\n",
       "        [  21],\n",
       "        [  52],\n",
       "        [ 956],\n",
       "        [1707],\n",
       "        [ 487],\n",
       "        [  35],\n",
       "        [  76],\n",
       "        [ 138],\n",
       "        [ 272],\n",
       "        [ 179],\n",
       "        [ 759],\n",
       "        [ 662],\n",
       "        [ 346],\n",
       "        [ 138],\n",
       "        [  45],\n",
       "        [ 164],\n",
       "        [1291],\n",
       "        [2905],\n",
       "        [   0],\n",
       "        [  21],\n",
       "        [ 426],\n",
       "        [  53],\n",
       "        [  92],\n",
       "        [ 144],\n",
       "        [ 413],\n",
       "        [2804],\n",
       "        [  56],\n",
       "        [ 185],\n",
       "        [  45],\n",
       "        [   0],\n",
       "        [  77],\n",
       "        [  91],\n",
       "        [1321],\n",
       "        [ 209],\n",
       "        [  77],\n",
       "        [2202],\n",
       "        [1336],\n",
       "        [ 404],\n",
       "        [  82],\n",
       "        [ 141],\n",
       "        [  82],\n",
       "        [  59],\n",
       "        [ 347],\n",
       "        [  92],\n",
       "        [ 413],\n",
       "        [ 347],\n",
       "        [  99],\n",
       "        [  82],\n",
       "        [1493],\n",
       "        [  59],\n",
       "        [ 413],\n",
       "        [2205],\n",
       "        [  59],\n",
       "        [  56],\n",
       "        [  92],\n",
       "        [  53],\n",
       "        [  89],\n",
       "        [ 307],\n",
       "        [ 118],\n",
       "        [  47],\n",
       "        [ 120],\n",
       "        [1861],\n",
       "        [  82],\n",
       "        [ 164],\n",
       "        [  32],\n",
       "        [1574],\n",
       "        [  45],\n",
       "        [ 113],\n",
       "        [ 857],\n",
       "        [  35],\n",
       "        [1554],\n",
       "        [  92],\n",
       "        [ 346],\n",
       "        [ 236],\n",
       "        [  47],\n",
       "        [ 324],\n",
       "        [ 537],\n",
       "        [  99],\n",
       "        [   0],\n",
       "        [  45],\n",
       "        [ 716],\n",
       "        [  62],\n",
       "        [ 430],\n",
       "        [  52],\n",
       "        [ 187],\n",
       "        [  59],\n",
       "        [ 141],\n",
       "        [ 185],\n",
       "        [ 138],\n",
       "        [ 745],\n",
       "        [1260],\n",
       "        [ 105],\n",
       "        [ 261],\n",
       "        [   0],\n",
       "        [1757],\n",
       "        [  21],\n",
       "        [ 156],\n",
       "        [ 273],\n",
       "        [1182],\n",
       "        [ 964],\n",
       "        [ 592],\n",
       "        [ 462],\n",
       "        [1944],\n",
       "        [1311],\n",
       "        [ 343],\n",
       "        [  91],\n",
       "        [ 142],\n",
       "        [1726],\n",
       "        [ 106],\n",
       "        [  89],\n",
       "        [ 118],\n",
       "        [ 610],\n",
       "        [  59],\n",
       "        [  33],\n",
       "        [ 102],\n",
       "        [  35],\n",
       "        [1886],\n",
       "        [ 173],\n",
       "        [  21],\n",
       "        [ 808],\n",
       "        [  92],\n",
       "        [ 657],\n",
       "        [  82],\n",
       "        [  33],\n",
       "        [  77],\n",
       "        [  47],\n",
       "        [ 819],\n",
       "        [  62],\n",
       "        [ 774],\n",
       "        [ 778],\n",
       "        [2128],\n",
       "        [  76],\n",
       "        [ 113],\n",
       "        [  59],\n",
       "        [ 956],\n",
       "        [  35],\n",
       "        [  47],\n",
       "        [1875],\n",
       "        [1356],\n",
       "        [  99],\n",
       "        [2887],\n",
       "        [2806],\n",
       "        [  89],\n",
       "        [ 378],\n",
       "        [ 106],\n",
       "        [2170],\n",
       "        [ 164],\n",
       "        [ 592],\n",
       "        [  82],\n",
       "        [  35],\n",
       "        [  46],\n",
       "        [ 304],\n",
       "        [ 357],\n",
       "        [  32],\n",
       "        [ 357],\n",
       "        [ 209],\n",
       "        [ 106],\n",
       "        [1109],\n",
       "        [ 318],\n",
       "        [ 967],\n",
       "        [ 399],\n",
       "        [ 138],\n",
       "        [ 696],\n",
       "        [  35],\n",
       "        [ 426],\n",
       "        [1526],\n",
       "        [ 352],\n",
       "        [ 966],\n",
       "        [ 376],\n",
       "        [1374],\n",
       "        [  53],\n",
       "        [  45],\n",
       "        [ 141],\n",
       "        [ 138],\n",
       "        [ 346],\n",
       "        [1864],\n",
       "        [1486],\n",
       "        [  52],\n",
       "        [ 404],\n",
       "        [ 118],\n",
       "        [  45],\n",
       "        [ 305],\n",
       "        [2205],\n",
       "        [ 595],\n",
       "        [   0],\n",
       "        [ 525],\n",
       "        [ 413],\n",
       "        [ 533],\n",
       "        [  45],\n",
       "        [ 845],\n",
       "        [  59],\n",
       "        [ 185],\n",
       "        [ 196],\n",
       "        [ 212],\n",
       "        [2484],\n",
       "        [  89],\n",
       "        [  93],\n",
       "        [  33],\n",
       "        [  79],\n",
       "        [1197],\n",
       "        [ 568],\n",
       "        [ 840],\n",
       "        [  45],\n",
       "        [ 397],\n",
       "        [  97],\n",
       "        [ 212],\n",
       "        [ 742],\n",
       "        [ 189],\n",
       "        [ 537],\n",
       "        [  82],\n",
       "        [ 404],\n",
       "        [ 594],\n",
       "        [1455],\n",
       "        [2280],\n",
       "        [  62],\n",
       "        [ 885],\n",
       "        [ 404],\n",
       "        [ 222],\n",
       "        [ 568],\n",
       "        [ 139],\n",
       "        [ 398],\n",
       "        [1386],\n",
       "        [ 173],\n",
       "        [  93],\n",
       "        [ 144],\n",
       "        [  52],\n",
       "        [  62],\n",
       "        [  45],\n",
       "        [ 621],\n",
       "        [  56],\n",
       "        [  53],\n",
       "        [ 511],\n",
       "        [ 176],\n",
       "        [ 118],\n",
       "        [ 139],\n",
       "        [  76],\n",
       "        [ 339],\n",
       "        [  45],\n",
       "        [  52],\n",
       "        [ 211],\n",
       "        [  53],\n",
       "        [ 602],\n",
       "        [ 139],\n",
       "        [  76],\n",
       "        [  77],\n",
       "        [ 439],\n",
       "        [  62],\n",
       "        [  35],\n",
       "        [1151],\n",
       "        [1646],\n",
       "        [ 657],\n",
       "        [  93],\n",
       "        [ 346],\n",
       "        [  53],\n",
       "        [ 660],\n",
       "        [ 113],\n",
       "        [  99],\n",
       "        [ 139],\n",
       "        [ 206],\n",
       "        [ 343],\n",
       "        [ 254],\n",
       "        [  45],\n",
       "        [ 128],\n",
       "        [  33],\n",
       "        [  56],\n",
       "        [1947],\n",
       "        [ 512],\n",
       "        [ 189],\n",
       "        [  53],\n",
       "        [  89],\n",
       "        [  59],\n",
       "        [ 182],\n",
       "        [  21],\n",
       "        [ 187],\n",
       "        [ 156],\n",
       "        [ 318],\n",
       "        [ 537],\n",
       "        [ 286],\n",
       "        [ 626],\n",
       "        [  53],\n",
       "        [ 105],\n",
       "        [  92],\n",
       "        [   0],\n",
       "        [ 189],\n",
       "        [  82],\n",
       "        [ 222],\n",
       "        [  59],\n",
       "        [  52],\n",
       "        [ 187],\n",
       "        [  53],\n",
       "        [  56],\n",
       "        [ 106],\n",
       "        [  56],\n",
       "        [ 113],\n",
       "        [  53],\n",
       "        [1637],\n",
       "        [ 141],\n",
       "        [2851],\n",
       "        [   0],\n",
       "        [  76],\n",
       "        [ 209],\n",
       "        [ 106],\n",
       "        [  77],\n",
       "        [ 696],\n",
       "        [  33],\n",
       "        [ 138],\n",
       "        [ 236],\n",
       "        [1203],\n",
       "        [ 196],\n",
       "        [ 209],\n",
       "        [ 512],\n",
       "        [1135],\n",
       "        [  93],\n",
       "        [ 539],\n",
       "        [  21],\n",
       "        [ 568],\n",
       "        [ 512],\n",
       "        [  45],\n",
       "        [  45],\n",
       "        [  93],\n",
       "        [  47],\n",
       "        [  21],\n",
       "        [   0],\n",
       "        [ 304],\n",
       "        [  45],\n",
       "        [  32],\n",
       "        [ 699],\n",
       "        [ 274],\n",
       "        [  99],\n",
       "        [ 237],\n",
       "        [1928],\n",
       "        [2074],\n",
       "        [  33],\n",
       "        [  45],\n",
       "        [   0],\n",
       "        [  59],\n",
       "        [ 176],\n",
       "        [ 164],\n",
       "        [ 716],\n",
       "        [  89],\n",
       "        [2205],\n",
       "        [ 141],\n",
       "        [ 182],\n",
       "        [ 113],\n",
       "        [ 185],\n",
       "        [ 295],\n",
       "        [ 138],\n",
       "        [ 208],\n",
       "        [  89],\n",
       "        [  53],\n",
       "        [2085],\n",
       "        [ 375],\n",
       "        [ 644],\n",
       "        [  89],\n",
       "        [ 255],\n",
       "        [  89],\n",
       "        [  92],\n",
       "        [ 237],\n",
       "        [  45],\n",
       "        [ 182],\n",
       "        [ 373],\n",
       "        [ 503],\n",
       "        [  92],\n",
       "        [  82],\n",
       "        [ 568],\n",
       "        [ 856],\n",
       "        [  35],\n",
       "        [1621],\n",
       "        [2574],\n",
       "        [ 185],\n",
       "        [ 231],\n",
       "        [1110],\n",
       "        [ 142],\n",
       "        [  21],\n",
       "        [1147],\n",
       "        [ 128],\n",
       "        [ 190],\n",
       "        [  92],\n",
       "        [  82],\n",
       "        [ 347],\n",
       "        [ 477],\n",
       "        [  33],\n",
       "        [2851],\n",
       "        [  62],\n",
       "        [  91],\n",
       "        [ 485],\n",
       "        [ 626],\n",
       "        [ 942],\n",
       "        [ 729],\n",
       "        [ 182],\n",
       "        [  47],\n",
       "        [  56],\n",
       "        [  99],\n",
       "        [  89],\n",
       "        [  32],\n",
       "        [ 347],\n",
       "        [  99],\n",
       "        [ 745],\n",
       "        [ 376],\n",
       "        [ 128],\n",
       "        [ 596],\n",
       "        [  82]], dtype=int32)]"
      ]
     },
     "execution_count": 90,
     "metadata": {},
     "output_type": "execute_result"
    }
   ],
   "source": [
    "test_data"
   ]
  },
  {
   "cell_type": "code",
   "execution_count": 35,
   "metadata": {},
   "outputs": [],
   "source": [
    "sentances = [\"The battery is good. But the processor is bit slow than what i expected.\",\"The battery is good. But the processor is bit slow than what i expected.\"]\n",
    "aspects = ['battery', 'performance']"
   ]
  },
  {
   "cell_type": "code",
   "execution_count": 36,
   "metadata": {},
   "outputs": [],
   "source": [
    "sentance_tokenized = tokenizer.texts_to_sequences(sentances) # list of tokenized sentences\n",
    "Aspect_X_train_tokenized = tokenizer.texts_to_sequences(aspects) # list of tokenized sentences\n",
    "\n",
    "text_X_train_padded = pad_sequences(sentance_tokenized, maxlen=Max_Len)\n",
    "aspect_X_train_padded = pad_sequences(Aspect_X_train_tokenized, maxlen=1)\n"
   ]
  },
  {
   "cell_type": "code",
   "execution_count": 37,
   "metadata": {},
   "outputs": [],
   "source": [
    "sample = [text_X_train_padded, aspect_X_train_padded]"
   ]
  },
  {
   "cell_type": "code",
   "execution_count": 40,
   "metadata": {},
   "outputs": [
    {
     "name": "stdout",
     "output_type": "stream",
     "text": [
      "Model: \"model\"\n",
      "__________________________________________________________________________________________________\n",
      "Layer (type)                    Output Shape         Param #     Connected to                     \n",
      "==================================================================================================\n",
      "input_2 (InputLayer)            [(None, 1)]          0                                            \n",
      "__________________________________________________________________________________________________\n",
      "embedding_1 (Embedding)         (None, 1, 128)       12800000    input_2[0][0]                    \n",
      "__________________________________________________________________________________________________\n",
      "input_1 (InputLayer)            [(None, 77)]         0                                            \n",
      "__________________________________________________________________________________________________\n",
      "tf.reshape (TFOpLambda)         (None, 1, 128)       0           embedding_1[0][0]                \n",
      "__________________________________________________________________________________________________\n",
      "embedding (Embedding)           (None, 77, 128)      12800000    input_1[0][0]                    \n",
      "__________________________________________________________________________________________________\n",
      "flatten (Flatten)               (None, 128)          0           tf.reshape[0][0]                 \n",
      "__________________________________________________________________________________________________\n",
      "spatial_dropout1d (SpatialDropo (None, 77, 128)      0           embedding[0][0]                  \n",
      "__________________________________________________________________________________________________\n",
      "repeat_vector (RepeatVector)    (None, 77, 128)      0           flatten[0][0]                    \n",
      "__________________________________________________________________________________________________\n",
      "concatenate (Concatenate)       (None, 77, 256)      0           spatial_dropout1d[0][0]          \n",
      "                                                                 repeat_vector[0][0]              \n",
      "__________________________________________________________________________________________________\n",
      "lstm (LSTM)                     (None, 512)          1574912     concatenate[0][0]                \n",
      "__________________________________________________________________________________________________\n",
      "dense (Dense)                   (None, 128)          65664       lstm[0][0]                       \n",
      "__________________________________________________________________________________________________\n",
      "dense_1 (Dense)                 (None, 3)            387         dense[0][0]                      \n",
      "==================================================================================================\n",
      "Total params: 27,240,963\n",
      "Trainable params: 27,240,963\n",
      "Non-trainable params: 0\n",
      "__________________________________________________________________________________________________\n"
     ]
    }
   ],
   "source": [
    "ae_lstm_model.summary()"
   ]
  },
  {
   "cell_type": "code",
   "execution_count": null,
   "metadata": {},
   "outputs": [],
   "source": []
  }
 ],
 "metadata": {
  "kernelspec": {
   "display_name": "Python 3 (ipykernel)",
   "language": "python",
   "name": "python3"
  },
  "language_info": {
   "codemirror_mode": {
    "name": "ipython",
    "version": 3
   },
   "file_extension": ".py",
   "mimetype": "text/x-python",
   "name": "python",
   "nbconvert_exporter": "python",
   "pygments_lexer": "ipython3",
   "version": "3.8.10"
  }
 },
 "nbformat": 4,
 "nbformat_minor": 4
}

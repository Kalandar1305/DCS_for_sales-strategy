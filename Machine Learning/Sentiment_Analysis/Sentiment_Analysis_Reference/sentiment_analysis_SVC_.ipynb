{
 "cells": [
  {
   "cell_type": "code",
   "execution_count": 1,
   "id": "eaae41c5",
   "metadata": {},
   "outputs": [],
   "source": [
    "# Import statements\n",
    "import pandas as pd\n",
    "import numpy as np\n",
    "import matplotlib.pyplot as plt\n",
    "import seaborn as sns\n",
    "import re\n",
    "import nltk\n",
    "from sklearn.model_selection import train_test_split\n",
    "from sklearn.feature_extraction.text import TfidfVectorizer\n",
    "from sklearn.pipeline import Pipeline \n",
    "from sklearn.metrics import accuracy_score, confusion_matrix, classification_report,ConfusionMatrixDisplay\n",
    "from sklearn import naive_bayes\n",
    "from sklearn.linear_model import LogisticRegression\n",
    "from sklearn.svm import LinearSVC\n",
    "from sklearn.neighbors import KNeighborsClassifier\n",
    "from bs4 import BeautifulSoup\n",
    "from nltk.corpus import stopwords \n",
    "from sklearn.ensemble import RandomForestClassifier\n",
    "from tqdm import tqdm"
   ]
  },
  {
   "cell_type": "code",
   "execution_count": 2,
   "id": "a49aa0ab",
   "metadata": {},
   "outputs": [
    {
     "name": "stderr",
     "output_type": "stream",
     "text": [
      "[nltk_data] Downloading package punkt to /root/nltk_data...\n",
      "[nltk_data]   Package punkt is already up-to-date!\n"
     ]
    }
   ],
   "source": [
    "nltk.download(\"punkt\")\n",
    "tqdm.pandas()"
   ]
  },
  {
   "cell_type": "code",
   "execution_count": 9,
   "id": "18cddebf",
   "metadata": {},
   "outputs": [],
   "source": [
    "# reading data from sample dataset\n",
    "# data = pd.read_csv('amazon_pc.csv')\n",
    "data = pd.read_csv('datasets/labelled.csv')\n",
    "data.dropna(inplace=True)"
   ]
  },
  {
   "cell_type": "code",
   "execution_count": 10,
   "id": "fae127cf",
   "metadata": {},
   "outputs": [],
   "source": [
    "data = data.drop([\"Product Name\",\"Brand Name\", \"Price\",\"Review Votes\"], axis=1)"
   ]
  },
  {
   "cell_type": "code",
   "execution_count": 5,
   "id": "0afd6eb3",
   "metadata": {},
   "outputs": [
    {
     "data": {
      "text/plain": [
       "array([[<Axes: title={'center': 'Rating'}>]], dtype=object)"
      ]
     },
     "execution_count": 5,
     "metadata": {},
     "output_type": "execute_result"
    },
    {
     "data": {
      "image/png": "[encoded data removed]",
      "text/plain": [
       "<Figure size 432x288 with 1 Axes>"
      ]
     },
     "metadata": {
      "needs_background": "light"
     },
     "output_type": "display_data"
    }
   ],
   "source": [
    "data.hist()"
   ]
  },
  {
   "cell_type": "code",
   "execution_count": 16,
   "id": "34384c97",
   "metadata": {},
   "outputs": [],
   "source": [
    "data = data.iloc[:100, :]"
   ]
  },
  {
   "cell_type": "code",
   "execution_count": 5,
   "id": "088bdf86",
   "metadata": {},
   "outputs": [
    {
     "data": {
      "text/plain": [
       "Index(['Review', 'Summary', 'Sentiment'], dtype='object')"
      ]
     },
     "execution_count": 5,
     "metadata": {},
     "output_type": "execute_result"
    }
   ],
   "source": [
    "data.columns"
   ]
  },
  {
   "cell_type": "code",
   "execution_count": 11,
   "id": "4023f0a1",
   "metadata": {},
   "outputs": [
    {
     "data": {
      "text/html": [
       "<div>\n",
       "<style scoped>\n",
       "    .dataframe tbody tr th:only-of-type {\n",
       "        vertical-align: middle;\n",
       "    }\n",
       "\n",
       "    .dataframe tbody tr th {\n",
       "        vertical-align: top;\n",
       "    }\n",
       "\n",
       "    .dataframe thead th {\n",
       "        text-align: right;\n",
       "    }\n",
       "</style>\n",
       "<table border=\"1\" class=\"dataframe\">\n",
       "  <thead>\n",
       "    <tr style=\"text-align: right;\">\n",
       "      <th></th>\n",
       "      <th>Rating</th>\n",
       "      <th>Reviews</th>\n",
       "    </tr>\n",
       "  </thead>\n",
       "  <tbody>\n",
       "    <tr>\n",
       "      <th>0</th>\n",
       "      <td>5</td>\n",
       "      <td>I feel so LUCKY to have found this used (phone...</td>\n",
       "    </tr>\n",
       "    <tr>\n",
       "      <th>1</th>\n",
       "      <td>4</td>\n",
       "      <td>nice phone, nice up grade from my pantach revu...</td>\n",
       "    </tr>\n",
       "    <tr>\n",
       "      <th>2</th>\n",
       "      <td>5</td>\n",
       "      <td>Very pleased</td>\n",
       "    </tr>\n",
       "    <tr>\n",
       "      <th>3</th>\n",
       "      <td>4</td>\n",
       "      <td>It works good but it goes slow sometimes but i...</td>\n",
       "    </tr>\n",
       "    <tr>\n",
       "      <th>4</th>\n",
       "      <td>4</td>\n",
       "      <td>Great phone to replace my lost phone. The only...</td>\n",
       "    </tr>\n",
       "  </tbody>\n",
       "</table>\n",
       "</div>"
      ],
      "text/plain": [
       "   Rating                                            Reviews\n",
       "0       5  I feel so LUCKY to have found this used (phone...\n",
       "1       4  nice phone, nice up grade from my pantach revu...\n",
       "2       5                                       Very pleased\n",
       "3       4  It works good but it goes slow sometimes but i...\n",
       "4       4  Great phone to replace my lost phone. The only..."
      ]
     },
     "execution_count": 11,
     "metadata": {},
     "output_type": "execute_result"
    }
   ],
   "source": [
    "data.head()"
   ]
  },
  {
   "cell_type": "code",
   "execution_count": 7,
   "id": "c0e3c7f2",
   "metadata": {},
   "outputs": [],
   "source": [
    "data[\"Reviews\"] = data['Review']+\" \" + data[\"Summary\"]"
   ]
  },
  {
   "cell_type": "code",
   "execution_count": 12,
   "id": "fb540dcf",
   "metadata": {},
   "outputs": [
    {
     "data": {
      "text/html": [
       "<div>\n",
       "<style scoped>\n",
       "    .dataframe tbody tr th:only-of-type {\n",
       "        vertical-align: middle;\n",
       "    }\n",
       "\n",
       "    .dataframe tbody tr th {\n",
       "        vertical-align: top;\n",
       "    }\n",
       "\n",
       "    .dataframe thead th {\n",
       "        text-align: right;\n",
       "    }\n",
       "</style>\n",
       "<table border=\"1\" class=\"dataframe\">\n",
       "  <thead>\n",
       "    <tr style=\"text-align: right;\">\n",
       "      <th></th>\n",
       "      <th>Rating</th>\n",
       "      <th>Reviews</th>\n",
       "    </tr>\n",
       "  </thead>\n",
       "  <tbody>\n",
       "    <tr>\n",
       "      <th>0</th>\n",
       "      <td>5</td>\n",
       "      <td>I feel so LUCKY to have found this used (phone...</td>\n",
       "    </tr>\n",
       "    <tr>\n",
       "      <th>1</th>\n",
       "      <td>4</td>\n",
       "      <td>nice phone, nice up grade from my pantach revu...</td>\n",
       "    </tr>\n",
       "    <tr>\n",
       "      <th>2</th>\n",
       "      <td>5</td>\n",
       "      <td>Very pleased</td>\n",
       "    </tr>\n",
       "    <tr>\n",
       "      <th>3</th>\n",
       "      <td>4</td>\n",
       "      <td>It works good but it goes slow sometimes but i...</td>\n",
       "    </tr>\n",
       "    <tr>\n",
       "      <th>4</th>\n",
       "      <td>4</td>\n",
       "      <td>Great phone to replace my lost phone. The only...</td>\n",
       "    </tr>\n",
       "  </tbody>\n",
       "</table>\n",
       "</div>"
      ],
      "text/plain": [
       "   Rating                                            Reviews\n",
       "0       5  I feel so LUCKY to have found this used (phone...\n",
       "1       4  nice phone, nice up grade from my pantach revu...\n",
       "2       5                                       Very pleased\n",
       "3       4  It works good but it goes slow sometimes but i...\n",
       "4       4  Great phone to replace my lost phone. The only..."
      ]
     },
     "execution_count": 12,
     "metadata": {},
     "output_type": "execute_result"
    }
   ],
   "source": [
    "data.head()"
   ]
  },
  {
   "cell_type": "code",
   "execution_count": 13,
   "id": "b81d6269",
   "metadata": {},
   "outputs": [],
   "source": [
    "from nltk.stem import WordNetLemmatizer\n",
    "def get_wordnet_pos(tag):\n",
    "    from nltk.corpus import wordnet\n",
    "    if tag.startswith('J'):\n",
    "        return wordnet.ADJ\n",
    "    elif tag.startswith('V'):\n",
    "        return wordnet.VERB\n",
    "    elif tag.startswith('N'):\n",
    "        return wordnet.NOUN\n",
    "    elif tag.startswith('R'):\n",
    "        return wordnet.ADV\n",
    "    else: \n",
    "        return wordnet.NOUN"
   ]
  },
  {
   "cell_type": "code",
   "execution_count": 14,
   "id": "f4ed940f",
   "metadata": {},
   "outputs": [],
   "source": [
    "lemmatizer = WordNetLemmatizer()\n",
    "def lemmatize(sentance):\n",
    "    from nltk.tag import pos_tag\n",
    "    tagged = pos_tag( [i for i in sentance if i])\n",
    "    lemmatized = []\n",
    "    for word, tag in tagged:\n",
    "        lemma = lemmatizer.lemmatize(word, pos = get_wordnet_pos(tag))\n",
    "        lemmatized.append(lemma)\n",
    "    return lemmatized"
   ]
  },
  {
   "cell_type": "code",
   "execution_count": 17,
   "id": "c292d4e1",
   "metadata": {},
   "outputs": [
    {
     "name": "stderr",
     "output_type": "stream",
     "text": [
      "100%|██████████| 100/100 [00:00<00:00, 1097.90it/s]\n",
      "<ipython-input-17-efb2db6daa1f>:1: SettingWithCopyWarning: \n",
      "A value is trying to be set on a copy of a slice from a DataFrame.\n",
      "Try using .loc[row_indexer,col_indexer] = value instead\n",
      "\n",
      "See the caveats in the documentation: https://pandas.pydata.org/pandas-docs/stable/user_guide/indexing.html#returning-a-view-versus-a-copy\n",
      "  data[\"ReviewsTokenized\"] = data.progress_apply(lambda row: nltk.word_tokenize(row['Reviews']), axis=1)\n"
     ]
    }
   ],
   "source": [
    "data[\"ReviewsTokenized\"] = data.progress_apply(lambda row: nltk.word_tokenize(row['Reviews']), axis=1)\n"
   ]
  },
  {
   "cell_type": "code",
   "execution_count": 13,
   "id": "e5c98a6e",
   "metadata": {},
   "outputs": [
    {
     "data": {
      "text/html": [
       "<div>\n",
       "<style scoped>\n",
       "    .dataframe tbody tr th:only-of-type {\n",
       "        vertical-align: middle;\n",
       "    }\n",
       "\n",
       "    .dataframe tbody tr th {\n",
       "        vertical-align: top;\n",
       "    }\n",
       "\n",
       "    .dataframe thead th {\n",
       "        text-align: right;\n",
       "    }\n",
       "</style>\n",
       "<table border=\"1\" class=\"dataframe\">\n",
       "  <thead>\n",
       "    <tr style=\"text-align: right;\">\n",
       "      <th></th>\n",
       "      <th>Review</th>\n",
       "      <th>Summary</th>\n",
       "      <th>Sentiment</th>\n",
       "      <th>Reviews</th>\n",
       "      <th>ReviewsTokenized</th>\n",
       "    </tr>\n",
       "  </thead>\n",
       "  <tbody>\n",
       "    <tr>\n",
       "      <th>0</th>\n",
       "      <td>Very poor</td>\n",
       "      <td>problems 1 it gets auto defrost randomly anyti...</td>\n",
       "      <td>1</td>\n",
       "      <td>Very poor problems 1 it gets auto defrost rand...</td>\n",
       "      <td>[Very, poor, problems, 1, it, gets, auto, defr...</td>\n",
       "    </tr>\n",
       "    <tr>\n",
       "      <th>1</th>\n",
       "      <td>Moderate</td>\n",
       "      <td>freeze segment is tooo large so cooling segmen...</td>\n",
       "      <td>1</td>\n",
       "      <td>Moderate freeze segment is tooo large so cooli...</td>\n",
       "      <td>[Moderate, freeze, segment, is, tooo, large, s...</td>\n",
       "    </tr>\n",
       "    <tr>\n",
       "      <th>2</th>\n",
       "      <td>Nice</td>\n",
       "      <td>warranty sticker is not present when its run d...</td>\n",
       "      <td>1</td>\n",
       "      <td>Nice warranty sticker is not present when its ...</td>\n",
       "      <td>[Nice, warranty, sticker, is, not, present, wh...</td>\n",
       "    </tr>\n",
       "    <tr>\n",
       "      <th>3</th>\n",
       "      <td>Just okay</td>\n",
       "      <td>everything is goodworking fine but it is silly...</td>\n",
       "      <td>1</td>\n",
       "      <td>Just okay everything is goodworking fine but i...</td>\n",
       "      <td>[Just, okay, everything, is, goodworking, fine...</td>\n",
       "    </tr>\n",
       "    <tr>\n",
       "      <th>4</th>\n",
       "      <td>Decent product</td>\n",
       "      <td>refrigerator working fine but top and side vie...</td>\n",
       "      <td>1</td>\n",
       "      <td>Decent product refrigerator working fine but t...</td>\n",
       "      <td>[Decent, product, refrigerator, working, fine,...</td>\n",
       "    </tr>\n",
       "  </tbody>\n",
       "</table>\n",
       "</div>"
      ],
      "text/plain": [
       "           Review                                            Summary  \\\n",
       "0       Very poor  problems 1 it gets auto defrost randomly anyti...   \n",
       "1        Moderate  freeze segment is tooo large so cooling segmen...   \n",
       "2            Nice  warranty sticker is not present when its run d...   \n",
       "3       Just okay  everything is goodworking fine but it is silly...   \n",
       "4  Decent product  refrigerator working fine but top and side vie...   \n",
       "\n",
       "   Sentiment                                            Reviews  \\\n",
       "0          1  Very poor problems 1 it gets auto defrost rand...   \n",
       "1          1  Moderate freeze segment is tooo large so cooli...   \n",
       "2          1  Nice warranty sticker is not present when its ...   \n",
       "3          1  Just okay everything is goodworking fine but i...   \n",
       "4          1  Decent product refrigerator working fine but t...   \n",
       "\n",
       "                                    ReviewsTokenized  \n",
       "0  [Very, poor, problems, 1, it, gets, auto, defr...  \n",
       "1  [Moderate, freeze, segment, is, tooo, large, s...  \n",
       "2  [Nice, warranty, sticker, is, not, present, wh...  \n",
       "3  [Just, okay, everything, is, goodworking, fine...  \n",
       "4  [Decent, product, refrigerator, working, fine,...  "
      ]
     },
     "execution_count": 13,
     "metadata": {},
     "output_type": "execute_result"
    }
   ],
   "source": [
    "data.head()"
   ]
  },
  {
   "cell_type": "code",
   "execution_count": 18,
   "id": "33038886",
   "metadata": {},
   "outputs": [
    {
     "name": "stderr",
     "output_type": "stream",
     "text": [
      "100%|██████████| 100/100 [00:02<00:00, 34.54it/s]\n",
      "<ipython-input-18-dc2423d96c12>:1: SettingWithCopyWarning: \n",
      "A value is trying to be set on a copy of a slice from a DataFrame.\n",
      "Try using .loc[row_indexer,col_indexer] = value instead\n",
      "\n",
      "See the caveats in the documentation: https://pandas.pydata.org/pandas-docs/stable/user_guide/indexing.html#returning-a-view-versus-a-copy\n",
      "  data[\"ReviewsLemmatized\"] = data.progress_apply(lambda row: lemmatize(row['ReviewsTokenized']), axis=1)\n"
     ]
    }
   ],
   "source": [
    "data[\"ReviewsLemmatized\"] = data.progress_apply(lambda row: lemmatize(row['ReviewsTokenized']), axis=1)\n"
   ]
  },
  {
   "cell_type": "code",
   "execution_count": 19,
   "id": "f0ff4a7a",
   "metadata": {},
   "outputs": [
    {
     "name": "stderr",
     "output_type": "stream",
     "text": [
      "100%|██████████| 100/100 [00:00<00:00, 21525.81it/s]\n",
      "<ipython-input-19-88bb18bef17b>:1: SettingWithCopyWarning: \n",
      "A value is trying to be set on a copy of a slice from a DataFrame.\n",
      "Try using .loc[row_indexer,col_indexer] = value instead\n",
      "\n",
      "See the caveats in the documentation: https://pandas.pydata.org/pandas-docs/stable/user_guide/indexing.html#returning-a-view-versus-a-copy\n",
      "  data[\"ReviewsLemmatized1\"] = data.progress_apply(lambda row: \" \".join(row['ReviewsLemmatized']), axis=1)\n"
     ]
    }
   ],
   "source": [
    "data[\"ReviewsLemmatized1\"] = data.progress_apply(lambda row: \" \".join(row['ReviewsLemmatized']), axis=1)\n"
   ]
  },
  {
   "cell_type": "code",
   "execution_count": 20,
   "id": "6d117034",
   "metadata": {},
   "outputs": [
    {
     "data": {
      "text/html": [
       "<div>\n",
       "<style scoped>\n",
       "    .dataframe tbody tr th:only-of-type {\n",
       "        vertical-align: middle;\n",
       "    }\n",
       "\n",
       "    .dataframe tbody tr th {\n",
       "        vertical-align: top;\n",
       "    }\n",
       "\n",
       "    .dataframe thead th {\n",
       "        text-align: right;\n",
       "    }\n",
       "</style>\n",
       "<table border=\"1\" class=\"dataframe\">\n",
       "  <thead>\n",
       "    <tr style=\"text-align: right;\">\n",
       "      <th></th>\n",
       "      <th>Rating</th>\n",
       "      <th>Reviews</th>\n",
       "      <th>ReviewsTokenized</th>\n",
       "      <th>ReviewsLemmatized</th>\n",
       "      <th>ReviewsLemmatized1</th>\n",
       "    </tr>\n",
       "  </thead>\n",
       "  <tbody>\n",
       "    <tr>\n",
       "      <th>0</th>\n",
       "      <td>5</td>\n",
       "      <td>I feel so LUCKY to have found this used (phone...</td>\n",
       "      <td>[I, feel, so, LUCKY, to, have, found, this, us...</td>\n",
       "      <td>[I, feel, so, LUCKY, to, have, find, this, use...</td>\n",
       "      <td>I feel so LUCKY to have find this use ( phone ...</td>\n",
       "    </tr>\n",
       "    <tr>\n",
       "      <th>1</th>\n",
       "      <td>4</td>\n",
       "      <td>nice phone, nice up grade from my pantach revu...</td>\n",
       "      <td>[nice, phone, ,, nice, up, grade, from, my, pa...</td>\n",
       "      <td>[nice, phone, ,, nice, up, grade, from, my, pa...</td>\n",
       "      <td>nice phone , nice up grade from my pantach rev...</td>\n",
       "    </tr>\n",
       "    <tr>\n",
       "      <th>2</th>\n",
       "      <td>5</td>\n",
       "      <td>Very pleased</td>\n",
       "      <td>[Very, pleased]</td>\n",
       "      <td>[Very, pleased]</td>\n",
       "      <td>Very pleased</td>\n",
       "    </tr>\n",
       "    <tr>\n",
       "      <th>3</th>\n",
       "      <td>4</td>\n",
       "      <td>It works good but it goes slow sometimes but i...</td>\n",
       "      <td>[It, works, good, but, it, goes, slow, sometim...</td>\n",
       "      <td>[It, work, good, but, it, go, slow, sometimes,...</td>\n",
       "      <td>It work good but it go slow sometimes but it a...</td>\n",
       "    </tr>\n",
       "    <tr>\n",
       "      <th>4</th>\n",
       "      <td>4</td>\n",
       "      <td>Great phone to replace my lost phone. The only...</td>\n",
       "      <td>[Great, phone, to, replace, my, lost, phone, ....</td>\n",
       "      <td>[Great, phone, to, replace, my, lose, phone, ....</td>\n",
       "      <td>Great phone to replace my lose phone . The onl...</td>\n",
       "    </tr>\n",
       "  </tbody>\n",
       "</table>\n",
       "</div>"
      ],
      "text/plain": [
       "   Rating                                            Reviews  \\\n",
       "0       5  I feel so LUCKY to have found this used (phone...   \n",
       "1       4  nice phone, nice up grade from my pantach revu...   \n",
       "2       5                                       Very pleased   \n",
       "3       4  It works good but it goes slow sometimes but i...   \n",
       "4       4  Great phone to replace my lost phone. The only...   \n",
       "\n",
       "                                    ReviewsTokenized  \\\n",
       "0  [I, feel, so, LUCKY, to, have, found, this, us...   \n",
       "1  [nice, phone, ,, nice, up, grade, from, my, pa...   \n",
       "2                                    [Very, pleased]   \n",
       "3  [It, works, good, but, it, goes, slow, sometim...   \n",
       "4  [Great, phone, to, replace, my, lost, phone, ....   \n",
       "\n",
       "                                   ReviewsLemmatized  \\\n",
       "0  [I, feel, so, LUCKY, to, have, find, this, use...   \n",
       "1  [nice, phone, ,, nice, up, grade, from, my, pa...   \n",
       "2                                    [Very, pleased]   \n",
       "3  [It, work, good, but, it, go, slow, sometimes,...   \n",
       "4  [Great, phone, to, replace, my, lose, phone, ....   \n",
       "\n",
       "                                  ReviewsLemmatized1  \n",
       "0  I feel so LUCKY to have find this use ( phone ...  \n",
       "1  nice phone , nice up grade from my pantach rev...  \n",
       "2                                       Very pleased  \n",
       "3  It work good but it go slow sometimes but it a...  \n",
       "4  Great phone to replace my lose phone . The onl...  "
      ]
     },
     "execution_count": 20,
     "metadata": {},
     "output_type": "execute_result"
    }
   ],
   "source": [
    "data.head()"
   ]
  },
  {
   "cell_type": "code",
   "execution_count": 22,
   "id": "407a6d49",
   "metadata": {},
   "outputs": [],
   "source": [
    "# #split data-set to train and test\n",
    "\n",
    "X = data['ReviewsLemmatized']\n",
    "Y = data['Rating']\n",
    "\n",
    "X_train, X_test, Y_train, Y_test = train_test_split(X, Y, test_size = 0.2, random_state=42)"
   ]
  },
  {
   "cell_type": "code",
   "execution_count": 37,
   "id": "a228cbb3",
   "metadata": {},
   "outputs": [
    {
     "name": "stdout",
     "output_type": "stream",
     "text": [
      "286048           don t waste your money quality be not good\n",
      "167847          good quality product a good quality a brand\n",
      "263149    Simply awesome water heating time be perfect v...\n",
      "201173                          worth every penny very cute\n",
      "46322     just wow ! crompton ozone 88 cooler be amaze w...\n",
      "                                ...                        \n",
      "141211                                 value-for-money good\n",
      "282419    Not recommend at all very bad never purchase t...\n",
      "155173    terrific purchase good picture quality with hi...\n",
      "170108                                   great product good\n",
      "143290                                    excellent awesome\n",
      "Name: ReviewsLemmatized1, Length: 214388, dtype: object\n"
     ]
    }
   ],
   "source": [
    "print(X_train)"
   ]
  },
  {
   "cell_type": "code",
   "execution_count": 23,
   "id": "cfa941a3",
   "metadata": {},
   "outputs": [],
   "source": [
    "# function to remove html elements from the reviews\n",
    "def removeHTML(raw_text):\n",
    "    clean_HTML = BeautifulSoup(raw_text, 'lxml').get_text() \n",
    "    return clean_HTML"
   ]
  },
  {
   "cell_type": "code",
   "execution_count": 24,
   "id": "f98e7d58",
   "metadata": {},
   "outputs": [],
   "source": [
    "# function to remove special characters and numbers from the reviews4961\n",
    "def removeSpecialChar(raw_text):\n",
    "    clean_SpecialChar = re.sub(\"[^a-zA-Z]\", \" \", raw_text)  \n",
    "    return clean_SpecialChar"
   ]
  },
  {
   "cell_type": "code",
   "execution_count": 25,
   "id": "ce8f7f59",
   "metadata": {},
   "outputs": [],
   "source": [
    "# function to convert all reviews into lower case\n",
    "def toLowerCase(raw_text):\n",
    "    clean_LowerCase = raw_text.lower().split()\n",
    "    return( \" \".join(clean_LowerCase))  "
   ]
  },
  {
   "cell_type": "code",
   "execution_count": 26,
   "id": "ecb762a5",
   "metadata": {},
   "outputs": [],
   "source": [
    "# function to remove stop words from the reviews\n",
    "def removeStopWords(raw_text):\n",
    "    stops = set(stopwords.words(\"english\"))\n",
    "    words = [w for w in raw_text if not w in stops]\n",
    "    return( \" \".join(words))"
   ]
  },
  {
   "cell_type": "code",
   "execution_count": 27,
   "id": "1bb0203e",
   "metadata": {},
   "outputs": [
    {
     "name": "stderr",
     "output_type": "stream",
     "text": [
      "  0%|          | 0/80 [00:00<?, ?it/s]\n"
     ]
    },
    {
     "ename": "TypeError",
     "evalue": "expected string or bytes-like object",
     "output_type": "error",
     "traceback": [
      "\u001b[0;31m---------------------------------------------------------------------------\u001b[0m",
      "\u001b[0;31mTypeError\u001b[0m                                 Traceback (most recent call last)",
      "\u001b[0;32m<ipython-input-27-ea03abe20f87>\u001b[0m in \u001b[0;36m<module>\u001b[0;34m\u001b[0m\n\u001b[1;32m     10\u001b[0m     \u001b[0;32mif\u001b[0m\u001b[0;34m(\u001b[0m\u001b[0mval\u001b[0m\u001b[0;34m!=\u001b[0m\u001b[0mnp\u001b[0m\u001b[0;34m.\u001b[0m\u001b[0mnan\u001b[0m\u001b[0;34m)\u001b[0m\u001b[0;34m:\u001b[0m\u001b[0;34m\u001b[0m\u001b[0;34m\u001b[0m\u001b[0m\n\u001b[1;32m     11\u001b[0m \u001b[0;31m#         print(type(val),i)\u001b[0m\u001b[0;34m\u001b[0m\u001b[0;34m\u001b[0m\u001b[0;34m\u001b[0m\u001b[0m\n\u001b[0;32m---> 12\u001b[0;31m         \u001b[0mval\u001b[0m \u001b[0;34m=\u001b[0m \u001b[0mremoveSpecialChar\u001b[0m\u001b[0;34m(\u001b[0m\u001b[0mval\u001b[0m\u001b[0;34m)\u001b[0m\u001b[0;34m\u001b[0m\u001b[0;34m\u001b[0m\u001b[0m\n\u001b[0m\u001b[1;32m     13\u001b[0m         \u001b[0mval\u001b[0m \u001b[0;34m=\u001b[0m \u001b[0mtoLowerCase\u001b[0m\u001b[0;34m(\u001b[0m\u001b[0mval\u001b[0m\u001b[0;34m)\u001b[0m\u001b[0;34m\u001b[0m\u001b[0;34m\u001b[0m\u001b[0m\n\u001b[1;32m     14\u001b[0m         \u001b[0mremoveStopWords\u001b[0m\u001b[0;34m(\u001b[0m\u001b[0mval\u001b[0m\u001b[0;34m)\u001b[0m\u001b[0;34m\u001b[0m\u001b[0;34m\u001b[0m\u001b[0m\n",
      "\u001b[0;32m<ipython-input-24-d822bd93ab84>\u001b[0m in \u001b[0;36mremoveSpecialChar\u001b[0;34m(raw_text)\u001b[0m\n\u001b[1;32m      1\u001b[0m \u001b[0;31m# function to remove special characters and numbers from the reviews4961\u001b[0m\u001b[0;34m\u001b[0m\u001b[0;34m\u001b[0m\u001b[0;34m\u001b[0m\u001b[0m\n\u001b[1;32m      2\u001b[0m \u001b[0;32mdef\u001b[0m \u001b[0mremoveSpecialChar\u001b[0m\u001b[0;34m(\u001b[0m\u001b[0mraw_text\u001b[0m\u001b[0;34m)\u001b[0m\u001b[0;34m:\u001b[0m\u001b[0;34m\u001b[0m\u001b[0;34m\u001b[0m\u001b[0m\n\u001b[0;32m----> 3\u001b[0;31m     \u001b[0mclean_SpecialChar\u001b[0m \u001b[0;34m=\u001b[0m \u001b[0mre\u001b[0m\u001b[0;34m.\u001b[0m\u001b[0msub\u001b[0m\u001b[0;34m(\u001b[0m\u001b[0;34m\"[^a-zA-Z]\"\u001b[0m\u001b[0;34m,\u001b[0m \u001b[0;34m\" \"\u001b[0m\u001b[0;34m,\u001b[0m \u001b[0mraw_text\u001b[0m\u001b[0;34m)\u001b[0m\u001b[0;34m\u001b[0m\u001b[0;34m\u001b[0m\u001b[0m\n\u001b[0m\u001b[1;32m      4\u001b[0m     \u001b[0;32mreturn\u001b[0m \u001b[0mclean_SpecialChar\u001b[0m\u001b[0;34m\u001b[0m\u001b[0;34m\u001b[0m\u001b[0m\n",
      "\u001b[0;32m/usr/lib/python3.8/re.py\u001b[0m in \u001b[0;36msub\u001b[0;34m(pattern, repl, string, count, flags)\u001b[0m\n\u001b[1;32m    208\u001b[0m     \u001b[0ma\u001b[0m \u001b[0mcallable\u001b[0m\u001b[0;34m,\u001b[0m \u001b[0mit\u001b[0m\u001b[0;31m'\u001b[0m\u001b[0ms\u001b[0m \u001b[0mpassed\u001b[0m \u001b[0mthe\u001b[0m \u001b[0mMatch\u001b[0m \u001b[0mobject\u001b[0m \u001b[0;32mand\u001b[0m \u001b[0mmust\u001b[0m \u001b[0;32mreturn\u001b[0m\u001b[0;34m\u001b[0m\u001b[0;34m\u001b[0m\u001b[0m\n\u001b[1;32m    209\u001b[0m     a replacement string to be used.\"\"\"\n\u001b[0;32m--> 210\u001b[0;31m     \u001b[0;32mreturn\u001b[0m \u001b[0m_compile\u001b[0m\u001b[0;34m(\u001b[0m\u001b[0mpattern\u001b[0m\u001b[0;34m,\u001b[0m \u001b[0mflags\u001b[0m\u001b[0;34m)\u001b[0m\u001b[0;34m.\u001b[0m\u001b[0msub\u001b[0m\u001b[0;34m(\u001b[0m\u001b[0mrepl\u001b[0m\u001b[0;34m,\u001b[0m \u001b[0mstring\u001b[0m\u001b[0;34m,\u001b[0m \u001b[0mcount\u001b[0m\u001b[0;34m)\u001b[0m\u001b[0;34m\u001b[0m\u001b[0;34m\u001b[0m\u001b[0m\n\u001b[0m\u001b[1;32m    211\u001b[0m \u001b[0;34m\u001b[0m\u001b[0m\n\u001b[1;32m    212\u001b[0m \u001b[0;32mdef\u001b[0m \u001b[0msubn\u001b[0m\u001b[0;34m(\u001b[0m\u001b[0mpattern\u001b[0m\u001b[0;34m,\u001b[0m \u001b[0mrepl\u001b[0m\u001b[0;34m,\u001b[0m \u001b[0mstring\u001b[0m\u001b[0;34m,\u001b[0m \u001b[0mcount\u001b[0m\u001b[0;34m=\u001b[0m\u001b[0;36m0\u001b[0m\u001b[0;34m,\u001b[0m \u001b[0mflags\u001b[0m\u001b[0;34m=\u001b[0m\u001b[0;36m0\u001b[0m\u001b[0;34m)\u001b[0m\u001b[0;34m:\u001b[0m\u001b[0;34m\u001b[0m\u001b[0;34m\u001b[0m\u001b[0m\n",
      "\u001b[0;31mTypeError\u001b[0m: expected string or bytes-like object"
     ]
    }
   ],
   "source": [
    "# X_training clean set\n",
    "X_train_cleaned = []\n",
    "\n",
    "i=1\n",
    "# X_train.to_csv(\"tsh.csv\")\n",
    "for val in tqdm(X_train):\n",
    "    i+=1\n",
    "#     print(val, type(val))\n",
    "#     val = removeHTML(val)\n",
    "    if(val!=np.nan):\n",
    "#         print(type(val),i)\n",
    "        val = removeSpecialChar(val)\n",
    "        val = toLowerCase(val)\n",
    "        removeStopWords(val) \n",
    "        X_train_cleaned.append(val) "
   ]
  },
  {
   "cell_type": "code",
   "execution_count": 35,
   "id": "dda746b6",
   "metadata": {
    "collapsed": true
   },
   "outputs": [
    {
     "name": "stdout",
     "output_type": "stream",
     "text": [
      "['worth the money good', 'simply awesome water heating time is perfect very good product for person family must buy water remain hot for more that hours', 'perfect for a small home if you are not looking for cooking like a chef everyday this nice equipment will make your meal hot everyday without any fuss', 'decent product good air delivery this is its pro and con because of heavy air delivery you cannot use this as fan otherwise this is very good if you live in hot dessert area do not buy if you are from humid coastal area it is not effective by a powerful fan instead', 'good good but speakers only', 'not recommended at all machine very heating problem not safe i have replace the machine but this problem facing continue not good money waste time waste']\n"
     ]
    }
   ],
   "source": [
    "print(X_train_cleaned[0:6])"
   ]
  },
  {
   "cell_type": "code",
   "execution_count": 23,
   "id": "506086ea",
   "metadata": {},
   "outputs": [
    {
     "name": "stderr",
     "output_type": "stream",
     "text": [
      "100%|██████████| 82756/82756 [00:23<00:00, 3529.73it/s]\n"
     ]
    }
   ],
   "source": [
    "# X_testing clean set\n",
    "X_test_cleaned = []\n",
    "\n",
    "for val in tqdm(X_test):\n",
    "#     val = removeHTML(val)\n",
    "    val = removeSpecialChar(val)\n",
    "    val = toLowerCase(val)\n",
    "    removeStopWords(val)\n",
    "    X_test_cleaned.append(val) "
   ]
  },
  {
   "cell_type": "code",
   "execution_count": 24,
   "id": "38a51b6d",
   "metadata": {},
   "outputs": [],
   "source": [
    "# Convert a collection of raw documents to a matrix of TF-IDF features. This is required so as to train the model using features instead of \n",
    "# raw strings.\n",
    "tvec = TfidfVectorizer(use_idf=True,strip_accents='ascii')\n",
    "\n",
    "X_train_tvec = tvec.fit_transform(X_train_cleaned)\n"
   ]
  },
  {
   "cell_type": "code",
   "execution_count": 25,
   "id": "e6b21305",
   "metadata": {},
   "outputs": [],
   "source": [
    "X_test_tvec = tvec.transform(X_test_cleaned)"
   ]
  },
  {
   "cell_type": "code",
   "execution_count": 26,
   "id": "c7723399",
   "metadata": {
    "scrolled": true
   },
   "outputs": [
    {
     "name": "stdout",
     "output_type": "stream",
     "text": [
      "  (0, 28801)\t0.3262960310152698\n",
      "  (0, 52345)\t0.3158030620399808\n",
      "  (0, 28918)\t0.2901529151529277\n",
      "  (0, 19131)\t0.22024278675393028\n",
      "  (0, 46745)\t0.15640716866568397\n",
      "  (0, 26462)\t0.2838373997638979\n",
      "  (0, 2321)\t0.40223494656696895\n",
      "  (0, 17882)\t0.3442155818386111\n",
      "  (0, 6313)\t0.2324809399781601\n",
      "  (0, 19949)\t0.1976053268424385\n",
      "  (0, 3664)\t0.35011292794226\n",
      "  (0, 4342)\t0.12987703559493236\n",
      "  (0, 33441)\t0.12721716381277895\n",
      "  (0, 46238)\t0.1645386575263389\n"
     ]
    }
   ],
   "source": [
    "print(X_train_tvec[0])"
   ]
  },
  {
   "cell_type": "code",
   "execution_count": 27,
   "id": "f4afb38b",
   "metadata": {},
   "outputs": [
    {
     "data": {
      "text/html": [
       "<style>#sk-container-id-1 {color: black;background-color: white;}#sk-container-id-1 pre{padding: 0;}#sk-container-id-1 div.sk-toggleable {background-color: white;}#sk-container-id-1 label.sk-toggleable__label {cursor: pointer;display: block;width: 100%;margin-bottom: 0;padding: 0.3em;box-sizing: border-box;text-align: center;}#sk-container-id-1 label.sk-toggleable__label-arrow:before {content: \"▸\";float: left;margin-right: 0.25em;color: #696969;}#sk-container-id-1 label.sk-toggleable__label-arrow:hover:before {color: black;}#sk-container-id-1 div.sk-estimator:hover label.sk-toggleable__label-arrow:before {color: black;}#sk-container-id-1 div.sk-toggleable__content {max-height: 0;max-width: 0;overflow: hidden;text-align: left;background-color: #f0f8ff;}#sk-container-id-1 div.sk-toggleable__content pre {margin: 0.2em;color: black;border-radius: 0.25em;background-color: #f0f8ff;}#sk-container-id-1 input.sk-toggleable__control:checked~div.sk-toggleable__content {max-height: 200px;max-width: 100%;overflow: auto;}#sk-container-id-1 input.sk-toggleable__control:checked~label.sk-toggleable__label-arrow:before {content: \"▾\";}#sk-container-id-1 div.sk-estimator input.sk-toggleable__control:checked~label.sk-toggleable__label {background-color: #d4ebff;}#sk-container-id-1 div.sk-label input.sk-toggleable__control:checked~label.sk-toggleable__label {background-color: #d4ebff;}#sk-container-id-1 input.sk-hidden--visually {border: 0;clip: rect(1px 1px 1px 1px);clip: rect(1px, 1px, 1px, 1px);height: 1px;margin: -1px;overflow: hidden;padding: 0;position: absolute;width: 1px;}#sk-container-id-1 div.sk-estimator {font-family: monospace;background-color: #f0f8ff;border: 1px dotted black;border-radius: 0.25em;box-sizing: border-box;margin-bottom: 0.5em;}#sk-container-id-1 div.sk-estimator:hover {background-color: #d4ebff;}#sk-container-id-1 div.sk-parallel-item::after {content: \"\";width: 100%;border-bottom: 1px solid gray;flex-grow: 1;}#sk-container-id-1 div.sk-label:hover label.sk-toggleable__label {background-color: #d4ebff;}#sk-container-id-1 div.sk-serial::before {content: \"\";position: absolute;border-left: 1px solid gray;box-sizing: border-box;top: 0;bottom: 0;left: 50%;z-index: 0;}#sk-container-id-1 div.sk-serial {display: flex;flex-direction: column;align-items: center;background-color: white;padding-right: 0.2em;padding-left: 0.2em;position: relative;}#sk-container-id-1 div.sk-item {position: relative;z-index: 1;}#sk-container-id-1 div.sk-parallel {display: flex;align-items: stretch;justify-content: center;background-color: white;position: relative;}#sk-container-id-1 div.sk-item::before, #sk-container-id-1 div.sk-parallel-item::before {content: \"\";position: absolute;border-left: 1px solid gray;box-sizing: border-box;top: 0;bottom: 0;left: 50%;z-index: -1;}#sk-container-id-1 div.sk-parallel-item {display: flex;flex-direction: column;z-index: 1;position: relative;background-color: white;}#sk-container-id-1 div.sk-parallel-item:first-child::after {align-self: flex-end;width: 50%;}#sk-container-id-1 div.sk-parallel-item:last-child::after {align-self: flex-start;width: 50%;}#sk-container-id-1 div.sk-parallel-item:only-child::after {width: 0;}#sk-container-id-1 div.sk-dashed-wrapped {border: 1px dashed gray;margin: 0 0.4em 0.5em 0.4em;box-sizing: border-box;padding-bottom: 0.4em;background-color: white;}#sk-container-id-1 div.sk-label label {font-family: monospace;font-weight: bold;display: inline-block;line-height: 1.2em;}#sk-container-id-1 div.sk-label-container {text-align: center;}#sk-container-id-1 div.sk-container {/* jupyter's `normalize.less` sets `[hidden] { display: none; }` but bootstrap.min.css set `[hidden] { display: none !important; }` so we also need the `!important` here to be able to override the default hidden behavior on the sphinx rendered scikit-learn.org. See: https://github.com/scikit-learn/scikit-learn/issues/21755 */display: inline-block !important;position: relative;}#sk-container-id-1 div.sk-text-repr-fallback {display: none;}</style><div id=\"sk-container-id-1\" class=\"sk-top-container\"><div class=\"sk-text-repr-fallback\"><pre>LinearSVC(dual=False)</pre><b>In a Jupyter environment, please rerun this cell to show the HTML representation or trust the notebook. <br />On GitHub, the HTML representation is unable to render, please try loading this page with nbviewer.org.</b></div><div class=\"sk-container\" hidden><div class=\"sk-item\"><div class=\"sk-estimator sk-toggleable\"><input class=\"sk-toggleable__control sk-hidden--visually\" id=\"sk-estimator-id-1\" type=\"checkbox\" checked><label for=\"sk-estimator-id-1\" class=\"sk-toggleable__label sk-toggleable__label-arrow\">LinearSVC</label><div class=\"sk-toggleable__content\"><pre>LinearSVC(dual=False)</pre></div></div></div></div></div>"
      ],
      "text/plain": [
       "LinearSVC(dual=False)"
      ]
     },
     "execution_count": 27,
     "metadata": {},
     "output_type": "execute_result"
    }
   ],
   "source": [
    "# Support Vector Classifier model\n",
    "svr_lin = LinearSVC(multi_class='ovr',C=1.0,loss='squared_hinge', dual=False)\n",
    "svr_lin.fit(X_train_tvec, Y_train)"
   ]
  },
  {
   "cell_type": "code",
   "execution_count": null,
   "id": "4465a34b",
   "metadata": {},
   "outputs": [],
   "source": [
    "# to save the model\n",
    "import joblib\n",
    "joblib.dump(svr_lin, \"./linear_svc2.joblib\")"
   ]
  },
  {
   "cell_type": "code",
   "execution_count": 31,
   "id": "7f5d4c0c",
   "metadata": {},
   "outputs": [
    {
     "name": "stderr",
     "output_type": "stream",
     "text": [
      "[Parallel(n_jobs=1)]: Using backend SequentialBackend with 1 concurrent workers.\n",
      "[Parallel(n_jobs=1)]: Done 100 out of 100 | elapsed: 35.4min finished\n"
     ]
    },
    {
     "data": {
      "text/html": [
       "<style>#sk-container-id-2 {color: black;background-color: white;}#sk-container-id-2 pre{padding: 0;}#sk-container-id-2 div.sk-toggleable {background-color: white;}#sk-container-id-2 label.sk-toggleable__label {cursor: pointer;display: block;width: 100%;margin-bottom: 0;padding: 0.3em;box-sizing: border-box;text-align: center;}#sk-container-id-2 label.sk-toggleable__label-arrow:before {content: \"▸\";float: left;margin-right: 0.25em;color: #696969;}#sk-container-id-2 label.sk-toggleable__label-arrow:hover:before {color: black;}#sk-container-id-2 div.sk-estimator:hover label.sk-toggleable__label-arrow:before {color: black;}#sk-container-id-2 div.sk-toggleable__content {max-height: 0;max-width: 0;overflow: hidden;text-align: left;background-color: #f0f8ff;}#sk-container-id-2 div.sk-toggleable__content pre {margin: 0.2em;color: black;border-radius: 0.25em;background-color: #f0f8ff;}#sk-container-id-2 input.sk-toggleable__control:checked~div.sk-toggleable__content {max-height: 200px;max-width: 100%;overflow: auto;}#sk-container-id-2 input.sk-toggleable__control:checked~label.sk-toggleable__label-arrow:before {content: \"▾\";}#sk-container-id-2 div.sk-estimator input.sk-toggleable__control:checked~label.sk-toggleable__label {background-color: #d4ebff;}#sk-container-id-2 div.sk-label input.sk-toggleable__control:checked~label.sk-toggleable__label {background-color: #d4ebff;}#sk-container-id-2 input.sk-hidden--visually {border: 0;clip: rect(1px 1px 1px 1px);clip: rect(1px, 1px, 1px, 1px);height: 1px;margin: -1px;overflow: hidden;padding: 0;position: absolute;width: 1px;}#sk-container-id-2 div.sk-estimator {font-family: monospace;background-color: #f0f8ff;border: 1px dotted black;border-radius: 0.25em;box-sizing: border-box;margin-bottom: 0.5em;}#sk-container-id-2 div.sk-estimator:hover {background-color: #d4ebff;}#sk-container-id-2 div.sk-parallel-item::after {content: \"\";width: 100%;border-bottom: 1px solid gray;flex-grow: 1;}#sk-container-id-2 div.sk-label:hover label.sk-toggleable__label {background-color: #d4ebff;}#sk-container-id-2 div.sk-serial::before {content: \"\";position: absolute;border-left: 1px solid gray;box-sizing: border-box;top: 0;bottom: 0;left: 50%;z-index: 0;}#sk-container-id-2 div.sk-serial {display: flex;flex-direction: column;align-items: center;background-color: white;padding-right: 0.2em;padding-left: 0.2em;position: relative;}#sk-container-id-2 div.sk-item {position: relative;z-index: 1;}#sk-container-id-2 div.sk-parallel {display: flex;align-items: stretch;justify-content: center;background-color: white;position: relative;}#sk-container-id-2 div.sk-item::before, #sk-container-id-2 div.sk-parallel-item::before {content: \"\";position: absolute;border-left: 1px solid gray;box-sizing: border-box;top: 0;bottom: 0;left: 50%;z-index: -1;}#sk-container-id-2 div.sk-parallel-item {display: flex;flex-direction: column;z-index: 1;position: relative;background-color: white;}#sk-container-id-2 div.sk-parallel-item:first-child::after {align-self: flex-end;width: 50%;}#sk-container-id-2 div.sk-parallel-item:last-child::after {align-self: flex-start;width: 50%;}#sk-container-id-2 div.sk-parallel-item:only-child::after {width: 0;}#sk-container-id-2 div.sk-dashed-wrapped {border: 1px dashed gray;margin: 0 0.4em 0.5em 0.4em;box-sizing: border-box;padding-bottom: 0.4em;background-color: white;}#sk-container-id-2 div.sk-label label {font-family: monospace;font-weight: bold;display: inline-block;line-height: 1.2em;}#sk-container-id-2 div.sk-label-container {text-align: center;}#sk-container-id-2 div.sk-container {/* jupyter's `normalize.less` sets `[hidden] { display: none; }` but bootstrap.min.css set `[hidden] { display: none !important; }` so we also need the `!important` here to be able to override the default hidden behavior on the sphinx rendered scikit-learn.org. See: https://github.com/scikit-learn/scikit-learn/issues/21755 */display: inline-block !important;position: relative;}#sk-container-id-2 div.sk-text-repr-fallback {display: none;}</style><div id=\"sk-container-id-2\" class=\"sk-top-container\"><div class=\"sk-text-repr-fallback\"><pre>RandomForestClassifier(verbose=True)</pre><b>In a Jupyter environment, please rerun this cell to show the HTML representation or trust the notebook. <br />On GitHub, the HTML representation is unable to render, please try loading this page with nbviewer.org.</b></div><div class=\"sk-container\" hidden><div class=\"sk-item\"><div class=\"sk-estimator sk-toggleable\"><input class=\"sk-toggleable__control sk-hidden--visually\" id=\"sk-estimator-id-2\" type=\"checkbox\" checked><label for=\"sk-estimator-id-2\" class=\"sk-toggleable__label sk-toggleable__label-arrow\">RandomForestClassifier</label><div class=\"sk-toggleable__content\"><pre>RandomForestClassifier(verbose=True)</pre></div></div></div></div></div>"
      ],
      "text/plain": [
       "RandomForestClassifier(verbose=True)"
      ]
     },
     "execution_count": 31,
     "metadata": {},
     "output_type": "execute_result"
    }
   ],
   "source": [
    "# Random Forest model\n",
    "random_forest = RandomForestClassifier(verbose=True)\n",
    "random_forest.fit(X_train_tvec, Y_train)"
   ]
  },
  {
   "cell_type": "code",
   "execution_count": 32,
   "id": "38e0d110",
   "metadata": {},
   "outputs": [],
   "source": [
    "rfModel = random_forest"
   ]
  },
  {
   "cell_type": "code",
   "execution_count": 47,
   "id": "35365d6d",
   "metadata": {},
   "outputs": [
    {
     "data": {
      "text/plain": [
       "['./random_forest_new.joblib']"
      ]
     },
     "execution_count": 47,
     "metadata": {},
     "output_type": "execute_result"
    }
   ],
   "source": [
    "# to save the model\n",
    "import joblib\n",
    "joblib.dump(random_forest, \"./random_forest_new.joblib\")"
   ]
  },
  {
   "cell_type": "code",
   "execution_count": 48,
   "id": "5ea8d5df",
   "metadata": {},
   "outputs": [
    {
     "data": {
      "text/plain": [
       "['TVEC.joblib']"
      ]
     },
     "execution_count": 48,
     "metadata": {},
     "output_type": "execute_result"
    }
   ],
   "source": [
    "joblib.dump(tvec, \"TVEC.joblib\")"
   ]
  },
  {
   "cell_type": "code",
   "execution_count": null,
   "id": "27c11a5d",
   "metadata": {},
   "outputs": [],
   "source": [
    "# Logistic regression model\n",
    "lr = LogisticRegression()\n",
    "lr.fit(X_train_tvec, Y_train)"
   ]
  },
  {
   "cell_type": "code",
   "execution_count": null,
   "id": "c8db37e8",
   "metadata": {},
   "outputs": [],
   "source": [
    "# to save the model\n",
    "import joblib\n",
    "joblib.dump(lr, \"./Logistic_regression.joblib\")"
   ]
  },
  {
   "cell_type": "code",
   "execution_count": null,
   "id": "598cfc02",
   "metadata": {},
   "outputs": [],
   "source": [
    "# Naive Bayes model\n",
    "nbm = naive_bayes.MultinomialNB()\n",
    "nbm.fit(X_train_tvec, Y_train)"
   ]
  },
  {
   "cell_type": "code",
   "execution_count": 47,
   "id": "dba59fdc",
   "metadata": {},
   "outputs": [
    {
     "data": {
      "text/html": [
       "<div>\n",
       "<style scoped>\n",
       "    .dataframe tbody tr th:only-of-type {\n",
       "        vertical-align: middle;\n",
       "    }\n",
       "\n",
       "    .dataframe tbody tr th {\n",
       "        vertical-align: top;\n",
       "    }\n",
       "\n",
       "    .dataframe thead th {\n",
       "        text-align: right;\n",
       "    }\n",
       "</style>\n",
       "<table border=\"1\" class=\"dataframe\">\n",
       "  <thead>\n",
       "    <tr style=\"text-align: right;\">\n",
       "      <th></th>\n",
       "      <th>Reviews</th>\n",
       "      <th>Sentiment</th>\n",
       "    </tr>\n",
       "  </thead>\n",
       "  <tbody>\n",
       "    <tr>\n",
       "      <th>0</th>\n",
       "      <td>I feel so LUCKY to have found this used (phone...</td>\n",
       "      <td>1</td>\n",
       "    </tr>\n",
       "    <tr>\n",
       "      <th>1</th>\n",
       "      <td>nice phone, nice up grade from my pantach revu...</td>\n",
       "      <td>1</td>\n",
       "    </tr>\n",
       "    <tr>\n",
       "      <th>2</th>\n",
       "      <td>Very pleased</td>\n",
       "      <td>1</td>\n",
       "    </tr>\n",
       "    <tr>\n",
       "      <th>3</th>\n",
       "      <td>It works good but it goes slow sometimes but i...</td>\n",
       "      <td>1</td>\n",
       "    </tr>\n",
       "    <tr>\n",
       "      <th>4</th>\n",
       "      <td>Great phone to replace my lost phone. The only...</td>\n",
       "      <td>1</td>\n",
       "    </tr>\n",
       "  </tbody>\n",
       "</table>\n",
       "</div>"
      ],
      "text/plain": [
       "                                             Reviews  Sentiment\n",
       "0  I feel so LUCKY to have found this used (phone...          1\n",
       "1  nice phone, nice up grade from my pantach revu...          1\n",
       "2                                       Very pleased          1\n",
       "3  It works good but it goes slow sometimes but i...          1\n",
       "4  Great phone to replace my lost phone. The only...          1"
      ]
     },
     "execution_count": 47,
     "metadata": {},
     "output_type": "execute_result"
    }
   ],
   "source": [
    "data.head()"
   ]
  },
  {
   "cell_type": "code",
   "execution_count": 18,
   "id": "63b53426",
   "metadata": {},
   "outputs": [],
   "source": [
    "import joblib"
   ]
  },
  {
   "cell_type": "code",
   "execution_count": 19,
   "id": "5c16d1fa",
   "metadata": {
    "collapsed": true
   },
   "outputs": [
    {
     "name": "stderr",
     "output_type": "stream",
     "text": [
      "/usr/local/lib/python3.8/dist-packages/sklearn/base.py:318: UserWarning: Trying to unpickle estimator DecisionTreeClassifier from version 1.2.1 when using version 1.2.2. This might lead to breaking code or invalid results. Use at your own risk. For more info please refer to:\n",
      "https://scikit-learn.org/stable/model_persistence.html#security-maintainability-limitations\n",
      "  warnings.warn(\n",
      "/usr/local/lib/python3.8/dist-packages/sklearn/base.py:318: UserWarning: Trying to unpickle estimator RandomForestClassifier from version 1.2.1 when using version 1.2.2. This might lead to breaking code or invalid results. Use at your own risk. For more info please refer to:\n",
      "https://scikit-learn.org/stable/model_persistence.html#security-maintainability-limitations\n",
      "  warnings.warn(\n",
      "/usr/local/lib/python3.8/dist-packages/sklearn/base.py:318: UserWarning: Trying to unpickle estimator LinearSVC from version 1.2.1 when using version 1.2.2. This might lead to breaking code or invalid results. Use at your own risk. For more info please refer to:\n",
      "https://scikit-learn.org/stable/model_persistence.html#security-maintainability-limitations\n",
      "  warnings.warn(\n",
      "/usr/local/lib/python3.8/dist-packages/sklearn/base.py:318: UserWarning: Trying to unpickle estimator LogisticRegression from version 1.2.1 when using version 1.2.2. This might lead to breaking code or invalid results. Use at your own risk. For more info please refer to:\n",
      "https://scikit-learn.org/stable/model_persistence.html#security-maintainability-limitations\n",
      "  warnings.warn(\n",
      "/usr/local/lib/python3.8/dist-packages/sklearn/base.py:318: UserWarning: Trying to unpickle estimator MultinomialNB from version 1.2.1 when using version 1.2.2. This might lead to breaking code or invalid results. Use at your own risk. For more info please refer to:\n",
      "https://scikit-learn.org/stable/model_persistence.html#security-maintainability-limitations\n",
      "  warnings.warn(\n"
     ]
    }
   ],
   "source": [
    "rfModel = joblib.load(\"TrainedModels/random_forest.joblib\")\n",
    "svcModel = joblib.load(\"TrainedModels/linear_svc.joblib\")\n",
    "lrModel = joblib.load(\"TrainedModels/Logistic_regression.joblib\")\n",
    "nbModel = joblib.load(\"TrainedModels/nbm.joblib\")"
   ]
  },
  {
   "cell_type": "code",
   "execution_count": 29,
   "id": "e7ffd6b0",
   "metadata": {},
   "outputs": [
    {
     "data": {
      "text/html": [
       "<style type=\"text/css\">\n",
       "#T_34000_row0_col0, #T_34000_row0_col1, #T_34000_row0_col2, #T_34000_row2_col3 {\n",
       "  background-color: #f2f2dd;\n",
       "  color: #000000;\n",
       "}\n",
       "#T_34000_row0_col3 {\n",
       "  background-color: #f5f5aa;\n",
       "  color: #000000;\n",
       "}\n",
       "#T_34000_row1_col0, #T_34000_row1_col1, #T_34000_row1_col2, #T_34000_row3_col3, #T_34000_row4_col3 {\n",
       "  background-color: #ffff00;\n",
       "  color: #000000;\n",
       "}\n",
       "#T_34000_row1_col3 {\n",
       "  background-color: #fcfc33;\n",
       "  color: #000000;\n",
       "}\n",
       "#T_34000_row2_col0, #T_34000_row4_col0 {\n",
       "  background-color: #fcfc31;\n",
       "  color: #000000;\n",
       "}\n",
       "#T_34000_row2_col1, #T_34000_row4_col1 {\n",
       "  background-color: #fcfc37;\n",
       "  color: #000000;\n",
       "}\n",
       "#T_34000_row2_col2, #T_34000_row4_col2 {\n",
       "  background-color: #fbfb3c;\n",
       "  color: #000000;\n",
       "}\n",
       "#T_34000_row3_col0 {\n",
       "  background-color: #f9f962;\n",
       "  color: #000000;\n",
       "}\n",
       "#T_34000_row3_col1 {\n",
       "  background-color: #f9f96e;\n",
       "  color: #000000;\n",
       "}\n",
       "#T_34000_row3_col2 {\n",
       "  background-color: #f8f879;\n",
       "  color: #000000;\n",
       "}\n",
       "</style>\n",
       "<table id=\"T_34000\">\n",
       "  <thead>\n",
       "    <tr>\n",
       "      <th class=\"blank level0\" >&nbsp;</th>\n",
       "      <th id=\"T_34000_level0_col0\" class=\"col_heading level0 col0\" >precision</th>\n",
       "      <th id=\"T_34000_level0_col1\" class=\"col_heading level0 col1\" >recall</th>\n",
       "      <th id=\"T_34000_level0_col2\" class=\"col_heading level0 col2\" >f1-score</th>\n",
       "      <th id=\"T_34000_level0_col3\" class=\"col_heading level0 col3\" >support</th>\n",
       "    </tr>\n",
       "  </thead>\n",
       "  <tbody>\n",
       "    <tr>\n",
       "      <th id=\"T_34000_level0_row0\" class=\"row_heading level0 row0\" >0</th>\n",
       "      <td id=\"T_34000_row0_col0\" class=\"data row0 col0\" >0.860000</td>\n",
       "      <td id=\"T_34000_row0_col1\" class=\"data row0 col1\" >0.840000</td>\n",
       "      <td id=\"T_34000_row0_col2\" class=\"data row0 col2\" >0.850000</td>\n",
       "      <td id=\"T_34000_row0_col3\" class=\"data row0 col3\" >19228.000000</td>\n",
       "    </tr>\n",
       "    <tr>\n",
       "      <th id=\"T_34000_level0_row1\" class=\"row_heading level0 row1\" >1</th>\n",
       "      <td id=\"T_34000_row1_col0\" class=\"data row1 col0\" >0.950000</td>\n",
       "      <td id=\"T_34000_row1_col1\" class=\"data row1 col1\" >0.960000</td>\n",
       "      <td id=\"T_34000_row1_col2\" class=\"data row1 col2\" >0.960000</td>\n",
       "      <td id=\"T_34000_row1_col3\" class=\"data row1 col3\" >63528.000000</td>\n",
       "    </tr>\n",
       "    <tr>\n",
       "      <th id=\"T_34000_level0_row2\" class=\"row_heading level0 row2\" >accuracy</th>\n",
       "      <td id=\"T_34000_row2_col0\" class=\"data row2 col0\" >0.930000</td>\n",
       "      <td id=\"T_34000_row2_col1\" class=\"data row2 col1\" >0.930000</td>\n",
       "      <td id=\"T_34000_row2_col2\" class=\"data row2 col2\" >0.930000</td>\n",
       "      <td id=\"T_34000_row2_col3\" class=\"data row2 col3\" >0.930000</td>\n",
       "    </tr>\n",
       "    <tr>\n",
       "      <th id=\"T_34000_level0_row3\" class=\"row_heading level0 row3\" >macro avg</th>\n",
       "      <td id=\"T_34000_row3_col0\" class=\"data row3 col0\" >0.910000</td>\n",
       "      <td id=\"T_34000_row3_col1\" class=\"data row3 col1\" >0.900000</td>\n",
       "      <td id=\"T_34000_row3_col2\" class=\"data row3 col2\" >0.900000</td>\n",
       "      <td id=\"T_34000_row3_col3\" class=\"data row3 col3\" >82756.000000</td>\n",
       "    </tr>\n",
       "    <tr>\n",
       "      <th id=\"T_34000_level0_row4\" class=\"row_heading level0 row4\" >weighted avg</th>\n",
       "      <td id=\"T_34000_row4_col0\" class=\"data row4 col0\" >0.930000</td>\n",
       "      <td id=\"T_34000_row4_col1\" class=\"data row4 col1\" >0.930000</td>\n",
       "      <td id=\"T_34000_row4_col2\" class=\"data row4 col2\" >0.930000</td>\n",
       "      <td id=\"T_34000_row4_col3\" class=\"data row4 col3\" >82756.000000</td>\n",
       "    </tr>\n",
       "  </tbody>\n",
       "</table>\n"
      ],
      "text/plain": [
       "<pandas.io.formats.style.Styler at 0x7f40f634ca30>"
      ]
     },
     "execution_count": 29,
     "metadata": {},
     "output_type": "execute_result"
    }
   ],
   "source": [
    "# Predict using training and testing data and display the accuracy, f-1 score, precision for Positive and Negative Sentiment Classifiers \n",
    "svr_lin_predictions = svr_lin.predict(X_test_tvec)\n",
    "report = classification_report(Y_test,svr_lin_predictions, output_dict=True)\n",
    "data_report = pd.DataFrame(report).transpose().round(2)\n",
    "cm = sns.light_palette(\"yellow\", as_cmap=True)\n",
    "data_report.style.background_gradient(cmap=cm)"
   ]
  },
  {
   "cell_type": "code",
   "execution_count": 21,
   "id": "7b009f87",
   "metadata": {},
   "outputs": [
    {
     "data": {
      "image/png": "[encoded data removed]",
      "text/plain": [
       "<Figure size 432x288 with 2 Axes>"
      ]
     },
     "metadata": {
      "needs_background": "light"
     },
     "output_type": "display_data"
    }
   ],
   "source": [
    "# confusion matrix\n",
    "# svr_lin_predictions=svr_lin.predict(tvec.transform(X_test_cleaned))\n",
    "ax= plt.subplot()\n",
    "cm=confusion_matrix(Y_test,svr_lin_predictions)\n",
    "sns.heatmap(cm, annot=True, fmt='g', ax=ax,cmap='Greens');  \n",
    "ax.set_xlabel('Predicted labels');ax.set_ylabel('True labels');\n",
    "ax.set_title('Confusion Matrix');\n",
    "ax.xaxis.set_ticklabels(['negative', 'positive']); ax.yaxis.set_ticklabels(['negative', 'positive']);"
   ]
  },
  {
   "cell_type": "code",
   "execution_count": 33,
   "id": "e136cc49",
   "metadata": {},
   "outputs": [
    {
     "name": "stderr",
     "output_type": "stream",
     "text": [
      "[Parallel(n_jobs=1)]: Using backend SequentialBackend with 1 concurrent workers.\n",
      "[Parallel(n_jobs=1)]: Done 100 out of 100 | elapsed:   13.3s finished\n"
     ]
    },
    {
     "data": {
      "text/html": [
       "<style type=\"text/css\">\n",
       "#T_ad136_row0_col0, #T_ad136_row0_col1, #T_ad136_row0_col2, #T_ad136_row1_col0, #T_ad136_row2_col0, #T_ad136_row2_col3, #T_ad136_row3_col0, #T_ad136_row4_col0 {\n",
       "  background-color: #f3f0f0;\n",
       "  color: #000000;\n",
       "}\n",
       "#T_ad136_row0_col3 {\n",
       "  background-color: #f6b8b8;\n",
       "  color: #000000;\n",
       "}\n",
       "#T_ad136_row1_col1, #T_ad136_row1_col2, #T_ad136_row3_col3, #T_ad136_row4_col3 {\n",
       "  background-color: #ff0000;\n",
       "  color: #f1f1f1;\n",
       "}\n",
       "#T_ad136_row1_col3 {\n",
       "  background-color: #fc3838;\n",
       "  color: #f1f1f1;\n",
       "}\n",
       "#T_ad136_row2_col1, #T_ad136_row4_col1 {\n",
       "  background-color: #fd2b2b;\n",
       "  color: #f1f1f1;\n",
       "}\n",
       "#T_ad136_row2_col2, #T_ad136_row4_col2 {\n",
       "  background-color: #fd2828;\n",
       "  color: #f1f1f1;\n",
       "}\n",
       "#T_ad136_row3_col1 {\n",
       "  background-color: #f96d6d;\n",
       "  color: #f1f1f1;\n",
       "}\n",
       "#T_ad136_row3_col2 {\n",
       "  background-color: #f97878;\n",
       "  color: #f1f1f1;\n",
       "}\n",
       "</style>\n",
       "<table id=\"T_ad136\">\n",
       "  <thead>\n",
       "    <tr>\n",
       "      <th class=\"blank level0\" >&nbsp;</th>\n",
       "      <th id=\"T_ad136_level0_col0\" class=\"col_heading level0 col0\" >precision</th>\n",
       "      <th id=\"T_ad136_level0_col1\" class=\"col_heading level0 col1\" >recall</th>\n",
       "      <th id=\"T_ad136_level0_col2\" class=\"col_heading level0 col2\" >f1-score</th>\n",
       "      <th id=\"T_ad136_level0_col3\" class=\"col_heading level0 col3\" >support</th>\n",
       "    </tr>\n",
       "  </thead>\n",
       "  <tbody>\n",
       "    <tr>\n",
       "      <th id=\"T_ad136_level0_row0\" class=\"row_heading level0 row0\" >0</th>\n",
       "      <td id=\"T_ad136_row0_col0\" class=\"data row0 col0\" >0.970000</td>\n",
       "      <td id=\"T_ad136_row0_col1\" class=\"data row0 col1\" >0.880000</td>\n",
       "      <td id=\"T_ad136_row0_col2\" class=\"data row0 col2\" >0.920000</td>\n",
       "      <td id=\"T_ad136_row0_col3\" class=\"data row0 col3\" >19228.000000</td>\n",
       "    </tr>\n",
       "    <tr>\n",
       "      <th id=\"T_ad136_level0_row1\" class=\"row_heading level0 row1\" >1</th>\n",
       "      <td id=\"T_ad136_row1_col0\" class=\"data row1 col0\" >0.970000</td>\n",
       "      <td id=\"T_ad136_row1_col1\" class=\"data row1 col1\" >0.990000</td>\n",
       "      <td id=\"T_ad136_row1_col2\" class=\"data row1 col2\" >0.980000</td>\n",
       "      <td id=\"T_ad136_row1_col3\" class=\"data row1 col3\" >63528.000000</td>\n",
       "    </tr>\n",
       "    <tr>\n",
       "      <th id=\"T_ad136_level0_row2\" class=\"row_heading level0 row2\" >accuracy</th>\n",
       "      <td id=\"T_ad136_row2_col0\" class=\"data row2 col0\" >0.970000</td>\n",
       "      <td id=\"T_ad136_row2_col1\" class=\"data row2 col1\" >0.970000</td>\n",
       "      <td id=\"T_ad136_row2_col2\" class=\"data row2 col2\" >0.970000</td>\n",
       "      <td id=\"T_ad136_row2_col3\" class=\"data row2 col3\" >0.970000</td>\n",
       "    </tr>\n",
       "    <tr>\n",
       "      <th id=\"T_ad136_level0_row3\" class=\"row_heading level0 row3\" >macro avg</th>\n",
       "      <td id=\"T_ad136_row3_col0\" class=\"data row3 col0\" >0.970000</td>\n",
       "      <td id=\"T_ad136_row3_col1\" class=\"data row3 col1\" >0.940000</td>\n",
       "      <td id=\"T_ad136_row3_col2\" class=\"data row3 col2\" >0.950000</td>\n",
       "      <td id=\"T_ad136_row3_col3\" class=\"data row3 col3\" >82756.000000</td>\n",
       "    </tr>\n",
       "    <tr>\n",
       "      <th id=\"T_ad136_level0_row4\" class=\"row_heading level0 row4\" >weighted avg</th>\n",
       "      <td id=\"T_ad136_row4_col0\" class=\"data row4 col0\" >0.970000</td>\n",
       "      <td id=\"T_ad136_row4_col1\" class=\"data row4 col1\" >0.970000</td>\n",
       "      <td id=\"T_ad136_row4_col2\" class=\"data row4 col2\" >0.970000</td>\n",
       "      <td id=\"T_ad136_row4_col3\" class=\"data row4 col3\" >82756.000000</td>\n",
       "    </tr>\n",
       "  </tbody>\n",
       "</table>\n"
      ],
      "text/plain": [
       "<pandas.io.formats.style.Styler at 0x7f40949d1dc0>"
      ]
     },
     "execution_count": 33,
     "metadata": {},
     "output_type": "execute_result"
    }
   ],
   "source": [
    "# Predict using training and testing data and display the accuracy, f-1 score, precision for Positive and Negative Sentiment Classifiers \n",
    "ranfrst_predictions = rfModel.predict(X_test_tvec)\n",
    "report = classification_report(Y_test,ranfrst_predictions, output_dict=True)\n",
    "data_report = pd.DataFrame(report).transpose().round(2)\n",
    "cm = sns.light_palette(\"red\", as_cmap=True)\n",
    "data_report.style.background_gradient(cmap=cm)\n",
    "\n"
   ]
  },
  {
   "cell_type": "code",
   "execution_count": 55,
   "id": "cf80c9a2",
   "metadata": {},
   "outputs": [
    {
     "data": {
      "image/png": "[encoded data removed]",
      "text/plain": [
       "<Figure size 432x288 with 2 Axes>"
      ]
     },
     "metadata": {
      "needs_background": "light"
     },
     "output_type": "display_data"
    }
   ],
   "source": [
    "# confusion matrix\n",
    "# ranfrst_predictions=random_forest.predict(tvec.transform(X_test_cleaned))\n",
    "ax= plt.subplot()\n",
    "cm=confusion_matrix(Y_test,ranfrst_predictions)\n",
    "sns.heatmap(cm, annot=True, fmt='g', ax=ax,cmap='Oranges');  \n",
    "ax.set_xlabel('Predicted labels');ax.set_ylabel('True labels');\n",
    "ax.set_title('Confusion Matrix');\n",
    "ax.xaxis.set_ticklabels(['negative', 'positive']); ax.yaxis.set_ticklabels(['negative', 'positive']);"
   ]
  },
  {
   "cell_type": "code",
   "execution_count": 56,
   "id": "58a437b7",
   "metadata": {},
   "outputs": [
    {
     "name": "stderr",
     "output_type": "stream",
     "text": [
      "[Parallel(n_jobs=1)]: Using backend SequentialBackend with 1 concurrent workers.\n",
      "[Parallel(n_jobs=1)]: Done 100 out of 100 | elapsed:    6.1s finished\n"
     ]
    }
   ],
   "source": [
    "rfProba = rfModel.predict_proba(X_test_tvec)"
   ]
  },
  {
   "cell_type": "code",
   "execution_count": 58,
   "id": "40ffa301",
   "metadata": {},
   "outputs": [
    {
     "ename": "ValueError",
     "evalue": "y should be a 1d array, got an array of shape (53598, 2) instead.",
     "output_type": "error",
     "traceback": [
      "\u001b[0;31m---------------------------------------------------------------------------\u001b[0m",
      "\u001b[0;31mValueError\u001b[0m                                Traceback (most recent call last)",
      "\u001b[0;32m<ipython-input-58-8c95457d8785>\u001b[0m in \u001b[0;36m<module>\u001b[0;34m\u001b[0m\n\u001b[1;32m      1\u001b[0m \u001b[0;32mfrom\u001b[0m \u001b[0msklearn\u001b[0m\u001b[0;34m.\u001b[0m\u001b[0mmetrics\u001b[0m \u001b[0;32mimport\u001b[0m \u001b[0maccuracy_score\u001b[0m\u001b[0;34m,\u001b[0m \u001b[0mconfusion_matrix\u001b[0m\u001b[0;34m,\u001b[0m \u001b[0mroc_auc_score\u001b[0m\u001b[0;34m,\u001b[0m \u001b[0mroc_curve\u001b[0m\u001b[0;34m\u001b[0m\u001b[0;34m\u001b[0m\u001b[0m\n\u001b[1;32m      2\u001b[0m \u001b[0;34m\u001b[0m\u001b[0m\n\u001b[0;32m----> 3\u001b[0;31m \u001b[0mfpr\u001b[0m\u001b[0;34m,\u001b[0m \u001b[0mtpr\u001b[0m\u001b[0;34m,\u001b[0m \u001b[0mthresholds\u001b[0m \u001b[0;34m=\u001b[0m \u001b[0mroc_curve\u001b[0m\u001b[0;34m(\u001b[0m\u001b[0mY_test\u001b[0m\u001b[0;34m,\u001b[0m \u001b[0mrfProba\u001b[0m\u001b[0;34m)\u001b[0m\u001b[0;34m\u001b[0m\u001b[0;34m\u001b[0m\u001b[0m\n\u001b[0m\u001b[1;32m      4\u001b[0m \u001b[0mplt\u001b[0m\u001b[0;34m.\u001b[0m\u001b[0mplot\u001b[0m\u001b[0;34m(\u001b[0m\u001b[0mfpr\u001b[0m\u001b[0;34m,\u001b[0m \u001b[0mtpr\u001b[0m\u001b[0;34m)\u001b[0m\u001b[0;34m\u001b[0m\u001b[0;34m\u001b[0m\u001b[0m\n\u001b[1;32m      5\u001b[0m \u001b[0mplt\u001b[0m\u001b[0;34m.\u001b[0m\u001b[0mxlabel\u001b[0m\u001b[0;34m(\u001b[0m\u001b[0;34m'False Positive Rate'\u001b[0m\u001b[0;34m)\u001b[0m\u001b[0;34m\u001b[0m\u001b[0;34m\u001b[0m\u001b[0m\n",
      "\u001b[0;32m/usr/local/lib/python3.8/dist-packages/sklearn/metrics/_ranking.py\u001b[0m in \u001b[0;36mroc_curve\u001b[0;34m(y_true, y_score, pos_label, sample_weight, drop_intermediate)\u001b[0m\n\u001b[1;32m    990\u001b[0m     \u001b[0marray\u001b[0m\u001b[0;34m(\u001b[0m\u001b[0;34m[\u001b[0m\u001b[0;36m1.8\u001b[0m \u001b[0;34m,\u001b[0m \u001b[0;36m0.8\u001b[0m \u001b[0;34m,\u001b[0m \u001b[0;36m0.4\u001b[0m \u001b[0;34m,\u001b[0m \u001b[0;36m0.35\u001b[0m\u001b[0;34m,\u001b[0m \u001b[0;36m0.1\u001b[0m \u001b[0;34m]\u001b[0m\u001b[0;34m)\u001b[0m\u001b[0;34m\u001b[0m\u001b[0;34m\u001b[0m\u001b[0m\n\u001b[1;32m    991\u001b[0m     \"\"\"\n\u001b[0;32m--> 992\u001b[0;31m     fps, tps, thresholds = _binary_clf_curve(\n\u001b[0m\u001b[1;32m    993\u001b[0m         \u001b[0my_true\u001b[0m\u001b[0;34m,\u001b[0m \u001b[0my_score\u001b[0m\u001b[0;34m,\u001b[0m \u001b[0mpos_label\u001b[0m\u001b[0;34m=\u001b[0m\u001b[0mpos_label\u001b[0m\u001b[0;34m,\u001b[0m \u001b[0msample_weight\u001b[0m\u001b[0;34m=\u001b[0m\u001b[0msample_weight\u001b[0m\u001b[0;34m\u001b[0m\u001b[0;34m\u001b[0m\u001b[0m\n\u001b[1;32m    994\u001b[0m     )\n",
      "\u001b[0;32m/usr/local/lib/python3.8/dist-packages/sklearn/metrics/_ranking.py\u001b[0m in \u001b[0;36m_binary_clf_curve\u001b[0;34m(y_true, y_score, pos_label, sample_weight)\u001b[0m\n\u001b[1;32m    751\u001b[0m     \u001b[0mcheck_consistent_length\u001b[0m\u001b[0;34m(\u001b[0m\u001b[0my_true\u001b[0m\u001b[0;34m,\u001b[0m \u001b[0my_score\u001b[0m\u001b[0;34m,\u001b[0m \u001b[0msample_weight\u001b[0m\u001b[0;34m)\u001b[0m\u001b[0;34m\u001b[0m\u001b[0;34m\u001b[0m\u001b[0m\n\u001b[1;32m    752\u001b[0m     \u001b[0my_true\u001b[0m \u001b[0;34m=\u001b[0m \u001b[0mcolumn_or_1d\u001b[0m\u001b[0;34m(\u001b[0m\u001b[0my_true\u001b[0m\u001b[0;34m)\u001b[0m\u001b[0;34m\u001b[0m\u001b[0;34m\u001b[0m\u001b[0m\n\u001b[0;32m--> 753\u001b[0;31m     \u001b[0my_score\u001b[0m \u001b[0;34m=\u001b[0m \u001b[0mcolumn_or_1d\u001b[0m\u001b[0;34m(\u001b[0m\u001b[0my_score\u001b[0m\u001b[0;34m)\u001b[0m\u001b[0;34m\u001b[0m\u001b[0;34m\u001b[0m\u001b[0m\n\u001b[0m\u001b[1;32m    754\u001b[0m     \u001b[0massert_all_finite\u001b[0m\u001b[0;34m(\u001b[0m\u001b[0my_true\u001b[0m\u001b[0;34m)\u001b[0m\u001b[0;34m\u001b[0m\u001b[0;34m\u001b[0m\u001b[0m\n\u001b[1;32m    755\u001b[0m     \u001b[0massert_all_finite\u001b[0m\u001b[0;34m(\u001b[0m\u001b[0my_score\u001b[0m\u001b[0;34m)\u001b[0m\u001b[0;34m\u001b[0m\u001b[0;34m\u001b[0m\u001b[0m\n",
      "\u001b[0;32m/usr/local/lib/python3.8/dist-packages/sklearn/utils/validation.py\u001b[0m in \u001b[0;36mcolumn_or_1d\u001b[0;34m(y, dtype, warn)\u001b[0m\n\u001b[1;32m   1200\u001b[0m         \u001b[0;32mreturn\u001b[0m \u001b[0m_asarray_with_order\u001b[0m\u001b[0;34m(\u001b[0m\u001b[0mxp\u001b[0m\u001b[0;34m.\u001b[0m\u001b[0mreshape\u001b[0m\u001b[0;34m(\u001b[0m\u001b[0my\u001b[0m\u001b[0;34m,\u001b[0m \u001b[0;34m-\u001b[0m\u001b[0;36m1\u001b[0m\u001b[0;34m)\u001b[0m\u001b[0;34m,\u001b[0m \u001b[0morder\u001b[0m\u001b[0;34m=\u001b[0m\u001b[0;34m\"C\"\u001b[0m\u001b[0;34m,\u001b[0m \u001b[0mxp\u001b[0m\u001b[0;34m=\u001b[0m\u001b[0mxp\u001b[0m\u001b[0;34m)\u001b[0m\u001b[0;34m\u001b[0m\u001b[0;34m\u001b[0m\u001b[0m\n\u001b[1;32m   1201\u001b[0m \u001b[0;34m\u001b[0m\u001b[0m\n\u001b[0;32m-> 1202\u001b[0;31m     raise ValueError(\n\u001b[0m\u001b[1;32m   1203\u001b[0m         \u001b[0;34m\"y should be a 1d array, got an array of shape {} instead.\"\u001b[0m\u001b[0;34m.\u001b[0m\u001b[0mformat\u001b[0m\u001b[0;34m(\u001b[0m\u001b[0mshape\u001b[0m\u001b[0;34m)\u001b[0m\u001b[0;34m\u001b[0m\u001b[0;34m\u001b[0m\u001b[0m\n\u001b[1;32m   1204\u001b[0m     )\n",
      "\u001b[0;31mValueError\u001b[0m: y should be a 1d array, got an array of shape (53598, 2) instead."
     ]
    }
   ],
   "source": [
    "from sklearn.metrics import accuracy_score, confusion_matrix, roc_auc_score, roc_curve\n",
    "\n",
    "fpr, tpr, thresholds = roc_curve(Y_test, rfProba)\n",
    "plt.plot(fpr, tpr)\n",
    "plt.xlabel('False Positive Rate')\n",
    "plt.ylabel('True Positive Rate')"
   ]
  },
  {
   "cell_type": "code",
   "execution_count": 63,
   "id": "f61c3c3a",
   "metadata": {},
   "outputs": [
    {
     "name": "stderr",
     "output_type": "stream",
     "text": [
      "[Parallel(n_jobs=1)]: Using backend SequentialBackend with 1 concurrent workers.\n",
      "[Parallel(n_jobs=1)]: Done 100 out of 100 | elapsed:    6.2s finished\n"
     ]
    },
    {
     "data": {
      "image/png": "[encoded data removed]",
      "text/plain": [
       "<Figure size 432x288 with 1 Axes>"
      ]
     },
     "metadata": {
      "needs_background": "light"
     },
     "output_type": "display_data"
    }
   ],
   "source": [
    "from sklearn.metrics import RocCurveDisplay\n",
    "rf_disp = RocCurveDisplay.from_estimator(rfModel, X_test_tvec, Y_test)\n",
    "plt.show()"
   ]
  },
  {
   "cell_type": "code",
   "execution_count": 60,
   "id": "27bd54d6",
   "metadata": {},
   "outputs": [
    {
     "data": {
      "text/plain": [
       "array([[0.99, 0.01],\n",
       "       [0.95, 0.05],\n",
       "       [0.  , 1.  ],\n",
       "       ...,\n",
       "       [0.96, 0.04],\n",
       "       [0.  , 1.  ],\n",
       "       [0.96, 0.04]])"
      ]
     },
     "execution_count": 60,
     "metadata": {},
     "output_type": "execute_result"
    }
   ],
   "source": [
    "rfProba"
   ]
  },
  {
   "cell_type": "code",
   "execution_count": 26,
   "id": "91ef4ff2",
   "metadata": {},
   "outputs": [
    {
     "data": {
      "text/html": [
       "<style type=\"text/css\">\n",
       "#T_8dc2c_row0_col0, #T_8dc2c_row0_col1, #T_8dc2c_row0_col2, #T_8dc2c_row2_col3 {\n",
       "  background-color: #f3f0f3;\n",
       "  color: #000000;\n",
       "}\n",
       "#T_8dc2c_row0_col3 {\n",
       "  background-color: #cfa5cf;\n",
       "  color: #000000;\n",
       "}\n",
       "#T_8dc2c_row1_col0, #T_8dc2c_row1_col1, #T_8dc2c_row1_col2, #T_8dc2c_row3_col3, #T_8dc2c_row4_col3 {\n",
       "  background-color: #800080;\n",
       "  color: #f1f1f1;\n",
       "}\n",
       "#T_8dc2c_row1_col3 {\n",
       "  background-color: #a44aa4;\n",
       "  color: #f1f1f1;\n",
       "}\n",
       "#T_8dc2c_row2_col0, #T_8dc2c_row4_col0 {\n",
       "  background-color: #9c3b9c;\n",
       "  color: #f1f1f1;\n",
       "}\n",
       "#T_8dc2c_row2_col1, #T_8dc2c_row4_col1 {\n",
       "  background-color: #a247a2;\n",
       "  color: #f1f1f1;\n",
       "}\n",
       "#T_8dc2c_row2_col2, #T_8dc2c_row4_col2 {\n",
       "  background-color: #a145a1;\n",
       "  color: #f1f1f1;\n",
       "}\n",
       "#T_8dc2c_row3_col0, #T_8dc2c_row3_col1 {\n",
       "  background-color: #b977b9;\n",
       "  color: #f1f1f1;\n",
       "}\n",
       "#T_8dc2c_row3_col2 {\n",
       "  background-color: #b166b1;\n",
       "  color: #f1f1f1;\n",
       "}\n",
       "</style>\n",
       "<table id=\"T_8dc2c\">\n",
       "  <thead>\n",
       "    <tr>\n",
       "      <th class=\"blank level0\" >&nbsp;</th>\n",
       "      <th id=\"T_8dc2c_level0_col0\" class=\"col_heading level0 col0\" >precision</th>\n",
       "      <th id=\"T_8dc2c_level0_col1\" class=\"col_heading level0 col1\" >recall</th>\n",
       "      <th id=\"T_8dc2c_level0_col2\" class=\"col_heading level0 col2\" >f1-score</th>\n",
       "      <th id=\"T_8dc2c_level0_col3\" class=\"col_heading level0 col3\" >support</th>\n",
       "    </tr>\n",
       "  </thead>\n",
       "  <tbody>\n",
       "    <tr>\n",
       "      <th id=\"T_8dc2c_level0_row0\" class=\"row_heading level0 row0\" >0</th>\n",
       "      <td id=\"T_8dc2c_row0_col0\" class=\"data row0 col0\" >0.890000</td>\n",
       "      <td id=\"T_8dc2c_row0_col1\" class=\"data row0 col1\" >0.850000</td>\n",
       "      <td id=\"T_8dc2c_row0_col2\" class=\"data row0 col2\" >0.870000</td>\n",
       "      <td id=\"T_8dc2c_row0_col3\" class=\"data row0 col3\" >20837.000000</td>\n",
       "    </tr>\n",
       "    <tr>\n",
       "      <th id=\"T_8dc2c_level0_row1\" class=\"row_heading level0 row1\" >1</th>\n",
       "      <td id=\"T_8dc2c_row1_col0\" class=\"data row1 col0\" >0.930000</td>\n",
       "      <td id=\"T_8dc2c_row1_col1\" class=\"data row1 col1\" >0.950000</td>\n",
       "      <td id=\"T_8dc2c_row1_col2\" class=\"data row1 col2\" >0.940000</td>\n",
       "      <td id=\"T_8dc2c_row1_col3\" class=\"data row1 col3\" >46030.000000</td>\n",
       "    </tr>\n",
       "    <tr>\n",
       "      <th id=\"T_8dc2c_level0_row2\" class=\"row_heading level0 row2\" >accuracy</th>\n",
       "      <td id=\"T_8dc2c_row2_col0\" class=\"data row2 col0\" >0.920000</td>\n",
       "      <td id=\"T_8dc2c_row2_col1\" class=\"data row2 col1\" >0.920000</td>\n",
       "      <td id=\"T_8dc2c_row2_col2\" class=\"data row2 col2\" >0.920000</td>\n",
       "      <td id=\"T_8dc2c_row2_col3\" class=\"data row2 col3\" >0.920000</td>\n",
       "    </tr>\n",
       "    <tr>\n",
       "      <th id=\"T_8dc2c_level0_row3\" class=\"row_heading level0 row3\" >macro avg</th>\n",
       "      <td id=\"T_8dc2c_row3_col0\" class=\"data row3 col0\" >0.910000</td>\n",
       "      <td id=\"T_8dc2c_row3_col1\" class=\"data row3 col1\" >0.900000</td>\n",
       "      <td id=\"T_8dc2c_row3_col2\" class=\"data row3 col2\" >0.910000</td>\n",
       "      <td id=\"T_8dc2c_row3_col3\" class=\"data row3 col3\" >66867.000000</td>\n",
       "    </tr>\n",
       "    <tr>\n",
       "      <th id=\"T_8dc2c_level0_row4\" class=\"row_heading level0 row4\" >weighted avg</th>\n",
       "      <td id=\"T_8dc2c_row4_col0\" class=\"data row4 col0\" >0.920000</td>\n",
       "      <td id=\"T_8dc2c_row4_col1\" class=\"data row4 col1\" >0.920000</td>\n",
       "      <td id=\"T_8dc2c_row4_col2\" class=\"data row4 col2\" >0.920000</td>\n",
       "      <td id=\"T_8dc2c_row4_col3\" class=\"data row4 col3\" >66867.000000</td>\n",
       "    </tr>\n",
       "  </tbody>\n",
       "</table>\n"
      ],
      "text/plain": [
       "<pandas.io.formats.style.Styler at 0x7fc07f05f0a0>"
      ]
     },
     "execution_count": 26,
     "metadata": {},
     "output_type": "execute_result"
    }
   ],
   "source": [
    "# Predict using training and testing data and display the accuracy, f-1 score, precision for Positive and Negative Sentiment Classifiers \n",
    "lr_predictions = lrModel.predict(X_test_tvec)\n",
    "report = classification_report(Y_test,lr_predictions, output_dict=True)\n",
    "data_report = pd.DataFrame(report).transpose().round(2)\n",
    "cm = sns.light_palette(\"purple\", as_cmap=True)\n",
    "data_report.style.background_gradient(cmap=cm)\n",
    "\n"
   ]
  },
  {
   "cell_type": "code",
   "execution_count": 40,
   "id": "80de9172",
   "metadata": {},
   "outputs": [
    {
     "data": {
      "image/png": "[encoded data removed]",
      "text/plain": [
       "<Figure size 432x288 with 2 Axes>"
      ]
     },
     "metadata": {
      "needs_background": "light"
     },
     "output_type": "display_data"
    }
   ],
   "source": [
    "# confusion matrix\n",
    "# lr_predictions=lr.predict(tvec.transform(X_test_cleaned))\n",
    "ax= plt.subplot()\n",
    "cm=confusion_matrix(Y_test,lr_predictions)\n",
    "sns.heatmap(cm, annot=True, fmt='g', ax=ax,cmap='Reds');  \n",
    "ax.set_xlabel('Predicted labels');ax.set_ylabel('True labels');\n",
    "ax.set_title('Confusion Matrix');\n",
    "ax.xaxis.set_ticklabels(['negative', 'positive']); ax.yaxis.set_ticklabels(['negative', 'positive']);"
   ]
  },
  {
   "cell_type": "code",
   "execution_count": 28,
   "id": "9634cee7",
   "metadata": {},
   "outputs": [
    {
     "data": {
      "text/html": [
       "<style type=\"text/css\">\n",
       "#T_c9785_row0_col0, #T_c9785_row0_col1, #T_c9785_row0_col2, #T_c9785_row1_col0, #T_c9785_row2_col0, #T_c9785_row2_col3, #T_c9785_row3_col0, #T_c9785_row4_col0 {\n",
       "  background-color: #f0f0f3;\n",
       "  color: #000000;\n",
       "}\n",
       "#T_c9785_row0_col3 {\n",
       "  background-color: #a6a6f7;\n",
       "  color: #000000;\n",
       "}\n",
       "#T_c9785_row1_col1, #T_c9785_row1_col2, #T_c9785_row3_col3, #T_c9785_row4_col3 {\n",
       "  background-color: #0000ff;\n",
       "  color: #f1f1f1;\n",
       "}\n",
       "#T_c9785_row1_col3 {\n",
       "  background-color: #4a4afb;\n",
       "  color: #f1f1f1;\n",
       "}\n",
       "#T_c9785_row2_col1, #T_c9785_row4_col1 {\n",
       "  background-color: #4949fb;\n",
       "  color: #f1f1f1;\n",
       "}\n",
       "#T_c9785_row2_col2, #T_c9785_row4_col2 {\n",
       "  background-color: #3c3cfc;\n",
       "  color: #f1f1f1;\n",
       "}\n",
       "#T_c9785_row3_col1 {\n",
       "  background-color: #7373f9;\n",
       "  color: #f1f1f1;\n",
       "}\n",
       "#T_c9785_row3_col2 {\n",
       "  background-color: #7979f9;\n",
       "  color: #f1f1f1;\n",
       "}\n",
       "</style>\n",
       "<table id=\"T_c9785\">\n",
       "  <thead>\n",
       "    <tr>\n",
       "      <th class=\"blank level0\" >&nbsp;</th>\n",
       "      <th id=\"T_c9785_level0_col0\" class=\"col_heading level0 col0\" >precision</th>\n",
       "      <th id=\"T_c9785_level0_col1\" class=\"col_heading level0 col1\" >recall</th>\n",
       "      <th id=\"T_c9785_level0_col2\" class=\"col_heading level0 col2\" >f1-score</th>\n",
       "      <th id=\"T_c9785_level0_col3\" class=\"col_heading level0 col3\" >support</th>\n",
       "    </tr>\n",
       "  </thead>\n",
       "  <tbody>\n",
       "    <tr>\n",
       "      <th id=\"T_c9785_level0_row0\" class=\"row_heading level0 row0\" >0</th>\n",
       "      <td id=\"T_c9785_row0_col0\" class=\"data row0 col0\" >0.890000</td>\n",
       "      <td id=\"T_c9785_row0_col1\" class=\"data row0 col1\" >0.730000</td>\n",
       "      <td id=\"T_c9785_row0_col2\" class=\"data row0 col2\" >0.800000</td>\n",
       "      <td id=\"T_c9785_row0_col3\" class=\"data row0 col3\" >20837.000000</td>\n",
       "    </tr>\n",
       "    <tr>\n",
       "      <th id=\"T_c9785_level0_row1\" class=\"row_heading level0 row1\" >1</th>\n",
       "      <td id=\"T_c9785_row1_col0\" class=\"data row1 col0\" >0.890000</td>\n",
       "      <td id=\"T_c9785_row1_col1\" class=\"data row1 col1\" >0.960000</td>\n",
       "      <td id=\"T_c9785_row1_col2\" class=\"data row1 col2\" >0.920000</td>\n",
       "      <td id=\"T_c9785_row1_col3\" class=\"data row1 col3\" >46030.000000</td>\n",
       "    </tr>\n",
       "    <tr>\n",
       "      <th id=\"T_c9785_level0_row2\" class=\"row_heading level0 row2\" >accuracy</th>\n",
       "      <td id=\"T_c9785_row2_col0\" class=\"data row2 col0\" >0.890000</td>\n",
       "      <td id=\"T_c9785_row2_col1\" class=\"data row2 col1\" >0.890000</td>\n",
       "      <td id=\"T_c9785_row2_col2\" class=\"data row2 col2\" >0.890000</td>\n",
       "      <td id=\"T_c9785_row2_col3\" class=\"data row2 col3\" >0.890000</td>\n",
       "    </tr>\n",
       "    <tr>\n",
       "      <th id=\"T_c9785_level0_row3\" class=\"row_heading level0 row3\" >macro avg</th>\n",
       "      <td id=\"T_c9785_row3_col0\" class=\"data row3 col0\" >0.890000</td>\n",
       "      <td id=\"T_c9785_row3_col1\" class=\"data row3 col1\" >0.850000</td>\n",
       "      <td id=\"T_c9785_row3_col2\" class=\"data row3 col2\" >0.860000</td>\n",
       "      <td id=\"T_c9785_row3_col3\" class=\"data row3 col3\" >66867.000000</td>\n",
       "    </tr>\n",
       "    <tr>\n",
       "      <th id=\"T_c9785_level0_row4\" class=\"row_heading level0 row4\" >weighted avg</th>\n",
       "      <td id=\"T_c9785_row4_col0\" class=\"data row4 col0\" >0.890000</td>\n",
       "      <td id=\"T_c9785_row4_col1\" class=\"data row4 col1\" >0.890000</td>\n",
       "      <td id=\"T_c9785_row4_col2\" class=\"data row4 col2\" >0.890000</td>\n",
       "      <td id=\"T_c9785_row4_col3\" class=\"data row4 col3\" >66867.000000</td>\n",
       "    </tr>\n",
       "  </tbody>\n",
       "</table>\n"
      ],
      "text/plain": [
       "<pandas.io.formats.style.Styler at 0x7fc07a0f4460>"
      ]
     },
     "execution_count": 28,
     "metadata": {},
     "output_type": "execute_result"
    }
   ],
   "source": [
    "# Predict using training and testing data and display the accuracy, f-1 score, precision for Positive and Negative Sentiment Classifiers \n",
    "nbm_predictions = nbModel.predict(X_test_tvec)\n",
    "report = classification_report(Y_test,nbm_predictions, output_dict=True)\n",
    "data_report = pd.DataFrame(report).transpose().round(2)\n",
    "cm = sns.light_palette(\"blue\", as_cmap=True)\n",
    "data_report.style.background_gradient(cmap=cm)\n",
    "\n"
   ]
  },
  {
   "cell_type": "code",
   "execution_count": 29,
   "id": "45ac275c",
   "metadata": {},
   "outputs": [
    {
     "data": {
      "image/png": "[encoded data removed]",
      "text/plain": [
       "<Figure size 432x288 with 2 Axes>"
      ]
     },
     "metadata": {
      "needs_background": "light"
     },
     "output_type": "display_data"
    }
   ],
   "source": [
    "# confusion matrix\n",
    "# nbm_predictions=nbm.predict(tvec.transform(X_test_cleaned))\n",
    "ax= plt.subplot()\n",
    "cm=confusion_matrix(Y_test,nbm_predictions)\n",
    "sns.heatmap(cm, annot=True, fmt='g', ax=ax,cmap='Purples');  \n",
    "ax.set_xlabel('Predicted labels');ax.set_ylabel('True labels');\n",
    "ax.set_title('Confusion Matrix');\n",
    "ax.xaxis.set_ticklabels(['negative', 'positive']); ax.yaxis.set_ticklabels(['negative', 'positive']);"
   ]
  },
  {
   "cell_type": "code",
   "execution_count": 33,
   "id": "a31b0c14",
   "metadata": {},
   "outputs": [
    {
     "name": "stdout",
     "output_type": "stream",
     "text": [
      "SVC\n",
      "[0]\n",
      "[1]\n",
      "Random Forest\n",
      "[0]\n",
      "[1]\n",
      "Linear Regression\n",
      "[0]\n",
      "[1]\n",
      "Naive \n",
      "[1]\n",
      "[1]\n"
     ]
    }
   ],
   "source": [
    "demo_review1 = np.array(['three days of use and it broke very disappointed in this product it worked perfectly for exactly three days and could not be resuscitated it was very inexpensive so i did not want to pay half again the price to ship it back for an exchange so the company would do nothing when they sent me an inquiry as to product satisfaction'])\n",
    "demo_review2 = np.array(['''It's a very good product has good clarity, adequate refresh rate and is pretty reasonable priced. '''])\n",
    "demo_review_X_test1 = tvec.transform(demo_review1)\n",
    "demo_review_X_test2 = tvec.transform(demo_review2)\n",
    "print(\"SVC\")\n",
    "print(svcModel.predict(demo_review_X_test1))\n",
    "print(svcModel.predict(demo_review_X_test2))\n",
    "print(\"Random Forest\")\n",
    "print(rfModel.predict(demo_review_X_test1))\n",
    "print(rfModel.predict(demo_review_X_test2))\n",
    "print(\"Linear Regression\")\n",
    "\n",
    "print(lrModel.predict(demo_review_X_test1))\n",
    "print(lrModel.predict(demo_review_X_test2))\n",
    "print(\"Naive \")\n",
    "\n",
    "print(nbModel.predict(demo_review_X_test1))\n",
    "print(nbModel.predict(demo_review_X_test2))"
   ]
  },
  {
   "cell_type": "code",
   "execution_count": 69,
   "id": "6d3a533f",
   "metadata": {},
   "outputs": [
    {
     "data": {
      "text/plain": [
       "218813    do not meet expectation very bad quality so do...\n",
       "Name: ReviewsLemmatized1, dtype: object"
      ]
     },
     "execution_count": 69,
     "metadata": {},
     "output_type": "execute_result"
    }
   ],
   "source": [
    "X_test.iloc[:1]"
   ]
  },
  {
   "cell_type": "code",
   "execution_count": 82,
   "id": "9e6b2c66",
   "metadata": {},
   "outputs": [
    {
     "data": {
      "text/plain": [
       "<53598x37120 sparse matrix of type '<class 'numpy.float64'>'\n",
       "\twith 465670 stored elements in Compressed Sparse Row format>"
      ]
     },
     "execution_count": 82,
     "metadata": {},
     "output_type": "execute_result"
    }
   ],
   "source": [
    "X_test_tvec"
   ]
  },
  {
   "cell_type": "code",
   "execution_count": 73,
   "id": "685336b2",
   "metadata": {},
   "outputs": [
    {
     "data": {
      "text/plain": [
       "{'analyzer': 'word',\n",
       " 'binary': False,\n",
       " 'decode_error': 'strict',\n",
       " 'dtype': numpy.float64,\n",
       " 'encoding': 'utf-8',\n",
       " 'input': 'content',\n",
       " 'lowercase': True,\n",
       " 'max_df': 1.0,\n",
       " 'max_features': None,\n",
       " 'min_df': 1,\n",
       " 'ngram_range': (1, 1),\n",
       " 'norm': 'l2',\n",
       " 'preprocessor': None,\n",
       " 'smooth_idf': True,\n",
       " 'stop_words': None,\n",
       " 'strip_accents': 'ascii',\n",
       " 'sublinear_tf': False,\n",
       " 'token_pattern': '(?u)\\\\b\\\\w\\\\w+\\\\b',\n",
       " 'tokenizer': None,\n",
       " 'use_idf': True,\n",
       " 'vocabulary': None}"
      ]
     },
     "execution_count": 73,
     "metadata": {},
     "output_type": "execute_result"
    }
   ],
   "source": [
    "tvec.get_params()"
   ]
  },
  {
   "cell_type": "code",
   "execution_count": null,
   "id": "cfa2d323",
   "metadata": {},
   "outputs": [],
   "source": []
  }
 ],
 "metadata": {
  "kernelspec": {
   "display_name": "Python 3 (ipykernel)",
   "language": "python",
   "name": "python3"
  },
  "language_info": {
   "codemirror_mode": {
    "name": "ipython",
    "version": 3
   },
   "file_extension": ".py",
   "mimetype": "text/x-python",
   "name": "python",
   "nbconvert_exporter": "python",
   "pygments_lexer": "ipython3",
   "version": "3.8.10"
  },
  "vscode": {
   "interpreter": {
    "hash": "369f2c481f4da34e4445cda3fffd2e751bd1c4d706f27375911949ba6bb62e1c"
   }
  }
 },
 "nbformat": 4,
 "nbformat_minor": 5
}

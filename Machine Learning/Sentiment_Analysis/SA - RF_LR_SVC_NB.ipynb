{
 "cells": [
  {
   "cell_type": "code",
   "execution_count": 2,
   "id": "eaae41c5",
   "metadata": {},
   "outputs": [],
   "source": [
    "# Import statements\n",
    "import pandas as pd\n",
    "import numpy as np\n",
    "import matplotlib.pyplot as plt\n",
    "import seaborn as sns\n",
    "import re\n",
    "import nltk\n",
    "from sklearn.model_selection import train_test_split\n",
    "from sklearn.feature_extraction.text import TfidfVectorizer\n",
    "from sklearn.pipeline import Pipeline \n",
    "from sklearn.metrics import accuracy_score, confusion_matrix, classification_report,ConfusionMatrixDisplay\n",
    "from sklearn import naive_bayes\n",
    "from sklearn.linear_model import LogisticRegression\n",
    "from sklearn.svm import LinearSVC\n",
    "from sklearn.neighbors import KNeighborsClassifier\n",
    "from bs4 import BeautifulSoup\n",
    "from nltk.corpus import stopwords \n",
    "from sklearn.ensemble import RandomForestClassifier\n",
    "from tqdm import tqdm\n",
    "from nltk import word_tokenize\n",
    "import joblib"
   ]
  },
  {
   "cell_type": "code",
   "execution_count": 3,
   "id": "067c3e44",
   "metadata": {},
   "outputs": [],
   "source": [
    "tqdm.pandas()"
   ]
  },
  {
   "cell_type": "code",
   "execution_count": 4,
   "id": "18cddebf",
   "metadata": {},
   "outputs": [],
   "source": [
    "data = pd.read_csv('datasets/Mobile_laptop_labelled.csv')\n",
    "data.dropna(inplace=True)"
   ]
  },
  {
   "cell_type": "code",
   "execution_count": 5,
   "id": "cfa941a3",
   "metadata": {},
   "outputs": [],
   "source": [
    "# function to remove html elements from the reviews\n",
    "def removeHTML(raw_text):\n",
    "    try:\n",
    "        clean_HTML = BeautifulSoup(raw_text, 'lxml').get_text() \n",
    "        return clean_HTML\n",
    "    except: \n",
    "        return raw_text"
   ]
  },
  {
   "cell_type": "code",
   "execution_count": 6,
   "id": "f98e7d58",
   "metadata": {},
   "outputs": [],
   "source": [
    "# function to remove special characters and numbers from the reviews4961\n",
    "def removeSpecialChar(raw_text):\n",
    "    clean_SpecialChar = re.sub(\"[^a-zA-Z]\", \" \", raw_text)  \n",
    "    return clean_SpecialChar"
   ]
  },
  {
   "cell_type": "code",
   "execution_count": 7,
   "id": "ce8f7f59",
   "metadata": {},
   "outputs": [],
   "source": [
    "# function to convert all reviews into lower case\n",
    "def toLowerCase(raw_text):\n",
    "    clean_LowerCase = raw_text.lower().split()\n",
    "    return(\" \".join(clean_LowerCase))"
   ]
  },
  {
   "cell_type": "code",
   "execution_count": 8,
   "id": "b81d6269",
   "metadata": {},
   "outputs": [],
   "source": [
    "from nltk.stem import WordNetLemmatizer\n",
    "def get_wordnet_pos(tag):\n",
    "    from nltk.corpus import wordnet\n",
    "    if tag.startswith('J'):\n",
    "        return wordnet.ADJ\n",
    "    elif tag.startswith('V'):\n",
    "        return wordnet.VERB\n",
    "    elif tag.startswith('N'):\n",
    "        return wordnet.NOUN\n",
    "    elif tag.startswith('R'):\n",
    "        return wordnet.ADV\n",
    "    else: \n",
    "        return wordnet.NOUN"
   ]
  },
  {
   "cell_type": "code",
   "execution_count": 9,
   "id": "f4ed940f",
   "metadata": {},
   "outputs": [],
   "source": [
    "lemmatizer = WordNetLemmatizer()\n",
    "def lemmatize(sentance):\n",
    "    from nltk.tag import pos_tag\n",
    "    tagged = pos_tag( [i for i in sentance if i])\n",
    "    lemmatized = []\n",
    "    for word, tag in tagged:\n",
    "        lemma = lemmatizer.lemmatize(word, pos = get_wordnet_pos(tag))\n",
    "        lemmatized.append(lemma)\n",
    "    return lemmatized"
   ]
  },
  {
   "cell_type": "code",
   "execution_count": 10,
   "id": "ecb762a5",
   "metadata": {},
   "outputs": [],
   "source": [
    "# function to remove stop words from the reviews\n",
    "def removeStopWords(raw_text):\n",
    "    stops = set(stopwords.words(\"english\"))\n",
    "    words = [w for w in raw_text if not w in stops]\n",
    "    return words"
   ]
  },
  {
   "cell_type": "code",
   "execution_count": 15,
   "id": "6e7e609e",
   "metadata": {},
   "outputs": [],
   "source": [
    "def customTokenizer(text):\n",
    "    text = removeHTML(text)\n",
    "    text = removeSpecialChar(text)\n",
    "    text = toLowerCase(text)\n",
    "    tokens = word_tokenize(text)\n",
    "    tokens = removeStopWords(tokens)\n",
    "    tokens = lemmatize(tokens)\n",
    "    return tokens"
   ]
  },
  {
   "cell_type": "code",
   "execution_count": 12,
   "id": "cd29e8b6",
   "metadata": {},
   "outputs": [],
   "source": [
    "X = data['text']\n",
    "Y = data['polarity']\n",
    "\n",
    "X_train, X_test, Y_train, Y_test = train_test_split(X, Y, test_size = 0.2, random_state=42)"
   ]
  },
  {
   "cell_type": "code",
   "execution_count": 16,
   "id": "38a51b6d",
   "metadata": {},
   "outputs": [],
   "source": [
    "tvec = TfidfVectorizer(use_idf=True,strip_accents='ascii',tokenizer=customTokenizer)\n",
    "\n",
    "\n",
    "X_train_tvec = tvec.fit_transform(X_train)\n",
    "X_test_tvec = tvec.transform(X_test)"
   ]
  },
  {
   "cell_type": "code",
   "execution_count": 17,
   "id": "5ea8d5df",
   "metadata": {},
   "outputs": [
    {
     "data": {
      "text/plain": [
       "['final_model_version_corrected/TVEC.joblib']"
      ]
     },
     "execution_count": 17,
     "metadata": {},
     "output_type": "execute_result"
    }
   ],
   "source": [
    "joblib.dump(tvec, \"final_model_version_corrected/TVEC.joblib\")"
   ]
  },
  {
   "cell_type": "code",
   "execution_count": 18,
   "id": "f4afb38b",
   "metadata": {},
   "outputs": [
    {
     "data": {
      "text/html": [
       "<style>#sk-container-id-1 {color: black;background-color: white;}#sk-container-id-1 pre{padding: 0;}#sk-container-id-1 div.sk-toggleable {background-color: white;}#sk-container-id-1 label.sk-toggleable__label {cursor: pointer;display: block;width: 100%;margin-bottom: 0;padding: 0.3em;box-sizing: border-box;text-align: center;}#sk-container-id-1 label.sk-toggleable__label-arrow:before {content: \"▸\";float: left;margin-right: 0.25em;color: #696969;}#sk-container-id-1 label.sk-toggleable__label-arrow:hover:before {color: black;}#sk-container-id-1 div.sk-estimator:hover label.sk-toggleable__label-arrow:before {color: black;}#sk-container-id-1 div.sk-toggleable__content {max-height: 0;max-width: 0;overflow: hidden;text-align: left;background-color: #f0f8ff;}#sk-container-id-1 div.sk-toggleable__content pre {margin: 0.2em;color: black;border-radius: 0.25em;background-color: #f0f8ff;}#sk-container-id-1 input.sk-toggleable__control:checked~div.sk-toggleable__content {max-height: 200px;max-width: 100%;overflow: auto;}#sk-container-id-1 input.sk-toggleable__control:checked~label.sk-toggleable__label-arrow:before {content: \"▾\";}#sk-container-id-1 div.sk-estimator input.sk-toggleable__control:checked~label.sk-toggleable__label {background-color: #d4ebff;}#sk-container-id-1 div.sk-label input.sk-toggleable__control:checked~label.sk-toggleable__label {background-color: #d4ebff;}#sk-container-id-1 input.sk-hidden--visually {border: 0;clip: rect(1px 1px 1px 1px);clip: rect(1px, 1px, 1px, 1px);height: 1px;margin: -1px;overflow: hidden;padding: 0;position: absolute;width: 1px;}#sk-container-id-1 div.sk-estimator {font-family: monospace;background-color: #f0f8ff;border: 1px dotted black;border-radius: 0.25em;box-sizing: border-box;margin-bottom: 0.5em;}#sk-container-id-1 div.sk-estimator:hover {background-color: #d4ebff;}#sk-container-id-1 div.sk-parallel-item::after {content: \"\";width: 100%;border-bottom: 1px solid gray;flex-grow: 1;}#sk-container-id-1 div.sk-label:hover label.sk-toggleable__label {background-color: #d4ebff;}#sk-container-id-1 div.sk-serial::before {content: \"\";position: absolute;border-left: 1px solid gray;box-sizing: border-box;top: 0;bottom: 0;left: 50%;z-index: 0;}#sk-container-id-1 div.sk-serial {display: flex;flex-direction: column;align-items: center;background-color: white;padding-right: 0.2em;padding-left: 0.2em;position: relative;}#sk-container-id-1 div.sk-item {position: relative;z-index: 1;}#sk-container-id-1 div.sk-parallel {display: flex;align-items: stretch;justify-content: center;background-color: white;position: relative;}#sk-container-id-1 div.sk-item::before, #sk-container-id-1 div.sk-parallel-item::before {content: \"\";position: absolute;border-left: 1px solid gray;box-sizing: border-box;top: 0;bottom: 0;left: 50%;z-index: -1;}#sk-container-id-1 div.sk-parallel-item {display: flex;flex-direction: column;z-index: 1;position: relative;background-color: white;}#sk-container-id-1 div.sk-parallel-item:first-child::after {align-self: flex-end;width: 50%;}#sk-container-id-1 div.sk-parallel-item:last-child::after {align-self: flex-start;width: 50%;}#sk-container-id-1 div.sk-parallel-item:only-child::after {width: 0;}#sk-container-id-1 div.sk-dashed-wrapped {border: 1px dashed gray;margin: 0 0.4em 0.5em 0.4em;box-sizing: border-box;padding-bottom: 0.4em;background-color: white;}#sk-container-id-1 div.sk-label label {font-family: monospace;font-weight: bold;display: inline-block;line-height: 1.2em;}#sk-container-id-1 div.sk-label-container {text-align: center;}#sk-container-id-1 div.sk-container {/* jupyter's `normalize.less` sets `[hidden] { display: none; }` but bootstrap.min.css set `[hidden] { display: none !important; }` so we also need the `!important` here to be able to override the default hidden behavior on the sphinx rendered scikit-learn.org. See: https://github.com/scikit-learn/scikit-learn/issues/21755 */display: inline-block !important;position: relative;}#sk-container-id-1 div.sk-text-repr-fallback {display: none;}</style><div id=\"sk-container-id-1\" class=\"sk-top-container\"><div class=\"sk-text-repr-fallback\"><pre>LinearSVC(dual=False)</pre><b>In a Jupyter environment, please rerun this cell to show the HTML representation or trust the notebook. <br />On GitHub, the HTML representation is unable to render, please try loading this page with nbviewer.org.</b></div><div class=\"sk-container\" hidden><div class=\"sk-item\"><div class=\"sk-estimator sk-toggleable\"><input class=\"sk-toggleable__control sk-hidden--visually\" id=\"sk-estimator-id-1\" type=\"checkbox\" checked><label for=\"sk-estimator-id-1\" class=\"sk-toggleable__label sk-toggleable__label-arrow\">LinearSVC</label><div class=\"sk-toggleable__content\"><pre>LinearSVC(dual=False)</pre></div></div></div></div></div>"
      ],
      "text/plain": [
       "LinearSVC(dual=False)"
      ]
     },
     "execution_count": 18,
     "metadata": {},
     "output_type": "execute_result"
    }
   ],
   "source": [
    "# Support Vector Classifier model\n",
    "svr_lin = LinearSVC(multi_class='ovr',C=1.0,loss='squared_hinge', dual=False)\n",
    "svr_lin.fit(X_train_tvec, Y_train)"
   ]
  },
  {
   "cell_type": "code",
   "execution_count": 19,
   "id": "a59393e6",
   "metadata": {},
   "outputs": [
    {
     "data": {
      "text/html": [
       "<style type=\"text/css\">\n",
       "#T_1eb1f_row0_col0, #T_1eb1f_row1_col0, #T_1eb1f_row1_col1, #T_1eb1f_row1_col2, #T_1eb1f_row3_col3 {\n",
       "  background-color: #f2f2dd;\n",
       "  color: #000000;\n",
       "}\n",
       "#T_1eb1f_row0_col1 {\n",
       "  background-color: #fdfd1d;\n",
       "  color: #000000;\n",
       "}\n",
       "#T_1eb1f_row0_col2 {\n",
       "  background-color: #fdfd27;\n",
       "  color: #000000;\n",
       "}\n",
       "#T_1eb1f_row0_col3 {\n",
       "  background-color: #f5f5b0;\n",
       "  color: #000000;\n",
       "}\n",
       "#T_1eb1f_row1_col3 {\n",
       "  background-color: #f3f3cf;\n",
       "  color: #000000;\n",
       "}\n",
       "#T_1eb1f_row2_col0, #T_1eb1f_row2_col1, #T_1eb1f_row2_col2, #T_1eb1f_row4_col3, #T_1eb1f_row5_col3 {\n",
       "  background-color: #ffff00;\n",
       "  color: #000000;\n",
       "}\n",
       "#T_1eb1f_row2_col3 {\n",
       "  background-color: #fcfc3b;\n",
       "  color: #000000;\n",
       "}\n",
       "#T_1eb1f_row3_col0, #T_1eb1f_row5_col0 {\n",
       "  background-color: #fcfc38;\n",
       "  color: #000000;\n",
       "}\n",
       "#T_1eb1f_row3_col1, #T_1eb1f_row5_col1 {\n",
       "  background-color: #fefe14;\n",
       "  color: #000000;\n",
       "}\n",
       "#T_1eb1f_row3_col2 {\n",
       "  background-color: #fefe11;\n",
       "  color: #000000;\n",
       "}\n",
       "#T_1eb1f_row4_col0 {\n",
       "  background-color: #f6f693;\n",
       "  color: #000000;\n",
       "}\n",
       "#T_1eb1f_row4_col1 {\n",
       "  background-color: #fafa54;\n",
       "  color: #000000;\n",
       "}\n",
       "#T_1eb1f_row4_col2 {\n",
       "  background-color: #fafa56;\n",
       "  color: #000000;\n",
       "}\n",
       "#T_1eb1f_row5_col2 {\n",
       "  background-color: #fefe15;\n",
       "  color: #000000;\n",
       "}\n",
       "</style>\n",
       "<table id=\"T_1eb1f\">\n",
       "  <thead>\n",
       "    <tr>\n",
       "      <th class=\"blank level0\" >&nbsp;</th>\n",
       "      <th id=\"T_1eb1f_level0_col0\" class=\"col_heading level0 col0\" >precision</th>\n",
       "      <th id=\"T_1eb1f_level0_col1\" class=\"col_heading level0 col1\" >recall</th>\n",
       "      <th id=\"T_1eb1f_level0_col2\" class=\"col_heading level0 col2\" >f1-score</th>\n",
       "      <th id=\"T_1eb1f_level0_col3\" class=\"col_heading level0 col3\" >support</th>\n",
       "    </tr>\n",
       "  </thead>\n",
       "  <tbody>\n",
       "    <tr>\n",
       "      <th id=\"T_1eb1f_level0_row0\" class=\"row_heading level0 row0\" >0</th>\n",
       "      <td id=\"T_1eb1f_row0_col0\" class=\"data row0 col0\" >0.810000</td>\n",
       "      <td id=\"T_1eb1f_row0_col1\" class=\"data row0 col1\" >0.870000</td>\n",
       "      <td id=\"T_1eb1f_row0_col2\" class=\"data row0 col2\" >0.840000</td>\n",
       "      <td id=\"T_1eb1f_row0_col3\" class=\"data row0 col3\" >13841.000000</td>\n",
       "    </tr>\n",
       "    <tr>\n",
       "      <th id=\"T_1eb1f_level0_row1\" class=\"row_heading level0 row1\" >1</th>\n",
       "      <td id=\"T_1eb1f_row1_col0\" class=\"data row1 col0\" >0.810000</td>\n",
       "      <td id=\"T_1eb1f_row1_col1\" class=\"data row1 col1\" >0.210000</td>\n",
       "      <td id=\"T_1eb1f_row1_col2\" class=\"data row1 col2\" >0.330000</td>\n",
       "      <td id=\"T_1eb1f_row1_col3\" class=\"data row1 col3\" >4257.000000</td>\n",
       "    </tr>\n",
       "    <tr>\n",
       "      <th id=\"T_1eb1f_level0_row2\" class=\"row_heading level0 row2\" >2</th>\n",
       "      <td id=\"T_1eb1f_row2_col0\" class=\"data row2 col0\" >0.930000</td>\n",
       "      <td id=\"T_1eb1f_row2_col1\" class=\"data row2 col1\" >0.970000</td>\n",
       "      <td id=\"T_1eb1f_row2_col2\" class=\"data row2 col2\" >0.950000</td>\n",
       "      <td id=\"T_1eb1f_row2_col3\" class=\"data row2 col3\" >49334.000000</td>\n",
       "    </tr>\n",
       "    <tr>\n",
       "      <th id=\"T_1eb1f_level0_row3\" class=\"row_heading level0 row3\" >accuracy</th>\n",
       "      <td id=\"T_1eb1f_row3_col0\" class=\"data row3 col0\" >0.900000</td>\n",
       "      <td id=\"T_1eb1f_row3_col1\" class=\"data row3 col1\" >0.900000</td>\n",
       "      <td id=\"T_1eb1f_row3_col2\" class=\"data row3 col2\" >0.900000</td>\n",
       "      <td id=\"T_1eb1f_row3_col3\" class=\"data row3 col3\" >0.900000</td>\n",
       "    </tr>\n",
       "    <tr>\n",
       "      <th id=\"T_1eb1f_level0_row4\" class=\"row_heading level0 row4\" >macro avg</th>\n",
       "      <td id=\"T_1eb1f_row4_col0\" class=\"data row4 col0\" >0.850000</td>\n",
       "      <td id=\"T_1eb1f_row4_col1\" class=\"data row4 col1\" >0.680000</td>\n",
       "      <td id=\"T_1eb1f_row4_col2\" class=\"data row4 col2\" >0.710000</td>\n",
       "      <td id=\"T_1eb1f_row4_col3\" class=\"data row4 col3\" >67432.000000</td>\n",
       "    </tr>\n",
       "    <tr>\n",
       "      <th id=\"T_1eb1f_level0_row5\" class=\"row_heading level0 row5\" >weighted avg</th>\n",
       "      <td id=\"T_1eb1f_row5_col0\" class=\"data row5 col0\" >0.900000</td>\n",
       "      <td id=\"T_1eb1f_row5_col1\" class=\"data row5 col1\" >0.900000</td>\n",
       "      <td id=\"T_1eb1f_row5_col2\" class=\"data row5 col2\" >0.890000</td>\n",
       "      <td id=\"T_1eb1f_row5_col3\" class=\"data row5 col3\" >67432.000000</td>\n",
       "    </tr>\n",
       "  </tbody>\n",
       "</table>\n"
      ],
      "text/plain": [
       "<pandas.io.formats.style.Styler at 0x7ff1d7f015b0>"
      ]
     },
     "execution_count": 19,
     "metadata": {},
     "output_type": "execute_result"
    }
   ],
   "source": [
    "# Predict using training and testing data and display the accuracy, f-1 score, precision for Positive and Negative Sentiment Classifiers \n",
    "svr_lin_predictions = svr_lin.predict(X_test_tvec)\n",
    "report = classification_report(Y_test,svr_lin_predictions, output_dict=True)\n",
    "data_report = pd.DataFrame(report).transpose().round(2)\n",
    "cm = sns.light_palette(\"yellow\", as_cmap=True)\n",
    "data_report.style.background_gradient(cmap=cm)"
   ]
  },
  {
   "cell_type": "code",
   "execution_count": 21,
   "id": "4ce42808",
   "metadata": {},
   "outputs": [
    {
     "data": {
      "image/png": "[encoded data removed]",
      "text/plain": [
       "<Figure size 432x288 with 2 Axes>"
      ]
     },
     "metadata": {
      "needs_background": "light"
     },
     "output_type": "display_data"
    }
   ],
   "source": [
    "# confusion matrix\n",
    "# svr_lin_predictions=svr_lin.predict(tvec.transform(X_test_cleaned))\n",
    "ax= plt.subplot()\n",
    "cm=confusion_matrix(Y_test,svr_lin_predictions)\n",
    "sns.heatmap(cm, annot=True, fmt='g', ax=ax,cmap='Greens');  \n",
    "ax.set_xlabel('Predicted labels');ax.set_ylabel('True labels');\n",
    "ax.set_title('Confusion Matrix');\n",
    "ax.xaxis.set_ticklabels(['negative', 'positive', 'neutral']); ax.yaxis.set_ticklabels(['negative', 'positive', 'neutral']);"
   ]
  },
  {
   "cell_type": "code",
   "execution_count": 22,
   "id": "4465a34b",
   "metadata": {},
   "outputs": [
    {
     "data": {
      "text/plain": [
       "['final_model_version_corrected/SVM.joblib']"
      ]
     },
     "execution_count": 22,
     "metadata": {},
     "output_type": "execute_result"
    }
   ],
   "source": [
    "# to save the model\n",
    "import joblib\n",
    "joblib.dump(svr_lin, \"final_model_version_corrected/SVM.joblib\")"
   ]
  },
  {
   "cell_type": "code",
   "execution_count": 23,
   "id": "7f5d4c0c",
   "metadata": {},
   "outputs": [
    {
     "name": "stderr",
     "output_type": "stream",
     "text": [
      "[Parallel(n_jobs=1)]: Using backend SequentialBackend with 1 concurrent workers.\n",
      "[Parallel(n_jobs=1)]: Done 100 out of 100 | elapsed: 31.7min finished\n"
     ]
    },
    {
     "data": {
      "text/html": [
       "<style>#sk-container-id-2 {color: black;background-color: white;}#sk-container-id-2 pre{padding: 0;}#sk-container-id-2 div.sk-toggleable {background-color: white;}#sk-container-id-2 label.sk-toggleable__label {cursor: pointer;display: block;width: 100%;margin-bottom: 0;padding: 0.3em;box-sizing: border-box;text-align: center;}#sk-container-id-2 label.sk-toggleable__label-arrow:before {content: \"▸\";float: left;margin-right: 0.25em;color: #696969;}#sk-container-id-2 label.sk-toggleable__label-arrow:hover:before {color: black;}#sk-container-id-2 div.sk-estimator:hover label.sk-toggleable__label-arrow:before {color: black;}#sk-container-id-2 div.sk-toggleable__content {max-height: 0;max-width: 0;overflow: hidden;text-align: left;background-color: #f0f8ff;}#sk-container-id-2 div.sk-toggleable__content pre {margin: 0.2em;color: black;border-radius: 0.25em;background-color: #f0f8ff;}#sk-container-id-2 input.sk-toggleable__control:checked~div.sk-toggleable__content {max-height: 200px;max-width: 100%;overflow: auto;}#sk-container-id-2 input.sk-toggleable__control:checked~label.sk-toggleable__label-arrow:before {content: \"▾\";}#sk-container-id-2 div.sk-estimator input.sk-toggleable__control:checked~label.sk-toggleable__label {background-color: #d4ebff;}#sk-container-id-2 div.sk-label input.sk-toggleable__control:checked~label.sk-toggleable__label {background-color: #d4ebff;}#sk-container-id-2 input.sk-hidden--visually {border: 0;clip: rect(1px 1px 1px 1px);clip: rect(1px, 1px, 1px, 1px);height: 1px;margin: -1px;overflow: hidden;padding: 0;position: absolute;width: 1px;}#sk-container-id-2 div.sk-estimator {font-family: monospace;background-color: #f0f8ff;border: 1px dotted black;border-radius: 0.25em;box-sizing: border-box;margin-bottom: 0.5em;}#sk-container-id-2 div.sk-estimator:hover {background-color: #d4ebff;}#sk-container-id-2 div.sk-parallel-item::after {content: \"\";width: 100%;border-bottom: 1px solid gray;flex-grow: 1;}#sk-container-id-2 div.sk-label:hover label.sk-toggleable__label {background-color: #d4ebff;}#sk-container-id-2 div.sk-serial::before {content: \"\";position: absolute;border-left: 1px solid gray;box-sizing: border-box;top: 0;bottom: 0;left: 50%;z-index: 0;}#sk-container-id-2 div.sk-serial {display: flex;flex-direction: column;align-items: center;background-color: white;padding-right: 0.2em;padding-left: 0.2em;position: relative;}#sk-container-id-2 div.sk-item {position: relative;z-index: 1;}#sk-container-id-2 div.sk-parallel {display: flex;align-items: stretch;justify-content: center;background-color: white;position: relative;}#sk-container-id-2 div.sk-item::before, #sk-container-id-2 div.sk-parallel-item::before {content: \"\";position: absolute;border-left: 1px solid gray;box-sizing: border-box;top: 0;bottom: 0;left: 50%;z-index: -1;}#sk-container-id-2 div.sk-parallel-item {display: flex;flex-direction: column;z-index: 1;position: relative;background-color: white;}#sk-container-id-2 div.sk-parallel-item:first-child::after {align-self: flex-end;width: 50%;}#sk-container-id-2 div.sk-parallel-item:last-child::after {align-self: flex-start;width: 50%;}#sk-container-id-2 div.sk-parallel-item:only-child::after {width: 0;}#sk-container-id-2 div.sk-dashed-wrapped {border: 1px dashed gray;margin: 0 0.4em 0.5em 0.4em;box-sizing: border-box;padding-bottom: 0.4em;background-color: white;}#sk-container-id-2 div.sk-label label {font-family: monospace;font-weight: bold;display: inline-block;line-height: 1.2em;}#sk-container-id-2 div.sk-label-container {text-align: center;}#sk-container-id-2 div.sk-container {/* jupyter's `normalize.less` sets `[hidden] { display: none; }` but bootstrap.min.css set `[hidden] { display: none !important; }` so we also need the `!important` here to be able to override the default hidden behavior on the sphinx rendered scikit-learn.org. See: https://github.com/scikit-learn/scikit-learn/issues/21755 */display: inline-block !important;position: relative;}#sk-container-id-2 div.sk-text-repr-fallback {display: none;}</style><div id=\"sk-container-id-2\" class=\"sk-top-container\"><div class=\"sk-text-repr-fallback\"><pre>RandomForestClassifier(verbose=True)</pre><b>In a Jupyter environment, please rerun this cell to show the HTML representation or trust the notebook. <br />On GitHub, the HTML representation is unable to render, please try loading this page with nbviewer.org.</b></div><div class=\"sk-container\" hidden><div class=\"sk-item\"><div class=\"sk-estimator sk-toggleable\"><input class=\"sk-toggleable__control sk-hidden--visually\" id=\"sk-estimator-id-2\" type=\"checkbox\" checked><label for=\"sk-estimator-id-2\" class=\"sk-toggleable__label sk-toggleable__label-arrow\">RandomForestClassifier</label><div class=\"sk-toggleable__content\"><pre>RandomForestClassifier(verbose=True)</pre></div></div></div></div></div>"
      ],
      "text/plain": [
       "RandomForestClassifier(verbose=True)"
      ]
     },
     "execution_count": 23,
     "metadata": {},
     "output_type": "execute_result"
    }
   ],
   "source": [
    "# Random Forest model\n",
    "random_forest = RandomForestClassifier(verbose=True)\n",
    "random_forest.fit(X_train_tvec, Y_train)"
   ]
  },
  {
   "cell_type": "code",
   "execution_count": 24,
   "id": "c209516d",
   "metadata": {},
   "outputs": [
    {
     "name": "stderr",
     "output_type": "stream",
     "text": [
      "[Parallel(n_jobs=1)]: Using backend SequentialBackend with 1 concurrent workers.\n",
      "[Parallel(n_jobs=1)]: Done 100 out of 100 | elapsed:   13.0s finished\n"
     ]
    },
    {
     "data": {
      "text/html": [
       "<style type=\"text/css\">\n",
       "#T_70488_row0_col0, #T_70488_row1_col1, #T_70488_row1_col2, #T_70488_row3_col3 {\n",
       "  background-color: #f3f0f0;\n",
       "  color: #000000;\n",
       "}\n",
       "#T_70488_row0_col1 {\n",
       "  background-color: #fc3f3f;\n",
       "  color: #f1f1f1;\n",
       "}\n",
       "#T_70488_row0_col2 {\n",
       "  background-color: #fc4141;\n",
       "  color: #f1f1f1;\n",
       "}\n",
       "#T_70488_row0_col3 {\n",
       "  background-color: #f5bfbf;\n",
       "  color: #000000;\n",
       "}\n",
       "#T_70488_row1_col0, #T_70488_row2_col1, #T_70488_row2_col2, #T_70488_row4_col3, #T_70488_row5_col3 {\n",
       "  background-color: #ff0000;\n",
       "  color: #f1f1f1;\n",
       "}\n",
       "#T_70488_row1_col3 {\n",
       "  background-color: #f4e1e1;\n",
       "  color: #000000;\n",
       "}\n",
       "#T_70488_row2_col0, #T_70488_row3_col0, #T_70488_row4_col0, #T_70488_row5_col0 {\n",
       "  background-color: #f97878;\n",
       "  color: #f1f1f1;\n",
       "}\n",
       "#T_70488_row2_col3 {\n",
       "  background-color: #fc4040;\n",
       "  color: #f1f1f1;\n",
       "}\n",
       "#T_70488_row3_col1, #T_70488_row5_col1 {\n",
       "  background-color: #fe1818;\n",
       "  color: #f1f1f1;\n",
       "}\n",
       "#T_70488_row3_col2 {\n",
       "  background-color: #fe1616;\n",
       "  color: #f1f1f1;\n",
       "}\n",
       "#T_70488_row4_col1 {\n",
       "  background-color: #fa6565;\n",
       "  color: #f1f1f1;\n",
       "}\n",
       "#T_70488_row4_col2 {\n",
       "  background-color: #fa6262;\n",
       "  color: #f1f1f1;\n",
       "}\n",
       "#T_70488_row5_col2 {\n",
       "  background-color: #fd2020;\n",
       "  color: #f1f1f1;\n",
       "}\n",
       "</style>\n",
       "<table id=\"T_70488\">\n",
       "  <thead>\n",
       "    <tr>\n",
       "      <th class=\"blank level0\" >&nbsp;</th>\n",
       "      <th id=\"T_70488_level0_col0\" class=\"col_heading level0 col0\" >precision</th>\n",
       "      <th id=\"T_70488_level0_col1\" class=\"col_heading level0 col1\" >recall</th>\n",
       "      <th id=\"T_70488_level0_col2\" class=\"col_heading level0 col2\" >f1-score</th>\n",
       "      <th id=\"T_70488_level0_col3\" class=\"col_heading level0 col3\" >support</th>\n",
       "    </tr>\n",
       "  </thead>\n",
       "  <tbody>\n",
       "    <tr>\n",
       "      <th id=\"T_70488_level0_row0\" class=\"row_heading level0 row0\" >0</th>\n",
       "      <td id=\"T_70488_row0_col0\" class=\"data row0 col0\" >0.920000</td>\n",
       "      <td id=\"T_70488_row0_col1\" class=\"data row0 col1\" >0.890000</td>\n",
       "      <td id=\"T_70488_row0_col2\" class=\"data row0 col2\" >0.910000</td>\n",
       "      <td id=\"T_70488_row0_col3\" class=\"data row0 col3\" >13841.000000</td>\n",
       "    </tr>\n",
       "    <tr>\n",
       "      <th id=\"T_70488_level0_row1\" class=\"row_heading level0 row1\" >1</th>\n",
       "      <td id=\"T_70488_row1_col0\" class=\"data row1 col0\" >0.980000</td>\n",
       "      <td id=\"T_70488_row1_col1\" class=\"data row1 col1\" >0.610000</td>\n",
       "      <td id=\"T_70488_row1_col2\" class=\"data row1 col2\" >0.750000</td>\n",
       "      <td id=\"T_70488_row1_col3\" class=\"data row1 col3\" >4257.000000</td>\n",
       "    </tr>\n",
       "    <tr>\n",
       "      <th id=\"T_70488_level0_row2\" class=\"row_heading level0 row2\" >2</th>\n",
       "      <td id=\"T_70488_row2_col0\" class=\"data row2 col0\" >0.950000</td>\n",
       "      <td id=\"T_70488_row2_col1\" class=\"data row2 col1\" >0.990000</td>\n",
       "      <td id=\"T_70488_row2_col2\" class=\"data row2 col2\" >0.970000</td>\n",
       "      <td id=\"T_70488_row2_col3\" class=\"data row2 col3\" >49334.000000</td>\n",
       "    </tr>\n",
       "    <tr>\n",
       "      <th id=\"T_70488_level0_row3\" class=\"row_heading level0 row3\" >accuracy</th>\n",
       "      <td id=\"T_70488_row3_col0\" class=\"data row3 col0\" >0.950000</td>\n",
       "      <td id=\"T_70488_row3_col1\" class=\"data row3 col1\" >0.950000</td>\n",
       "      <td id=\"T_70488_row3_col2\" class=\"data row3 col2\" >0.950000</td>\n",
       "      <td id=\"T_70488_row3_col3\" class=\"data row3 col3\" >0.950000</td>\n",
       "    </tr>\n",
       "    <tr>\n",
       "      <th id=\"T_70488_level0_row4\" class=\"row_heading level0 row4\" >macro avg</th>\n",
       "      <td id=\"T_70488_row4_col0\" class=\"data row4 col0\" >0.950000</td>\n",
       "      <td id=\"T_70488_row4_col1\" class=\"data row4 col1\" >0.830000</td>\n",
       "      <td id=\"T_70488_row4_col2\" class=\"data row4 col2\" >0.880000</td>\n",
       "      <td id=\"T_70488_row4_col3\" class=\"data row4 col3\" >67432.000000</td>\n",
       "    </tr>\n",
       "    <tr>\n",
       "      <th id=\"T_70488_level0_row5\" class=\"row_heading level0 row5\" >weighted avg</th>\n",
       "      <td id=\"T_70488_row5_col0\" class=\"data row5 col0\" >0.950000</td>\n",
       "      <td id=\"T_70488_row5_col1\" class=\"data row5 col1\" >0.950000</td>\n",
       "      <td id=\"T_70488_row5_col2\" class=\"data row5 col2\" >0.940000</td>\n",
       "      <td id=\"T_70488_row5_col3\" class=\"data row5 col3\" >67432.000000</td>\n",
       "    </tr>\n",
       "  </tbody>\n",
       "</table>\n"
      ],
      "text/plain": [
       "<pandas.io.formats.style.Styler at 0x7ff1ce8a6a90>"
      ]
     },
     "execution_count": 24,
     "metadata": {},
     "output_type": "execute_result"
    }
   ],
   "source": [
    "# Predict using training and testing data and display the accuracy, f-1 score, precision for Positive and Negative Sentiment Classifiers \n",
    "ranfrst_predictions = random_forest.predict(X_test_tvec)\n",
    "report = classification_report(Y_test,ranfrst_predictions, output_dict=True)\n",
    "data_report = pd.DataFrame(report).transpose().round(2)\n",
    "cm = sns.light_palette(\"red\", as_cmap=True)\n",
    "data_report.style.background_gradient(cmap=cm)\n"
   ]
  },
  {
   "cell_type": "code",
   "execution_count": 25,
   "id": "d137d19b",
   "metadata": {},
   "outputs": [
    {
     "data": {
      "image/png": "[encoded data removed]",
      "text/plain": [
       "<Figure size 432x288 with 2 Axes>"
      ]
     },
     "metadata": {
      "needs_background": "light"
     },
     "output_type": "display_data"
    }
   ],
   "source": [
    "# confusion matrix\n",
    "# ranfrst_predictions=random_forest.predict(tvec.transform(X_test_cleaned))\n",
    "ax= plt.subplot()\n",
    "cm=confusion_matrix(Y_test,ranfrst_predictions)\n",
    "sns.heatmap(cm, annot=True, fmt='g', ax=ax,cmap='Oranges');  \n",
    "ax.set_xlabel('Predicted labels');ax.set_ylabel('True labels');\n",
    "ax.set_title('Confusion Matrix');\n",
    "ax.xaxis.set_ticklabels(['negative', 'positive', 'neutral']); ax.yaxis.set_ticklabels(['negative', 'positive', 'neutral']);"
   ]
  },
  {
   "cell_type": "code",
   "execution_count": 26,
   "id": "35365d6d",
   "metadata": {},
   "outputs": [
    {
     "data": {
      "text/plain": [
       "['final_model_version_corrected/RF.joblib']"
      ]
     },
     "execution_count": 26,
     "metadata": {},
     "output_type": "execute_result"
    }
   ],
   "source": [
    "# to save the model\n",
    "import joblib\n",
    "joblib.dump(random_forest, \"final_model_version_corrected/RF.joblib\")"
   ]
  },
  {
   "cell_type": "code",
   "execution_count": 27,
   "id": "27c11a5d",
   "metadata": {},
   "outputs": [
    {
     "name": "stderr",
     "output_type": "stream",
     "text": [
      "/usr/local/lib/python3.8/dist-packages/sklearn/linear_model/_logistic.py:458: ConvergenceWarning: lbfgs failed to converge (status=1):\n",
      "STOP: TOTAL NO. of ITERATIONS REACHED LIMIT.\n",
      "\n",
      "Increase the number of iterations (max_iter) or scale the data as shown in:\n",
      "    https://scikit-learn.org/stable/modules/preprocessing.html\n",
      "Please also refer to the documentation for alternative solver options:\n",
      "    https://scikit-learn.org/stable/modules/linear_model.html#logistic-regression\n",
      "  n_iter_i = _check_optimize_result(\n"
     ]
    },
    {
     "data": {
      "text/html": [
       "<style>#sk-container-id-3 {color: black;background-color: white;}#sk-container-id-3 pre{padding: 0;}#sk-container-id-3 div.sk-toggleable {background-color: white;}#sk-container-id-3 label.sk-toggleable__label {cursor: pointer;display: block;width: 100%;margin-bottom: 0;padding: 0.3em;box-sizing: border-box;text-align: center;}#sk-container-id-3 label.sk-toggleable__label-arrow:before {content: \"▸\";float: left;margin-right: 0.25em;color: #696969;}#sk-container-id-3 label.sk-toggleable__label-arrow:hover:before {color: black;}#sk-container-id-3 div.sk-estimator:hover label.sk-toggleable__label-arrow:before {color: black;}#sk-container-id-3 div.sk-toggleable__content {max-height: 0;max-width: 0;overflow: hidden;text-align: left;background-color: #f0f8ff;}#sk-container-id-3 div.sk-toggleable__content pre {margin: 0.2em;color: black;border-radius: 0.25em;background-color: #f0f8ff;}#sk-container-id-3 input.sk-toggleable__control:checked~div.sk-toggleable__content {max-height: 200px;max-width: 100%;overflow: auto;}#sk-container-id-3 input.sk-toggleable__control:checked~label.sk-toggleable__label-arrow:before {content: \"▾\";}#sk-container-id-3 div.sk-estimator input.sk-toggleable__control:checked~label.sk-toggleable__label {background-color: #d4ebff;}#sk-container-id-3 div.sk-label input.sk-toggleable__control:checked~label.sk-toggleable__label {background-color: #d4ebff;}#sk-container-id-3 input.sk-hidden--visually {border: 0;clip: rect(1px 1px 1px 1px);clip: rect(1px, 1px, 1px, 1px);height: 1px;margin: -1px;overflow: hidden;padding: 0;position: absolute;width: 1px;}#sk-container-id-3 div.sk-estimator {font-family: monospace;background-color: #f0f8ff;border: 1px dotted black;border-radius: 0.25em;box-sizing: border-box;margin-bottom: 0.5em;}#sk-container-id-3 div.sk-estimator:hover {background-color: #d4ebff;}#sk-container-id-3 div.sk-parallel-item::after {content: \"\";width: 100%;border-bottom: 1px solid gray;flex-grow: 1;}#sk-container-id-3 div.sk-label:hover label.sk-toggleable__label {background-color: #d4ebff;}#sk-container-id-3 div.sk-serial::before {content: \"\";position: absolute;border-left: 1px solid gray;box-sizing: border-box;top: 0;bottom: 0;left: 50%;z-index: 0;}#sk-container-id-3 div.sk-serial {display: flex;flex-direction: column;align-items: center;background-color: white;padding-right: 0.2em;padding-left: 0.2em;position: relative;}#sk-container-id-3 div.sk-item {position: relative;z-index: 1;}#sk-container-id-3 div.sk-parallel {display: flex;align-items: stretch;justify-content: center;background-color: white;position: relative;}#sk-container-id-3 div.sk-item::before, #sk-container-id-3 div.sk-parallel-item::before {content: \"\";position: absolute;border-left: 1px solid gray;box-sizing: border-box;top: 0;bottom: 0;left: 50%;z-index: -1;}#sk-container-id-3 div.sk-parallel-item {display: flex;flex-direction: column;z-index: 1;position: relative;background-color: white;}#sk-container-id-3 div.sk-parallel-item:first-child::after {align-self: flex-end;width: 50%;}#sk-container-id-3 div.sk-parallel-item:last-child::after {align-self: flex-start;width: 50%;}#sk-container-id-3 div.sk-parallel-item:only-child::after {width: 0;}#sk-container-id-3 div.sk-dashed-wrapped {border: 1px dashed gray;margin: 0 0.4em 0.5em 0.4em;box-sizing: border-box;padding-bottom: 0.4em;background-color: white;}#sk-container-id-3 div.sk-label label {font-family: monospace;font-weight: bold;display: inline-block;line-height: 1.2em;}#sk-container-id-3 div.sk-label-container {text-align: center;}#sk-container-id-3 div.sk-container {/* jupyter's `normalize.less` sets `[hidden] { display: none; }` but bootstrap.min.css set `[hidden] { display: none !important; }` so we also need the `!important` here to be able to override the default hidden behavior on the sphinx rendered scikit-learn.org. See: https://github.com/scikit-learn/scikit-learn/issues/21755 */display: inline-block !important;position: relative;}#sk-container-id-3 div.sk-text-repr-fallback {display: none;}</style><div id=\"sk-container-id-3\" class=\"sk-top-container\"><div class=\"sk-text-repr-fallback\"><pre>LogisticRegression()</pre><b>In a Jupyter environment, please rerun this cell to show the HTML representation or trust the notebook. <br />On GitHub, the HTML representation is unable to render, please try loading this page with nbviewer.org.</b></div><div class=\"sk-container\" hidden><div class=\"sk-item\"><div class=\"sk-estimator sk-toggleable\"><input class=\"sk-toggleable__control sk-hidden--visually\" id=\"sk-estimator-id-3\" type=\"checkbox\" checked><label for=\"sk-estimator-id-3\" class=\"sk-toggleable__label sk-toggleable__label-arrow\">LogisticRegression</label><div class=\"sk-toggleable__content\"><pre>LogisticRegression()</pre></div></div></div></div></div>"
      ],
      "text/plain": [
       "LogisticRegression()"
      ]
     },
     "execution_count": 27,
     "metadata": {},
     "output_type": "execute_result"
    }
   ],
   "source": [
    "# Logistic regression model\n",
    "lr = LogisticRegression()\n",
    "lr.fit(X_train_tvec, Y_train)"
   ]
  },
  {
   "cell_type": "code",
   "execution_count": 28,
   "id": "c8db37e8",
   "metadata": {},
   "outputs": [
    {
     "data": {
      "text/plain": [
       "['final_model_version_corrected/LR.joblib']"
      ]
     },
     "execution_count": 28,
     "metadata": {},
     "output_type": "execute_result"
    }
   ],
   "source": [
    "# to save the model\n",
    "import joblib\n",
    "joblib.dump(lr, \"final_model_version_corrected/LR.joblib\")"
   ]
  },
  {
   "cell_type": "code",
   "execution_count": 29,
   "id": "fe2eeaa8",
   "metadata": {},
   "outputs": [
    {
     "data": {
      "text/html": [
       "<style type=\"text/css\">\n",
       "#T_7d9d6_row0_col0 {\n",
       "  background-color: #b36bb3;\n",
       "  color: #f1f1f1;\n",
       "}\n",
       "#T_7d9d6_row0_col1 {\n",
       "  background-color: #8f1f8f;\n",
       "  color: #f1f1f1;\n",
       "}\n",
       "#T_7d9d6_row0_col2 {\n",
       "  background-color: #932793;\n",
       "  color: #f1f1f1;\n",
       "}\n",
       "#T_7d9d6_row0_col3 {\n",
       "  background-color: #dbbfdb;\n",
       "  color: #000000;\n",
       "}\n",
       "#T_7d9d6_row1_col0, #T_7d9d6_row1_col1, #T_7d9d6_row1_col2, #T_7d9d6_row3_col3 {\n",
       "  background-color: #f3f0f3;\n",
       "  color: #000000;\n",
       "}\n",
       "#T_7d9d6_row1_col3 {\n",
       "  background-color: #ece1ec;\n",
       "  color: #000000;\n",
       "}\n",
       "#T_7d9d6_row2_col0, #T_7d9d6_row2_col1, #T_7d9d6_row2_col2, #T_7d9d6_row4_col3, #T_7d9d6_row5_col3 {\n",
       "  background-color: #800080;\n",
       "  color: #f1f1f1;\n",
       "}\n",
       "#T_7d9d6_row2_col3 {\n",
       "  background-color: #9f409f;\n",
       "  color: #f1f1f1;\n",
       "}\n",
       "#T_7d9d6_row3_col0 {\n",
       "  background-color: #902190;\n",
       "  color: #f1f1f1;\n",
       "}\n",
       "#T_7d9d6_row3_col1, #T_7d9d6_row5_col1, #T_7d9d6_row5_col2 {\n",
       "  background-color: #8b178b;\n",
       "  color: #f1f1f1;\n",
       "}\n",
       "#T_7d9d6_row3_col2 {\n",
       "  background-color: #891489;\n",
       "  color: #f1f1f1;\n",
       "}\n",
       "#T_7d9d6_row4_col0 {\n",
       "  background-color: #b774b7;\n",
       "  color: #f1f1f1;\n",
       "}\n",
       "#T_7d9d6_row4_col1 {\n",
       "  background-color: #ac5cac;\n",
       "  color: #f1f1f1;\n",
       "}\n",
       "#T_7d9d6_row4_col2 {\n",
       "  background-color: #ad5dad;\n",
       "  color: #f1f1f1;\n",
       "}\n",
       "#T_7d9d6_row5_col0 {\n",
       "  background-color: #942994;\n",
       "  color: #f1f1f1;\n",
       "}\n",
       "</style>\n",
       "<table id=\"T_7d9d6\">\n",
       "  <thead>\n",
       "    <tr>\n",
       "      <th class=\"blank level0\" >&nbsp;</th>\n",
       "      <th id=\"T_7d9d6_level0_col0\" class=\"col_heading level0 col0\" >precision</th>\n",
       "      <th id=\"T_7d9d6_level0_col1\" class=\"col_heading level0 col1\" >recall</th>\n",
       "      <th id=\"T_7d9d6_level0_col2\" class=\"col_heading level0 col2\" >f1-score</th>\n",
       "      <th id=\"T_7d9d6_level0_col3\" class=\"col_heading level0 col3\" >support</th>\n",
       "    </tr>\n",
       "  </thead>\n",
       "  <tbody>\n",
       "    <tr>\n",
       "      <th id=\"T_7d9d6_level0_row0\" class=\"row_heading level0 row0\" >0</th>\n",
       "      <td id=\"T_7d9d6_row0_col0\" class=\"data row0 col0\" >0.800000</td>\n",
       "      <td id=\"T_7d9d6_row0_col1\" class=\"data row0 col1\" >0.860000</td>\n",
       "      <td id=\"T_7d9d6_row0_col2\" class=\"data row0 col2\" >0.830000</td>\n",
       "      <td id=\"T_7d9d6_row0_col3\" class=\"data row0 col3\" >13841.000000</td>\n",
       "    </tr>\n",
       "    <tr>\n",
       "      <th id=\"T_7d9d6_level0_row1\" class=\"row_heading level0 row1\" >1</th>\n",
       "      <td id=\"T_7d9d6_row1_col0\" class=\"data row1 col0\" >0.640000</td>\n",
       "      <td id=\"T_7d9d6_row1_col1\" class=\"data row1 col1\" >0.140000</td>\n",
       "      <td id=\"T_7d9d6_row1_col2\" class=\"data row1 col2\" >0.230000</td>\n",
       "      <td id=\"T_7d9d6_row1_col3\" class=\"data row1 col3\" >4257.000000</td>\n",
       "    </tr>\n",
       "    <tr>\n",
       "      <th id=\"T_7d9d6_level0_row2\" class=\"row_heading level0 row2\" >2</th>\n",
       "      <td id=\"T_7d9d6_row2_col0\" class=\"data row2 col0\" >0.930000</td>\n",
       "      <td id=\"T_7d9d6_row2_col1\" class=\"data row2 col1\" >0.970000</td>\n",
       "      <td id=\"T_7d9d6_row2_col2\" class=\"data row2 col2\" >0.950000</td>\n",
       "      <td id=\"T_7d9d6_row2_col3\" class=\"data row2 col3\" >49334.000000</td>\n",
       "    </tr>\n",
       "    <tr>\n",
       "      <th id=\"T_7d9d6_level0_row3\" class=\"row_heading level0 row3\" >accuracy</th>\n",
       "      <td id=\"T_7d9d6_row3_col0\" class=\"data row3 col0\" >0.890000</td>\n",
       "      <td id=\"T_7d9d6_row3_col1\" class=\"data row3 col1\" >0.890000</td>\n",
       "      <td id=\"T_7d9d6_row3_col2\" class=\"data row3 col2\" >0.890000</td>\n",
       "      <td id=\"T_7d9d6_row3_col3\" class=\"data row3 col3\" >0.890000</td>\n",
       "    </tr>\n",
       "    <tr>\n",
       "      <th id=\"T_7d9d6_level0_row4\" class=\"row_heading level0 row4\" >macro avg</th>\n",
       "      <td id=\"T_7d9d6_row4_col0\" class=\"data row4 col0\" >0.790000</td>\n",
       "      <td id=\"T_7d9d6_row4_col1\" class=\"data row4 col1\" >0.650000</td>\n",
       "      <td id=\"T_7d9d6_row4_col2\" class=\"data row4 col2\" >0.670000</td>\n",
       "      <td id=\"T_7d9d6_row4_col3\" class=\"data row4 col3\" >67432.000000</td>\n",
       "    </tr>\n",
       "    <tr>\n",
       "      <th id=\"T_7d9d6_level0_row5\" class=\"row_heading level0 row5\" >weighted avg</th>\n",
       "      <td id=\"T_7d9d6_row5_col0\" class=\"data row5 col0\" >0.880000</td>\n",
       "      <td id=\"T_7d9d6_row5_col1\" class=\"data row5 col1\" >0.890000</td>\n",
       "      <td id=\"T_7d9d6_row5_col2\" class=\"data row5 col2\" >0.880000</td>\n",
       "      <td id=\"T_7d9d6_row5_col3\" class=\"data row5 col3\" >67432.000000</td>\n",
       "    </tr>\n",
       "  </tbody>\n",
       "</table>\n"
      ],
      "text/plain": [
       "<pandas.io.formats.style.Styler at 0x7ff1d8c03fd0>"
      ]
     },
     "execution_count": 29,
     "metadata": {},
     "output_type": "execute_result"
    }
   ],
   "source": [
    "# Predict using training and testing data and display the accuracy, f-1 score, precision for Positive and Negative Sentiment Classifiers \n",
    "lr_predictions = lr.predict(X_test_tvec)\n",
    "report = classification_report(Y_test,lr_predictions, output_dict=True)\n",
    "data_report = pd.DataFrame(report).transpose().round(2)\n",
    "cm = sns.light_palette(\"purple\", as_cmap=True)\n",
    "data_report.style.background_gradient(cmap=cm)\n",
    "\n"
   ]
  },
  {
   "cell_type": "code",
   "execution_count": 30,
   "id": "2668a535",
   "metadata": {},
   "outputs": [
    {
     "data": {
      "image/png": "[encoded data removed]",
      "text/plain": [
       "<Figure size 432x288 with 2 Axes>"
      ]
     },
     "metadata": {
      "needs_background": "light"
     },
     "output_type": "display_data"
    }
   ],
   "source": [
    "# confusion matrix\n",
    "# lr_predictions=lr.predict(tvec.transform(X_test_cleaned))\n",
    "ax= plt.subplot()\n",
    "cm=confusion_matrix(Y_test,lr_predictions)\n",
    "sns.heatmap(cm, annot=True, fmt='g', ax=ax,cmap='Reds');  \n",
    "ax.set_xlabel('Predicted labels');ax.set_ylabel('True labels');\n",
    "ax.set_title('Confusion Matrix');\n",
    "ax.xaxis.set_ticklabels(['negative', 'positive', 'neutral']); ax.yaxis.set_ticklabels(['negative', 'positive', 'neutral']);\n"
   ]
  },
  {
   "cell_type": "code",
   "execution_count": 31,
   "id": "598cfc02",
   "metadata": {},
   "outputs": [
    {
     "data": {
      "text/html": [
       "<style>#sk-container-id-4 {color: black;background-color: white;}#sk-container-id-4 pre{padding: 0;}#sk-container-id-4 div.sk-toggleable {background-color: white;}#sk-container-id-4 label.sk-toggleable__label {cursor: pointer;display: block;width: 100%;margin-bottom: 0;padding: 0.3em;box-sizing: border-box;text-align: center;}#sk-container-id-4 label.sk-toggleable__label-arrow:before {content: \"▸\";float: left;margin-right: 0.25em;color: #696969;}#sk-container-id-4 label.sk-toggleable__label-arrow:hover:before {color: black;}#sk-container-id-4 div.sk-estimator:hover label.sk-toggleable__label-arrow:before {color: black;}#sk-container-id-4 div.sk-toggleable__content {max-height: 0;max-width: 0;overflow: hidden;text-align: left;background-color: #f0f8ff;}#sk-container-id-4 div.sk-toggleable__content pre {margin: 0.2em;color: black;border-radius: 0.25em;background-color: #f0f8ff;}#sk-container-id-4 input.sk-toggleable__control:checked~div.sk-toggleable__content {max-height: 200px;max-width: 100%;overflow: auto;}#sk-container-id-4 input.sk-toggleable__control:checked~label.sk-toggleable__label-arrow:before {content: \"▾\";}#sk-container-id-4 div.sk-estimator input.sk-toggleable__control:checked~label.sk-toggleable__label {background-color: #d4ebff;}#sk-container-id-4 div.sk-label input.sk-toggleable__control:checked~label.sk-toggleable__label {background-color: #d4ebff;}#sk-container-id-4 input.sk-hidden--visually {border: 0;clip: rect(1px 1px 1px 1px);clip: rect(1px, 1px, 1px, 1px);height: 1px;margin: -1px;overflow: hidden;padding: 0;position: absolute;width: 1px;}#sk-container-id-4 div.sk-estimator {font-family: monospace;background-color: #f0f8ff;border: 1px dotted black;border-radius: 0.25em;box-sizing: border-box;margin-bottom: 0.5em;}#sk-container-id-4 div.sk-estimator:hover {background-color: #d4ebff;}#sk-container-id-4 div.sk-parallel-item::after {content: \"\";width: 100%;border-bottom: 1px solid gray;flex-grow: 1;}#sk-container-id-4 div.sk-label:hover label.sk-toggleable__label {background-color: #d4ebff;}#sk-container-id-4 div.sk-serial::before {content: \"\";position: absolute;border-left: 1px solid gray;box-sizing: border-box;top: 0;bottom: 0;left: 50%;z-index: 0;}#sk-container-id-4 div.sk-serial {display: flex;flex-direction: column;align-items: center;background-color: white;padding-right: 0.2em;padding-left: 0.2em;position: relative;}#sk-container-id-4 div.sk-item {position: relative;z-index: 1;}#sk-container-id-4 div.sk-parallel {display: flex;align-items: stretch;justify-content: center;background-color: white;position: relative;}#sk-container-id-4 div.sk-item::before, #sk-container-id-4 div.sk-parallel-item::before {content: \"\";position: absolute;border-left: 1px solid gray;box-sizing: border-box;top: 0;bottom: 0;left: 50%;z-index: -1;}#sk-container-id-4 div.sk-parallel-item {display: flex;flex-direction: column;z-index: 1;position: relative;background-color: white;}#sk-container-id-4 div.sk-parallel-item:first-child::after {align-self: flex-end;width: 50%;}#sk-container-id-4 div.sk-parallel-item:last-child::after {align-self: flex-start;width: 50%;}#sk-container-id-4 div.sk-parallel-item:only-child::after {width: 0;}#sk-container-id-4 div.sk-dashed-wrapped {border: 1px dashed gray;margin: 0 0.4em 0.5em 0.4em;box-sizing: border-box;padding-bottom: 0.4em;background-color: white;}#sk-container-id-4 div.sk-label label {font-family: monospace;font-weight: bold;display: inline-block;line-height: 1.2em;}#sk-container-id-4 div.sk-label-container {text-align: center;}#sk-container-id-4 div.sk-container {/* jupyter's `normalize.less` sets `[hidden] { display: none; }` but bootstrap.min.css set `[hidden] { display: none !important; }` so we also need the `!important` here to be able to override the default hidden behavior on the sphinx rendered scikit-learn.org. See: https://github.com/scikit-learn/scikit-learn/issues/21755 */display: inline-block !important;position: relative;}#sk-container-id-4 div.sk-text-repr-fallback {display: none;}</style><div id=\"sk-container-id-4\" class=\"sk-top-container\"><div class=\"sk-text-repr-fallback\"><pre>MultinomialNB()</pre><b>In a Jupyter environment, please rerun this cell to show the HTML representation or trust the notebook. <br />On GitHub, the HTML representation is unable to render, please try loading this page with nbviewer.org.</b></div><div class=\"sk-container\" hidden><div class=\"sk-item\"><div class=\"sk-estimator sk-toggleable\"><input class=\"sk-toggleable__control sk-hidden--visually\" id=\"sk-estimator-id-4\" type=\"checkbox\" checked><label for=\"sk-estimator-id-4\" class=\"sk-toggleable__label sk-toggleable__label-arrow\">MultinomialNB</label><div class=\"sk-toggleable__content\"><pre>MultinomialNB()</pre></div></div></div></div></div>"
      ],
      "text/plain": [
       "MultinomialNB()"
      ]
     },
     "execution_count": 31,
     "metadata": {},
     "output_type": "execute_result"
    }
   ],
   "source": [
    "# Naive Bayes model\n",
    "nbm = naive_bayes.MultinomialNB()\n",
    "nbm.fit(X_train_tvec, Y_train)"
   ]
  },
  {
   "cell_type": "code",
   "execution_count": 32,
   "id": "6d6e6c93",
   "metadata": {},
   "outputs": [
    {
     "data": {
      "text/plain": [
       "['final_model_version_corrected/NBC.joblib']"
      ]
     },
     "execution_count": 32,
     "metadata": {},
     "output_type": "execute_result"
    }
   ],
   "source": [
    "joblib.dump(nbm, \"final_model_version_corrected/NBC.joblib\")"
   ]
  },
  {
   "cell_type": "code",
   "execution_count": 33,
   "id": "325a8ca5",
   "metadata": {},
   "outputs": [
    {
     "data": {
      "text/html": [
       "<style type=\"text/css\">\n",
       "#T_c8bcd_row0_col0, #T_c8bcd_row2_col1, #T_c8bcd_row2_col2, #T_c8bcd_row4_col3, #T_c8bcd_row5_col3 {\n",
       "  background-color: #0000ff;\n",
       "  color: #f1f1f1;\n",
       "}\n",
       "#T_c8bcd_row0_col1 {\n",
       "  background-color: #6868fa;\n",
       "  color: #f1f1f1;\n",
       "}\n",
       "#T_c8bcd_row0_col2 {\n",
       "  background-color: #3e3efc;\n",
       "  color: #f1f1f1;\n",
       "}\n",
       "#T_c8bcd_row0_col3 {\n",
       "  background-color: #bfbff5;\n",
       "  color: #000000;\n",
       "}\n",
       "#T_c8bcd_row1_col0, #T_c8bcd_row1_col1, #T_c8bcd_row1_col2, #T_c8bcd_row3_col3 {\n",
       "  background-color: #f0f0f3;\n",
       "  color: #000000;\n",
       "}\n",
       "#T_c8bcd_row1_col3 {\n",
       "  background-color: #e1e1f4;\n",
       "  color: #000000;\n",
       "}\n",
       "#T_c8bcd_row2_col0, #T_c8bcd_row3_col0 {\n",
       "  background-color: #0c0cfe;\n",
       "  color: #f1f1f1;\n",
       "}\n",
       "#T_c8bcd_row2_col3 {\n",
       "  background-color: #4040fc;\n",
       "  color: #f1f1f1;\n",
       "}\n",
       "#T_c8bcd_row3_col1, #T_c8bcd_row5_col1 {\n",
       "  background-color: #2525fd;\n",
       "  color: #f1f1f1;\n",
       "}\n",
       "#T_c8bcd_row3_col2 {\n",
       "  background-color: #1313fe;\n",
       "  color: #f1f1f1;\n",
       "}\n",
       "#T_c8bcd_row4_col0 {\n",
       "  background-color: #5959fa;\n",
       "  color: #f1f1f1;\n",
       "}\n",
       "#T_c8bcd_row4_col1 {\n",
       "  background-color: #7575f9;\n",
       "  color: #f1f1f1;\n",
       "}\n",
       "#T_c8bcd_row4_col2 {\n",
       "  background-color: #6565fa;\n",
       "  color: #f1f1f1;\n",
       "}\n",
       "#T_c8bcd_row5_col0 {\n",
       "  background-color: #1919fe;\n",
       "  color: #f1f1f1;\n",
       "}\n",
       "#T_c8bcd_row5_col2 {\n",
       "  background-color: #1b1bfe;\n",
       "  color: #f1f1f1;\n",
       "}\n",
       "</style>\n",
       "<table id=\"T_c8bcd\">\n",
       "  <thead>\n",
       "    <tr>\n",
       "      <th class=\"blank level0\" >&nbsp;</th>\n",
       "      <th id=\"T_c8bcd_level0_col0\" class=\"col_heading level0 col0\" >precision</th>\n",
       "      <th id=\"T_c8bcd_level0_col1\" class=\"col_heading level0 col1\" >recall</th>\n",
       "      <th id=\"T_c8bcd_level0_col2\" class=\"col_heading level0 col2\" >f1-score</th>\n",
       "      <th id=\"T_c8bcd_level0_col3\" class=\"col_heading level0 col3\" >support</th>\n",
       "    </tr>\n",
       "  </thead>\n",
       "  <tbody>\n",
       "    <tr>\n",
       "      <th id=\"T_c8bcd_level0_row0\" class=\"row_heading level0 row0\" >0</th>\n",
       "      <td id=\"T_c8bcd_row0_col0\" class=\"data row0 col0\" >0.850000</td>\n",
       "      <td id=\"T_c8bcd_row0_col1\" class=\"data row0 col1\" >0.570000</td>\n",
       "      <td id=\"T_c8bcd_row0_col2\" class=\"data row0 col2\" >0.680000</td>\n",
       "      <td id=\"T_c8bcd_row0_col3\" class=\"data row0 col3\" >13841.000000</td>\n",
       "    </tr>\n",
       "    <tr>\n",
       "      <th id=\"T_c8bcd_level0_row1\" class=\"row_heading level0 row1\" >1</th>\n",
       "      <td id=\"T_c8bcd_row1_col0\" class=\"data row1 col0\" >0.660000</td>\n",
       "      <td id=\"T_c8bcd_row1_col1\" class=\"data row1 col1\" >0.020000</td>\n",
       "      <td id=\"T_c8bcd_row1_col2\" class=\"data row1 col2\" >0.030000</td>\n",
       "      <td id=\"T_c8bcd_row1_col3\" class=\"data row1 col3\" >4257.000000</td>\n",
       "    </tr>\n",
       "    <tr>\n",
       "      <th id=\"T_c8bcd_level0_row2\" class=\"row_heading level0 row2\" >2</th>\n",
       "      <td id=\"T_c8bcd_row2_col0\" class=\"data row2 col0\" >0.840000</td>\n",
       "      <td id=\"T_c8bcd_row2_col1\" class=\"data row2 col1\" >0.990000</td>\n",
       "      <td id=\"T_c8bcd_row2_col2\" class=\"data row2 col2\" >0.910000</td>\n",
       "      <td id=\"T_c8bcd_row2_col3\" class=\"data row2 col3\" >49334.000000</td>\n",
       "    </tr>\n",
       "    <tr>\n",
       "      <th id=\"T_c8bcd_level0_row3\" class=\"row_heading level0 row3\" >accuracy</th>\n",
       "      <td id=\"T_c8bcd_row3_col0\" class=\"data row3 col0\" >0.840000</td>\n",
       "      <td id=\"T_c8bcd_row3_col1\" class=\"data row3 col1\" >0.840000</td>\n",
       "      <td id=\"T_c8bcd_row3_col2\" class=\"data row3 col2\" >0.840000</td>\n",
       "      <td id=\"T_c8bcd_row3_col3\" class=\"data row3 col3\" >0.840000</td>\n",
       "    </tr>\n",
       "    <tr>\n",
       "      <th id=\"T_c8bcd_level0_row4\" class=\"row_heading level0 row4\" >macro avg</th>\n",
       "      <td id=\"T_c8bcd_row4_col0\" class=\"data row4 col0\" >0.780000</td>\n",
       "      <td id=\"T_c8bcd_row4_col1\" class=\"data row4 col1\" >0.520000</td>\n",
       "      <td id=\"T_c8bcd_row4_col2\" class=\"data row4 col2\" >0.540000</td>\n",
       "      <td id=\"T_c8bcd_row4_col3\" class=\"data row4 col3\" >67432.000000</td>\n",
       "    </tr>\n",
       "    <tr>\n",
       "      <th id=\"T_c8bcd_level0_row5\" class=\"row_heading level0 row5\" >weighted avg</th>\n",
       "      <td id=\"T_c8bcd_row5_col0\" class=\"data row5 col0\" >0.830000</td>\n",
       "      <td id=\"T_c8bcd_row5_col1\" class=\"data row5 col1\" >0.840000</td>\n",
       "      <td id=\"T_c8bcd_row5_col2\" class=\"data row5 col2\" >0.810000</td>\n",
       "      <td id=\"T_c8bcd_row5_col3\" class=\"data row5 col3\" >67432.000000</td>\n",
       "    </tr>\n",
       "  </tbody>\n",
       "</table>\n"
      ],
      "text/plain": [
       "<pandas.io.formats.style.Styler at 0x7ff1ce834e50>"
      ]
     },
     "execution_count": 33,
     "metadata": {},
     "output_type": "execute_result"
    }
   ],
   "source": [
    "# Predict using training and testing data and display the accuracy, f-1 score, precision for Positive and Negative Sentiment Classifiers \n",
    "nbm_predictions = nbm.predict(X_test_tvec)\n",
    "report = classification_report(Y_test,nbm_predictions, output_dict=True)\n",
    "data_report = pd.DataFrame(report).transpose().round(2)\n",
    "cm = sns.light_palette(\"blue\", as_cmap=True)\n",
    "data_report.style.background_gradient(cmap=cm)\n",
    "\n"
   ]
  },
  {
   "cell_type": "code",
   "execution_count": 34,
   "id": "a86c0a0f",
   "metadata": {},
   "outputs": [
    {
     "data": {
      "image/png": "[encoded data removed]",
      "text/plain": [
       "<Figure size 432x288 with 2 Axes>"
      ]
     },
     "metadata": {
      "needs_background": "light"
     },
     "output_type": "display_data"
    }
   ],
   "source": [
    "# confusion matrix\n",
    "# nbm_predictions=nbm.predict(tvec.transform(X_test_cleaned))\n",
    "ax= plt.subplot()\n",
    "cm=confusion_matrix(Y_test,nbm_predictions)\n",
    "sns.heatmap(cm, annot=True, fmt='g', ax=ax,cmap='Purples');  \n",
    "ax.set_xlabel('Predicted labels');ax.set_ylabel('True labels');\n",
    "ax.set_title('Confusion Matrix');\n",
    "ax.xaxis.set_ticklabels(['negative', 'positive', 'neutral']); ax.yaxis.set_ticklabels(['negative', 'positive', 'neutral']);\n"
   ]
  },
  {
   "cell_type": "code",
   "execution_count": 45,
   "id": "616e86aa",
   "metadata": {},
   "outputs": [
    {
     "data": {
      "text/html": [
       "<div>\n",
       "<style scoped>\n",
       "    .dataframe tbody tr th:only-of-type {\n",
       "        vertical-align: middle;\n",
       "    }\n",
       "\n",
       "    .dataframe tbody tr th {\n",
       "        vertical-align: top;\n",
       "    }\n",
       "\n",
       "    .dataframe thead th {\n",
       "        text-align: right;\n",
       "    }\n",
       "</style>\n",
       "<table border=\"1\" class=\"dataframe\">\n",
       "  <thead>\n",
       "    <tr style=\"text-align: right;\">\n",
       "      <th></th>\n",
       "      <th>text</th>\n",
       "      <th>helpful</th>\n",
       "    </tr>\n",
       "  </thead>\n",
       "  <tbody>\n",
       "    <tr>\n",
       "      <th>0</th>\n",
       "      <td>good buy</td>\n",
       "      <td>0.0</td>\n",
       "    </tr>\n",
       "    <tr>\n",
       "      <th>1</th>\n",
       "      <td>great phonegood price</td>\n",
       "      <td>0.0</td>\n",
       "    </tr>\n",
       "    <tr>\n",
       "      <th>2</th>\n",
       "      <td>I bought and send to Africa the two are not wo...</td>\n",
       "      <td>0.0</td>\n",
       "    </tr>\n",
       "    <tr>\n",
       "      <th>3</th>\n",
       "      <td>Had difficulty connecting to wf</td>\n",
       "      <td>0.0</td>\n",
       "    </tr>\n",
       "    <tr>\n",
       "      <th>4</th>\n",
       "      <td>very good</td>\n",
       "      <td>0.0</td>\n",
       "    </tr>\n",
       "  </tbody>\n",
       "</table>\n",
       "</div>"
      ],
      "text/plain": [
       "                                                text  helpful\n",
       "0                                           good buy      0.0\n",
       "1                              great phonegood price      0.0\n",
       "2  I bought and send to Africa the two are not wo...      0.0\n",
       "3                    Had difficulty connecting to wf      0.0\n",
       "4                                          very good      0.0"
      ]
     },
     "execution_count": 45,
     "metadata": {},
     "output_type": "execute_result"
    }
   ],
   "source": [
    "df_new  = pd.read_csv(\"datasets/onePRODUCT.csv\").dropna().reset_index()\n",
    "if 'level_0' in df_new.columns:\n",
    "    df_new.drop(['level_0'], axis=1, inplace=True)\n",
    "if 'index' in df_new.columns:\n",
    "    df_new.drop(['index'], axis=1, inplace=True)\n",
    "df_new.columns = ['text', 'helpful']\n",
    "df_new.head()"
   ]
  },
  {
   "cell_type": "code",
   "execution_count": 46,
   "id": "cfa2d323",
   "metadata": {},
   "outputs": [],
   "source": [
    "def getOverallSentiment(df:pd.DataFrame):\n",
    "    df['helpful'].fillna(0, inplace=True)\n",
    "    data = tvec.transform(df['text'])\n",
    "    df['sentiment'] = svr_lin.predict(data)\n",
    "    df['helpful'] = df['helpful'].apply(lambda n: n+1)\n",
    "    sum = df['helpful'].sum()\n",
    "\n",
    "    result = {\n",
    "        0: 0,\n",
    "        1: 0,\n",
    "        2: 0\n",
    "    }\n",
    "\n",
    "\n",
    "    for index, sentiment  in enumerate(df['sentiment']):\n",
    "        result[sentiment] += df['helpful'][index]\n",
    "\n",
    "    score = -1 * result[0] + 1*result[2]\n",
    "        \n",
    "    print(score, sum, result)\n",
    "    if result[0] > result[1] and result[0] > result[2]:\n",
    "        return 0,score\n",
    "    elif result[1] > result[0] and result[1] > result[2]:\n",
    "        return 1,score\n",
    "    else: \n",
    "        return 2,score\n",
    "    # return result"
   ]
  },
  {
   "cell_type": "code",
   "execution_count": 47,
   "id": "8610546c",
   "metadata": {},
   "outputs": [
    {
     "name": "stdout",
     "output_type": "stream",
     "text": [
      "-407.0 3556.0 {0: 1956.0, 1: 51.0, 2: 1549.0}\n"
     ]
    },
    {
     "data": {
      "text/plain": [
       "(0, -407.0)"
      ]
     },
     "execution_count": 47,
     "metadata": {},
     "output_type": "execute_result"
    }
   ],
   "source": [
    "getOverallSentiment(df_new)"
   ]
  },
  {
   "cell_type": "code",
   "execution_count": null,
   "id": "ca624bf2",
   "metadata": {},
   "outputs": [],
   "source": []
  }
 ],
 "metadata": {
  "kernelspec": {
   "display_name": "Python 3 (ipykernel)",
   "language": "python",
   "name": "python3"
  },
  "language_info": {
   "codemirror_mode": {
    "name": "ipython",
    "version": 3
   },
   "file_extension": ".py",
   "mimetype": "text/x-python",
   "name": "python",
   "nbconvert_exporter": "python",
   "pygments_lexer": "ipython3",
   "version": "3.8.10"
  },
  "vscode": {
   "interpreter": {
    "hash": "369f2c481f4da34e4445cda3fffd2e751bd1c4d706f27375911949ba6bb62e1c"
   }
  }
 },
 "nbformat": 4,
 "nbformat_minor": 5
}

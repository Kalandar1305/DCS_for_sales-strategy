{
 "cells": [
  {
   "cell_type": "code",
   "execution_count": null,
   "metadata": {},
   "outputs": [],
   "source": [
    "#Run SyntheticDataset/gen_sentiment_group_week.ipynb and SyntheticDataset/gen_sales_price.ipynb before this script"
   ]
  },
  {
   "cell_type": "code",
   "execution_count": 1,
   "metadata": {},
   "outputs": [],
   "source": [
    "import pandas as pd"
   ]
  },
  {
   "cell_type": "code",
   "execution_count": 2,
   "metadata": {},
   "outputs": [],
   "source": [
    "d1 = pd.read_csv('scraped_dataset/laptop1_priced.csv')\n",
    "d2 = pd.read_csv('scraped_dataset/laptop2_priced.csv')\n",
    "d3 = pd.read_csv('scraped_dataset/laptop3_priced.csv')\n",
    "d4 = pd.read_csv('scraped_dataset/phone1_priced.csv')\n",
    "d5 = pd.read_csv('scraped_dataset/phone2_priced.csv')\n",
    "d6 = pd.read_csv('scraped_dataset/phone3_priced.csv')\n",
    "d7 = pd.read_csv('scraped_dataset/phone4_priced.csv')\n",
    "d8 = pd.read_csv('scraped_dataset/phone5_priced.csv')"
   ]
  },
  {
   "cell_type": "code",
   "execution_count": 3,
   "metadata": {},
   "outputs": [
    {
     "name": "stdout",
     "output_type": "stream",
     "text": [
      "[0. 1. 2. 3. 4. 5. 6. 7. 8.]\n",
      "[ 0.  1.  3.  4.  5.  6.  8.  9. 10. 11. 12. 14. 15. 16. 17. 19. 20. 21.\n",
      " 22. 23. 25.]\n",
      "[0. 1. 2. 3. 4. 5. 6. 7.]\n",
      "[0. 1. 2.]\n",
      "[0. 1. 2. 3.]\n",
      "[0. 1. 2. 3. 4.]\n",
      "[0.]\n",
      "[0. 1. 2. 3. 4.]\n"
     ]
    }
   ],
   "source": [
    "print(d1['id'].unique())\n",
    "print(d2['id'].unique())\n",
    "print(d3['id'].unique())\n",
    "print(d4['id'].unique())\n",
    "print(d5['id'].unique())\n",
    "print(d6['id'].unique())\n",
    "print(d7['id'].unique())\n",
    "print(d8['id'].unique())"
   ]
  },
  {
   "cell_type": "code",
   "execution_count": 4,
   "metadata": {},
   "outputs": [],
   "source": [
    "d1['id'].replace([0,1,2,3,4,5,6,7,8], [27,28,29,30,31,32,33,34,35], inplace=True)"
   ]
  },
  {
   "cell_type": "code",
   "execution_count": 5,
   "metadata": {},
   "outputs": [],
   "source": [
    "d3['id'].replace([0,1,2,3,4,5,6,7], [36,37,38,39,40,41,42,43], inplace=True)"
   ]
  },
  {
   "cell_type": "code",
   "execution_count": 6,
   "metadata": {},
   "outputs": [],
   "source": [
    "d4['id'].replace([0,1,2], [44,45,46], inplace=True)"
   ]
  },
  {
   "cell_type": "code",
   "execution_count": 7,
   "metadata": {},
   "outputs": [],
   "source": [
    "d5['id'].replace([0,1,2,3], [47,48,49,50], inplace=True)"
   ]
  },
  {
   "cell_type": "code",
   "execution_count": 8,
   "metadata": {},
   "outputs": [],
   "source": [
    "d6['id'].replace([0,1,2,3,4], [51,52,53,54,55], inplace=True)"
   ]
  },
  {
   "cell_type": "code",
   "execution_count": 9,
   "metadata": {},
   "outputs": [],
   "source": [
    "d7['id'].replace([0], [56], inplace=True)"
   ]
  },
  {
   "cell_type": "code",
   "execution_count": 10,
   "metadata": {},
   "outputs": [],
   "source": [
    "d8['id'].replace([0,1,2,3,4], [57,58,59,60,26], inplace=True)"
   ]
  },
  {
   "cell_type": "code",
   "execution_count": 11,
   "metadata": {},
   "outputs": [],
   "source": [
    "df = pd.concat([d1,d2,d3,d4,d5,d6,d7,d8]).reset_index()"
   ]
  },
  {
   "cell_type": "code",
   "execution_count": 12,
   "metadata": {},
   "outputs": [
    {
     "data": {
      "text/plain": [
       "array([ 0.,  1.,  3.,  4.,  5.,  6.,  8.,  9., 10., 11., 12., 14., 15.,\n",
       "       16., 17., 19., 20., 21., 22., 23., 25., 26., 27., 28., 29., 30.,\n",
       "       31., 32., 33., 34., 35., 36., 37., 38., 39., 40., 41., 42., 43.,\n",
       "       44., 45., 46., 47., 48., 49., 50., 51., 52., 53., 54., 55., 56.,\n",
       "       57., 58., 59., 60.])"
      ]
     },
     "execution_count": 12,
     "metadata": {},
     "output_type": "execute_result"
    }
   ],
   "source": [
    "s = df['id'].unique()\n",
    "s.sort()\n",
    "s"
   ]
  },
  {
   "cell_type": "code",
   "execution_count": 13,
   "metadata": {},
   "outputs": [],
   "source": [
    "df.drop(['index'], axis=1, inplace=True)"
   ]
  },
  {
   "cell_type": "code",
   "execution_count": 14,
   "metadata": {},
   "outputs": [],
   "source": [
    "df.to_csv(\"scraped_dataset/dynamic_pricing.csv\", index=False)"
   ]
  },
  {
   "cell_type": "code",
   "execution_count": null,
   "metadata": {},
   "outputs": [],
   "source": []
  }
 ],
 "metadata": {
  "kernelspec": {
   "display_name": "Python 3 (ipykernel)",
   "language": "python",
   "name": "python3"
  },
  "language_info": {
   "codemirror_mode": {
    "name": "ipython",
    "version": 3
   },
   "file_extension": ".py",
   "mimetype": "text/x-python",
   "name": "python",
   "nbconvert_exporter": "python",
   "pygments_lexer": "ipython3",
   "version": "3.8.10"
  }
 },
 "nbformat": 4,
 "nbformat_minor": 2
}

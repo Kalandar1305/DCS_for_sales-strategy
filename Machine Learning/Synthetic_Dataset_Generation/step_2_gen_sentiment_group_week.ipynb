{
 "cells": [
  {
   "cell_type": "code",
   "execution_count": 1,
   "metadata": {},
   "outputs": [],
   "source": [
    "import pandas as pd\n",
    "import re\n",
    "from bs4 import BeautifulSoup\n",
    "import joblib\n",
    "\n",
    "from nltk.stem import WordNetLemmatizer\n",
    "from nltk import word_tokenize\n",
    "from nltk.corpus import stopwords\n",
    "from nltk.tag import pos_tag"
   ]
  },
  {
   "cell_type": "code",
   "execution_count": 2,
   "metadata": {},
   "outputs": [],
   "source": [
    "from warnings import filterwarnings\n",
    "filterwarnings('ignore')"
   ]
  },
  {
   "cell_type": "code",
   "execution_count": 3,
   "metadata": {},
   "outputs": [],
   "source": [
    "linear_model = joblib.load('final_model/RF.joblib')\n",
    "\n",
    "lemmatizer = WordNetLemmatizer()"
   ]
  },
  {
   "cell_type": "code",
   "execution_count": 4,
   "metadata": {},
   "outputs": [],
   "source": [
    "# function to remove HTML elements from HTML\n",
    "def removeHTML(raw_text):\n",
    "    try:\n",
    "        clean_HTML = BeautifulSoup(raw_text).get_text() \n",
    "        return clean_HTML\n",
    "    except: \n",
    "        return raw_text\n",
    "    \n",
    "# function to remove special characters and numbers from the reviews\n",
    "def remove_special_char(raw_text):\n",
    "    clean_special_char = re.sub(\"[^a-zA-Z]\", \" \", raw_text)  \n",
    "    return clean_special_char\n",
    "\n",
    "# function to convert all reviews into lower case\n",
    "def toLowerCase(raw_text):\n",
    "    clean_lowerCase = raw_text.lower().split()\n",
    "    return(\" \".join(clean_lowerCase))\n",
    "\n",
    "def get_wordnet_pos(tag):\n",
    "    from nltk.corpus import wordnet\n",
    "    if tag.startswith('J'):\n",
    "        return wordnet.ADJ\n",
    "    elif tag.startswith('V'):\n",
    "        return wordnet.VERB\n",
    "    elif tag.startswith('N'):\n",
    "        return wordnet.NOUN\n",
    "    elif tag.startswith('R'):\n",
    "        return wordnet.ADV\n",
    "    else: \n",
    "        return wordnet.NOUN\n",
    "\n",
    "# function that converts english words to its base form (lemmatize)\n",
    "def lemmatize(sentance):\n",
    "    tagged = pos_tag( [i for i in sentance if i])\n",
    "    lemmatized = []\n",
    "    for word, tag in tagged:\n",
    "        lemma = lemmatizer.lemmatize(word, pos = get_wordnet_pos(tag))\n",
    "        lemmatized.append(lemma)\n",
    "    return lemmatized\n",
    "\n",
    "# function to remove stop words from the reviews\n",
    "def remove_stop_words(raw_text):\n",
    "    stops = set(stopwords.words(\"english\"))\n",
    "    words = [w for w in raw_text if not w in stops]\n",
    "    return words\n",
    "\n",
    "# function which combines all above operations to a single function\n",
    "def customTokenizer(text):\n",
    "    text = removeHTML(text)\n",
    "    text = remove_special_char(text)\n",
    "    text = toLowerCase(text)\n",
    "    tokens = word_tokenize(text)\n",
    "    tokens = remove_stop_words(tokens)\n",
    "    tokens = lemmatize(tokens)\n",
    "    return tokens\n",
    "\n",
    "def get_sentiment_score(df:pd.DataFrame):\n",
    "    # df.reset_index(inplace=True)\n",
    "    df['likes'].fillna(0, inplace=True)\n",
    "    df['helpful'] = df['likes'].apply(lambda n: n+1)\n",
    "    sum = df['helpful'].sum()\n",
    "\n",
    "    result = {\n",
    "        0: 0,\n",
    "        1: 0,\n",
    "        2: 0\n",
    "    }\n",
    "\n",
    "    for index, sentiment  in enumerate(df['sentiment']):\n",
    "        result[sentiment] += df['helpful'][index]\n",
    "\n",
    "    score = (-1 * result[0] + 1*result[2]) / sum\n",
    "        \n",
    "    return score"
   ]
  },
  {
   "cell_type": "code",
   "execution_count": 5,
   "metadata": {},
   "outputs": [],
   "source": [
    "tf_idf_vectorizer = joblib.load('final_model/TVEC.joblib')"
   ]
  },
  {
   "cell_type": "code",
   "execution_count": 6,
   "metadata": {},
   "outputs": [],
   "source": [
    "def get_sentiment(df:pd.DataFrame):\n",
    "    sparse_matrix = tf_idf_vectorizer.transform(df['content'])\n",
    "    df['sentiment'] = linear_model.predict(sparse_matrix)\n",
    "\n",
    "    return df"
   ]
  },
  {
   "cell_type": "code",
   "execution_count": 24,
   "metadata": {},
   "outputs": [],
   "source": [
    "# function to get weekwise sentiment scores for a dataframe containing multiple product\n",
    "# all reviews of a product must have same id\n",
    "# input: Dataframe with features: 'id', 'time', 'price', 'source', 'likes', 'helpful'\n",
    "# output: dataframe with sentiment scores for product reviews grouped by weeks\n",
    "\n",
    "def get_weekwise_sentiment_scores(df: pd.DataFrame):\n",
    "    grouped_products = df.groupby([\"id\"])\n",
    "\n",
    "    result_df = pd.DataFrame({\"id\": [], \"week\": [], \"score\": [], \"price\": []})\n",
    "    for _, product in grouped_products:\n",
    "        product = product.sort_values(\"date\").reset_index()\n",
    "        date_ranges = pd.date_range(\n",
    "            start=product[\"date\"].min(), end=product[\"date\"].max(), freq=\"7D\"\n",
    "        )\n",
    "        week_groups = []\n",
    "        for i in range(len(date_ranges) - 1):\n",
    "            start_date = date_ranges[i]\n",
    "            end_date = date_ranges[i + 1]\n",
    "            \n",
    "            temp = product[\n",
    "                (product[\"date\"] >= start_date) & (product[\"date\"] < end_date)\n",
    "            ]\n",
    "            week_groups.append(temp)\n",
    "\n",
    "        price = product.loc[0,'price']\n",
    "        if price == 0:\n",
    "            for _, row in product.iterrows():\n",
    "                if row[\"source\"] == \"flipkart\":\n",
    "                    price = row[\"price\"]\n",
    "                    break\n",
    "\n",
    "        id = int(product.loc[0,\"id\"])\n",
    "\n",
    "        week = 1\n",
    "        for group in week_groups:\n",
    "            if len(group) == 0:\n",
    "                continue\n",
    "            group = group.reset_index()\n",
    "            score = get_sentiment_score(group)\n",
    "            new_row = [{\"id\": id, \"week\": week, \"score\": score, \"price\": price}]\n",
    "            result_df = pd.concat([result_df, pd.DataFrame.from_dict(new_row)], ignore_index=True)\n",
    "            week += 1\n",
    "    return result_df"
   ]
  },
  {
   "cell_type": "code",
   "execution_count": 55,
   "metadata": {},
   "outputs": [],
   "source": [
    "df = pd.read_csv('scraped_dataset/phone5.csv').dropna()\n",
    "df['date'] = pd.to_datetime(df['time'], dayfirst=True)"
   ]
  },
  {
   "cell_type": "code",
   "execution_count": 56,
   "metadata": {},
   "outputs": [
    {
     "name": "stderr",
     "output_type": "stream",
     "text": [
      "[Parallel(n_jobs=1)]: Using backend SequentialBackend with 1 concurrent workers.\n",
      "[Parallel(n_jobs=1)]: Done 100 out of 100 | elapsed:    0.4s finished\n"
     ]
    }
   ],
   "source": [
    "df = get_sentiment(df)"
   ]
  },
  {
   "cell_type": "code",
   "execution_count": 57,
   "metadata": {},
   "outputs": [],
   "source": [
    "df = get_weekwise_sentiment_scores(df)"
   ]
  },
  {
   "cell_type": "code",
   "execution_count": 58,
   "metadata": {},
   "outputs": [
    {
     "data": {
      "text/html": [
       "<div>\n",
       "<style scoped>\n",
       "    .dataframe tbody tr th:only-of-type {\n",
       "        vertical-align: middle;\n",
       "    }\n",
       "\n",
       "    .dataframe tbody tr th {\n",
       "        vertical-align: top;\n",
       "    }\n",
       "\n",
       "    .dataframe thead th {\n",
       "        text-align: right;\n",
       "    }\n",
       "</style>\n",
       "<table border=\"1\" class=\"dataframe\">\n",
       "  <thead>\n",
       "    <tr style=\"text-align: right;\">\n",
       "      <th></th>\n",
       "      <th>id</th>\n",
       "      <th>week</th>\n",
       "      <th>score</th>\n",
       "      <th>price</th>\n",
       "    </tr>\n",
       "  </thead>\n",
       "  <tbody>\n",
       "  </tbody>\n",
       "</table>\n",
       "</div>"
      ],
      "text/plain": [
       "Empty DataFrame\n",
       "Columns: [id, week, score, price]\n",
       "Index: []"
      ]
     },
     "execution_count": 58,
     "metadata": {},
     "output_type": "execute_result"
    }
   ],
   "source": [
    "df[df['price'] == 0]"
   ]
  },
  {
   "cell_type": "code",
   "execution_count": 59,
   "metadata": {},
   "outputs": [],
   "source": [
    "df.to_csv(\"scraped_dataset/phone5_processed.csv\", index=False)"
   ]
  },
  {
   "cell_type": "code",
   "execution_count": null,
   "metadata": {},
   "outputs": [],
   "source": []
  }
 ],
 "metadata": {
  "kernelspec": {
   "display_name": "Python 3 (ipykernel)",
   "language": "python",
   "name": "python3"
  },
  "language_info": {
   "codemirror_mode": {
    "name": "ipython",
    "version": 3
   },
   "file_extension": ".py",
   "mimetype": "text/x-python",
   "name": "python",
   "nbconvert_exporter": "python",
   "pygments_lexer": "ipython3",
   "version": "3.8.10"
  }
 },
 "nbformat": 4,
 "nbformat_minor": 2
}

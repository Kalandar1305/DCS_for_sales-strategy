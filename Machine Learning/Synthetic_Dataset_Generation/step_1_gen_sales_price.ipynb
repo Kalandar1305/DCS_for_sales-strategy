{
 "cells": [
  {
   "cell_type": "code",
   "execution_count": 1,
   "id": "563a25c7",
   "metadata": {},
   "outputs": [],
   "source": [
    "import pandas as pd\n",
    "from math import ceil\n",
    "from random import randint\n"
   ]
  },
  {
   "cell_type": "code",
   "execution_count": 2,
   "id": "33584fbb",
   "metadata": {},
   "outputs": [],
   "source": [
    "def generate_sales(df):\n",
    "    if 'level_0' in df.columns:\n",
    "        df.drop('level_0', axis=1, inplace=True)\n",
    "    df.reset_index(inplace=True)\n",
    "    df['sales']=df.apply(lambda row:0,axis=1)\n",
    "    df.loc[0,'sales']=200\n",
    "    df.loc[1,'sales'] = 250\n",
    "    for i in range(2, len(df)):\n",
    "        choice = randint(1,10)\n",
    "        dif = df.loc[i-1,'score'] - df.loc[i-2, 'score']\n",
    "        if choice%2==0 or dif < 0:\n",
    "            new_dif = ceil(((dif - (-2))/(2-(-2)) ) * (500-30) + 30 )\n",
    "            if dif > 0:\n",
    "                sales = new_dif\n",
    "            else:\n",
    "                sales = new_dif\n",
    "        else:\n",
    "            sales= randint(30,501)\n",
    "        df.loc[i,'sales'] = sales\n",
    "    return df"
   ]
  },
  {
   "cell_type": "code",
   "execution_count": 3,
   "id": "ee65fcbd",
   "metadata": {},
   "outputs": [],
   "source": [
    "def generate_sales_multi_product(df):\n",
    "    temp = {}\n",
    "    for i in df.columns: \n",
    "        temp[i] = []\n",
    "\n",
    "    df_new = pd.DataFrame(temp)\n",
    "    grouped_products = df.groupby([\"id\"])\n",
    "    for _, product in grouped_products:\n",
    "        product = generate_sales(product)\n",
    "        temp_df = pd.concat([df_new, product])\n",
    "        if 'level_0' in temp_df.columns:\n",
    "            temp_df.drop(['level_0'], axis=1, inplace=True)\n",
    "        df_new = temp_df.reset_index()\n",
    "    \n",
    "    return df_new"
   ]
  },
  {
   "cell_type": "code",
   "execution_count": 4,
   "id": "0583acc5",
   "metadata": {},
   "outputs": [],
   "source": [
    "def generate_price(df:pd.DataFrame, init_price = 20000):\n",
    "    if 'level_0' in df.columns:\n",
    "        df.drop('level_0', axis=1, inplace=True)\n",
    "    df.reset_index(inplace=True)\n",
    "    if 'price' not in df.columns: \n",
    "        df['price']=df.apply(lambda row:0,axis=1)\n",
    "        df.loc[0,'price']=init_price\n",
    "        df.loc[1,'price'] = init_price\n",
    "    init_price = df.loc[0,'price']\n",
    "\n",
    "    price_range = [(init_price - (0.15 * init_price)) ,(init_price + (0.15 * init_price ))]\n",
    "    maxDif = (price_range[1] - price_range[0] ) / 10\n",
    "    for i in range(2, len(df)):\n",
    "        score_dif = df.loc[i-1,'score'] - df.loc[i-2,'score']\n",
    "        sales = df.loc[i-1,'sales']\n",
    "        price = df.loc[i-1, 'price']\n",
    "        if score_dif > 0 and sales < df['sales'].iloc[i-2]:\n",
    "            df.loc[i,'price'] = price\n",
    "        else:\n",
    "            new_price1 =ceil( ((score_dif + 1)/2) * (price_range[1] - price_range[0]) + price_range[0])\n",
    "            new_price2 = ceil(  ((sales - 30)/470) *  (price_range[1] - price_range[0]) + price_range[0] )\n",
    "\n",
    "            new_price = ceil((new_price1 + new_price2) / 2)\n",
    "            priceDif = new_price - price\n",
    "            if ( abs(priceDif)  > maxDif ):\n",
    "                if priceDif < 0:\n",
    "                    new_price = price - maxDif\n",
    "                else:\n",
    "                    new_price = price + maxDif\n",
    "            df.loc[i,'price'] = new_price\n",
    "\n",
    "    return df\n",
    "               "
   ]
  },
  {
   "cell_type": "code",
   "execution_count": 5,
   "id": "382e5afa",
   "metadata": {},
   "outputs": [],
   "source": [
    "def generate_price_multi_product(df):\n",
    "    temp = {}\n",
    "    for i in df.columns: \n",
    "        temp[i] = []\n",
    "\n",
    "    new_df = pd.DataFrame(temp)\n",
    "\n",
    "    for _, group in df.groupby(['id']):\n",
    "        group = generate_price(group)\n",
    "        new_df = pd.concat([new_df, group])\n",
    "    return new_df\n"
   ]
  },
  {
   "cell_type": "code",
   "execution_count": 37,
   "id": "a28ad557",
   "metadata": {},
   "outputs": [],
   "source": [
    "df=pd.read_csv(\"scraped_dataset/laptop3_processed.csv\")"
   ]
  },
  {
   "cell_type": "code",
   "execution_count": 38,
   "id": "6da4c741",
   "metadata": {},
   "outputs": [],
   "source": [
    "df  = generate_sales_multi_product(df)\n",
    "df = generate_price_multi_product(df)"
   ]
  },
  {
   "cell_type": "code",
   "execution_count": 39,
   "id": "2954433e",
   "metadata": {},
   "outputs": [],
   "source": [
    "index_cols = ['level_0', 'index']\n",
    "for col in index_cols:\n",
    "    if col in df:\n",
    "        df.drop([col], axis=1, inplace=True)"
   ]
  },
  {
   "cell_type": "code",
   "execution_count": 40,
   "id": "d671c8fe",
   "metadata": {},
   "outputs": [],
   "source": [
    "df.to_csv('scraped_dataset/laptop3_priced.csv', index=False)"
   ]
  },
  {
   "cell_type": "code",
   "execution_count": 32,
   "id": "252d89c7",
   "metadata": {},
   "outputs": [
    {
     "data": {
      "text/html": [
       "<div>\n",
       "<style scoped>\n",
       "    .dataframe tbody tr th:only-of-type {\n",
       "        vertical-align: middle;\n",
       "    }\n",
       "\n",
       "    .dataframe tbody tr th {\n",
       "        vertical-align: top;\n",
       "    }\n",
       "\n",
       "    .dataframe thead th {\n",
       "        text-align: right;\n",
       "    }\n",
       "</style>\n",
       "<table border=\"1\" class=\"dataframe\">\n",
       "  <thead>\n",
       "    <tr style=\"text-align: right;\">\n",
       "      <th></th>\n",
       "      <th>id</th>\n",
       "      <th>week</th>\n",
       "      <th>score</th>\n",
       "      <th>price</th>\n",
       "      <th>sales</th>\n",
       "    </tr>\n",
       "  </thead>\n",
       "  <tbody>\n",
       "    <tr>\n",
       "      <th>0</th>\n",
       "      <td>0.0</td>\n",
       "      <td>1.0</td>\n",
       "      <td>1.0</td>\n",
       "      <td>35990.0</td>\n",
       "      <td>200.0</td>\n",
       "    </tr>\n",
       "    <tr>\n",
       "      <th>1</th>\n",
       "      <td>0.0</td>\n",
       "      <td>2.0</td>\n",
       "      <td>1.0</td>\n",
       "      <td>35990.0</td>\n",
       "      <td>250.0</td>\n",
       "    </tr>\n",
       "    <tr>\n",
       "      <th>2</th>\n",
       "      <td>0.0</td>\n",
       "      <td>3.0</td>\n",
       "      <td>-1.0</td>\n",
       "      <td>35818.0</td>\n",
       "      <td>265.0</td>\n",
       "    </tr>\n",
       "    <tr>\n",
       "      <th>3</th>\n",
       "      <td>0.0</td>\n",
       "      <td>4.0</td>\n",
       "      <td>1.0</td>\n",
       "      <td>34738.3</td>\n",
       "      <td>30.0</td>\n",
       "    </tr>\n",
       "    <tr>\n",
       "      <th>4</th>\n",
       "      <td>0.0</td>\n",
       "      <td>5.0</td>\n",
       "      <td>1.0</td>\n",
       "      <td>34738.3</td>\n",
       "      <td>476.0</td>\n",
       "    </tr>\n",
       "  </tbody>\n",
       "</table>\n",
       "</div>"
      ],
      "text/plain": [
       "    id  week  score    price  sales\n",
       "0  0.0   1.0    1.0  35990.0  200.0\n",
       "1  0.0   2.0    1.0  35990.0  250.0\n",
       "2  0.0   3.0   -1.0  35818.0  265.0\n",
       "3  0.0   4.0    1.0  34738.3   30.0\n",
       "4  0.0   5.0    1.0  34738.3  476.0"
      ]
     },
     "execution_count": 32,
     "metadata": {},
     "output_type": "execute_result"
    }
   ],
   "source": [
    "df.head()"
   ]
  },
  {
   "cell_type": "code",
   "execution_count": null,
   "id": "b6c462c9",
   "metadata": {},
   "outputs": [],
   "source": []
  }
 ],
 "metadata": {
  "kernelspec": {
   "display_name": "Python 3 (ipykernel)",
   "language": "python",
   "name": "python3"
  },
  "language_info": {
   "codemirror_mode": {
    "name": "ipython",
    "version": 3
   },
   "file_extension": ".py",
   "mimetype": "text/x-python",
   "name": "python",
   "nbconvert_exporter": "python",
   "pygments_lexer": "ipython3",
   "version": "3.8.5"
  }
 },
 "nbformat": 4,
 "nbformat_minor": 5
}
